{
 "cells": [
  {
   "cell_type": "code",
   "execution_count": 5,
   "metadata": {},
   "outputs": [],
   "source": [
    "import plotly.offline as py\n",
    "from plotly.graph_objs import Scatter, Layout\n",
    "import plotly.graph_objs as go\n",
    "import pandas as pd\n",
    "import plotly_express as px"
   ]
  },
  {
   "cell_type": "code",
   "execution_count": 2,
   "metadata": {},
   "outputs": [],
   "source": [
    "data2 = pd.read_clipboard()"
   ]
  },
  {
   "cell_type": "code",
   "execution_count": 3,
   "metadata": {},
   "outputs": [
    {
     "data": {
      "text/html": [
       "<div>\n",
       "<style scoped>\n",
       "    .dataframe tbody tr th:only-of-type {\n",
       "        vertical-align: middle;\n",
       "    }\n",
       "\n",
       "    .dataframe tbody tr th {\n",
       "        vertical-align: top;\n",
       "    }\n",
       "\n",
       "    .dataframe thead th {\n",
       "        text-align: right;\n",
       "    }\n",
       "</style>\n",
       "<table border=\"1\" class=\"dataframe\">\n",
       "  <thead>\n",
       "    <tr style=\"text-align: right;\">\n",
       "      <th></th>\n",
       "      <th>区服</th>\n",
       "      <th>区服名</th>\n",
       "      <th>部队ID</th>\n",
       "      <th>角色ID</th>\n",
       "      <th>类型</th>\n",
       "      <th>武将ID</th>\n",
       "      <th>武将</th>\n",
       "      <th>武将.1</th>\n",
       "    </tr>\n",
       "  </thead>\n",
       "  <tbody>\n",
       "    <tr>\n",
       "      <td>0</td>\n",
       "      <td>52</td>\n",
       "      <td>F1-大秦帝国</td>\n",
       "      <td>11358</td>\n",
       "      <td>6700155</td>\n",
       "      <td>混服</td>\n",
       "      <td>79739</td>\n",
       "      <td>1059</td>\n",
       "      <td>嬴政</td>\n",
       "    </tr>\n",
       "    <tr>\n",
       "      <td>1</td>\n",
       "      <td>52</td>\n",
       "      <td>F1-大秦帝国</td>\n",
       "      <td>11358</td>\n",
       "      <td>6700155</td>\n",
       "      <td>混服</td>\n",
       "      <td>78046</td>\n",
       "      <td>1001</td>\n",
       "      <td>项羽</td>\n",
       "    </tr>\n",
       "    <tr>\n",
       "      <td>2</td>\n",
       "      <td>52</td>\n",
       "      <td>F1-大秦帝国</td>\n",
       "      <td>11358</td>\n",
       "      <td>6700155</td>\n",
       "      <td>混服</td>\n",
       "      <td>78130</td>\n",
       "      <td>1003</td>\n",
       "      <td>虞姬</td>\n",
       "    </tr>\n",
       "    <tr>\n",
       "      <td>3</td>\n",
       "      <td>52</td>\n",
       "      <td>F1-大秦帝国</td>\n",
       "      <td>11358</td>\n",
       "      <td>6700155</td>\n",
       "      <td>混服</td>\n",
       "      <td>135589</td>\n",
       "      <td>1076</td>\n",
       "      <td>商鞅</td>\n",
       "    </tr>\n",
       "    <tr>\n",
       "      <td>4</td>\n",
       "      <td>52</td>\n",
       "      <td>F1-大秦帝国</td>\n",
       "      <td>11358</td>\n",
       "      <td>6700155</td>\n",
       "      <td>混服</td>\n",
       "      <td>82565</td>\n",
       "      <td>1057</td>\n",
       "      <td>芈月</td>\n",
       "    </tr>\n",
       "  </tbody>\n",
       "</table>\n",
       "</div>"
      ],
      "text/plain": [
       "   区服      区服名   部队ID     角色ID  类型    武将ID    武将 武将.1\n",
       "0  52  F1-大秦帝国  11358  6700155  混服   79739  1059   嬴政\n",
       "1  52  F1-大秦帝国  11358  6700155  混服   78046  1001   项羽\n",
       "2  52  F1-大秦帝国  11358  6700155  混服   78130  1003   虞姬\n",
       "3  52  F1-大秦帝国  11358  6700155  混服  135589  1076   商鞅\n",
       "4  52  F1-大秦帝国  11358  6700155  混服   82565  1057   芈月"
      ]
     },
     "execution_count": 3,
     "metadata": {},
     "output_type": "execute_result"
    }
   ],
   "source": [
    "data2.head()"
   ]
  },
  {
   "cell_type": "code",
   "execution_count": 30,
   "metadata": {},
   "outputs": [],
   "source": [
    "data3 = data2.loc[:,['类型','角色ID','武将']]"
   ]
  },
  {
   "cell_type": "code",
   "execution_count": 27,
   "metadata": {},
   "outputs": [
    {
     "data": {
      "text/plain": [
       "类型      object\n",
       "角色ID    object\n",
       "武将.1    object\n",
       "dtype: object"
      ]
     },
     "execution_count": 27,
     "metadata": {},
     "output_type": "execute_result"
    }
   ],
   "source": [
    "data3['角色ID'] = data3['角色ID'].astype('str')\n",
    "data3.dtypes"
   ]
  },
  {
   "cell_type": "code",
   "execution_count": 28,
   "metadata": {},
   "outputs": [
    {
     "ename": "ValueError",
     "evalue": "\n    Invalid element(s) received for the 'color' property of parcoords.line\n        Invalid elements include: ['嬴政', '项羽', '虞姬', '商鞅', '芈月', '赢公主', '乐毅', '李牧', '王翦', '伍子胥']\n\n    The 'color' property is a color and may be specified as:\n      - A hex string (e.g. '#ff0000')\n      - An rgb/rgba string (e.g. 'rgb(255,0,0)')\n      - An hsl/hsla string (e.g. 'hsl(0,100%,50%)')\n      - An hsv/hsva string (e.g. 'hsv(0,100%,100%)')\n      - A named CSS color:\n            aliceblue, antiquewhite, aqua, aquamarine, azure,\n            beige, bisque, black, blanchedalmond, blue,\n            blueviolet, brown, burlywood, cadetblue,\n            chartreuse, chocolate, coral, cornflowerblue,\n            cornsilk, crimson, cyan, darkblue, darkcyan,\n            darkgoldenrod, darkgray, darkgrey, darkgreen,\n            darkkhaki, darkmagenta, darkolivegreen, darkorange,\n            darkorchid, darkred, darksalmon, darkseagreen,\n            darkslateblue, darkslategray, darkslategrey,\n            darkturquoise, darkviolet, deeppink, deepskyblue,\n            dimgray, dimgrey, dodgerblue, firebrick,\n            floralwhite, forestgreen, fuchsia, gainsboro,\n            ghostwhite, gold, goldenrod, gray, grey, green,\n            greenyellow, honeydew, hotpink, indianred, indigo,\n            ivory, khaki, lavender, lavenderblush, lawngreen,\n            lemonchiffon, lightblue, lightcoral, lightcyan,\n            lightgoldenrodyellow, lightgray, lightgrey,\n            lightgreen, lightpink, lightsalmon, lightseagreen,\n            lightskyblue, lightslategray, lightslategrey,\n            lightsteelblue, lightyellow, lime, limegreen,\n            linen, magenta, maroon, mediumaquamarine,\n            mediumblue, mediumorchid, mediumpurple,\n            mediumseagreen, mediumslateblue, mediumspringgreen,\n            mediumturquoise, mediumvioletred, midnightblue,\n            mintcream, mistyrose, moccasin, navajowhite, navy,\n            oldlace, olive, olivedrab, orange, orangered,\n            orchid, palegoldenrod, palegreen, paleturquoise,\n            palevioletred, papayawhip, peachpuff, peru, pink,\n            plum, powderblue, purple, red, rosybrown,\n            royalblue, rebeccapurple, saddlebrown, salmon,\n            sandybrown, seagreen, seashell, sienna, silver,\n            skyblue, slateblue, slategray, slategrey, snow,\n            springgreen, steelblue, tan, teal, thistle, tomato,\n            turquoise, violet, wheat, white, whitesmoke,\n            yellow, yellowgreen\n      - A number that will be interpreted as a color\n        according to parcoords.line.colorscale\n      - A list or array of any of the above",
     "output_type": "error",
     "traceback": [
      "\u001b[1;31m---------------------------------------------------------------------------\u001b[0m",
      "\u001b[1;31mValueError\u001b[0m                                Traceback (most recent call last)",
      "\u001b[1;32m<ipython-input-28-bb3b18739bb2>\u001b[0m in \u001b[0;36m<module>\u001b[1;34m\u001b[0m\n\u001b[0;32m      1\u001b[0m px.parallel_coordinates(data3, color=\"武将.1\",color_continuous_scale=px.colors.diverging.\n\u001b[1;32m----> 2\u001b[1;33m             Tealrose, color_continuous_midpoint=2)\n\u001b[0m",
      "\u001b[1;32mD:\\ProgramData\\Anaconda2\\envs\\py3\\lib\\site-packages\\plotly\\express\\_chart_types.py\u001b[0m in \u001b[0;36mparallel_coordinates\u001b[1;34m(data_frame, dimensions, color, labels, color_continuous_scale, range_color, color_continuous_midpoint, title, template, width, height)\u001b[0m\n\u001b[0;32m   1171\u001b[0m     \u001b[0mof\u001b[0m \u001b[0mthe\u001b[0m\u001b[0;31m \u001b[0m\u001b[0;31m`\u001b[0m\u001b[0mdimensions\u001b[0m\u001b[0;31m`\u001b[0m\u001b[1;33m.\u001b[0m\u001b[1;33m\u001b[0m\u001b[1;33m\u001b[0m\u001b[0m\n\u001b[0;32m   1172\u001b[0m     \"\"\"\n\u001b[1;32m-> 1173\u001b[1;33m     \u001b[1;32mreturn\u001b[0m \u001b[0mmake_figure\u001b[0m\u001b[1;33m(\u001b[0m\u001b[0margs\u001b[0m\u001b[1;33m=\u001b[0m\u001b[0mlocals\u001b[0m\u001b[1;33m(\u001b[0m\u001b[1;33m)\u001b[0m\u001b[1;33m,\u001b[0m \u001b[0mconstructor\u001b[0m\u001b[1;33m=\u001b[0m\u001b[0mgo\u001b[0m\u001b[1;33m.\u001b[0m\u001b[0mParcoords\u001b[0m\u001b[1;33m)\u001b[0m\u001b[1;33m\u001b[0m\u001b[1;33m\u001b[0m\u001b[0m\n\u001b[0m\u001b[0;32m   1174\u001b[0m \u001b[1;33m\u001b[0m\u001b[0m\n\u001b[0;32m   1175\u001b[0m \u001b[1;33m\u001b[0m\u001b[0m\n",
      "\u001b[1;32mD:\\ProgramData\\Anaconda2\\envs\\py3\\lib\\site-packages\\plotly\\express\\_core.py\u001b[0m in \u001b[0;36mmake_figure\u001b[1;34m(args, constructor, trace_patch, layout_patch)\u001b[0m\n\u001b[0;32m   1317\u001b[0m                 \u001b[0margs\u001b[0m\u001b[1;33m,\u001b[0m \u001b[0mtrace_spec\u001b[0m\u001b[1;33m,\u001b[0m \u001b[0mgroup\u001b[0m\u001b[1;33m,\u001b[0m \u001b[0mmapping_labels\u001b[0m\u001b[1;33m.\u001b[0m\u001b[0mcopy\u001b[0m\u001b[1;33m(\u001b[0m\u001b[1;33m)\u001b[0m\u001b[1;33m,\u001b[0m \u001b[0msizeref\u001b[0m\u001b[1;33m\u001b[0m\u001b[1;33m\u001b[0m\u001b[0m\n\u001b[0;32m   1318\u001b[0m             )\n\u001b[1;32m-> 1319\u001b[1;33m             \u001b[0mtrace\u001b[0m\u001b[1;33m.\u001b[0m\u001b[0mupdate\u001b[0m\u001b[1;33m(\u001b[0m\u001b[0mpatch\u001b[0m\u001b[1;33m)\u001b[0m\u001b[1;33m\u001b[0m\u001b[1;33m\u001b[0m\u001b[0m\n\u001b[0m\u001b[0;32m   1320\u001b[0m             \u001b[1;32mif\u001b[0m \u001b[0mfit_results\u001b[0m \u001b[1;32mis\u001b[0m \u001b[1;32mnot\u001b[0m \u001b[1;32mNone\u001b[0m\u001b[1;33m:\u001b[0m\u001b[1;33m\u001b[0m\u001b[1;33m\u001b[0m\u001b[0m\n\u001b[0;32m   1321\u001b[0m                 \u001b[0mtrendline_rows\u001b[0m\u001b[1;33m.\u001b[0m\u001b[0mappend\u001b[0m\u001b[1;33m(\u001b[0m\u001b[0mmapping_labels\u001b[0m\u001b[1;33m.\u001b[0m\u001b[0mcopy\u001b[0m\u001b[1;33m(\u001b[0m\u001b[1;33m)\u001b[0m\u001b[1;33m)\u001b[0m\u001b[1;33m\u001b[0m\u001b[1;33m\u001b[0m\u001b[0m\n",
      "\u001b[1;32mD:\\ProgramData\\Anaconda2\\envs\\py3\\lib\\site-packages\\plotly\\basedatatypes.py\u001b[0m in \u001b[0;36mupdate\u001b[1;34m(self, dict1, overwrite, **kwargs)\u001b[0m\n\u001b[0;32m   3697\u001b[0m                 \u001b[0mBaseFigure\u001b[0m\u001b[1;33m.\u001b[0m\u001b[0m_perform_update\u001b[0m\u001b[1;33m(\u001b[0m\u001b[0mself\u001b[0m\u001b[1;33m,\u001b[0m \u001b[0mkwargs\u001b[0m\u001b[1;33m,\u001b[0m \u001b[0moverwrite\u001b[0m\u001b[1;33m=\u001b[0m\u001b[0moverwrite\u001b[0m\u001b[1;33m)\u001b[0m\u001b[1;33m\u001b[0m\u001b[1;33m\u001b[0m\u001b[0m\n\u001b[0;32m   3698\u001b[0m         \u001b[1;32melse\u001b[0m\u001b[1;33m:\u001b[0m\u001b[1;33m\u001b[0m\u001b[1;33m\u001b[0m\u001b[0m\n\u001b[1;32m-> 3699\u001b[1;33m             \u001b[0mBaseFigure\u001b[0m\u001b[1;33m.\u001b[0m\u001b[0m_perform_update\u001b[0m\u001b[1;33m(\u001b[0m\u001b[0mself\u001b[0m\u001b[1;33m,\u001b[0m \u001b[0mdict1\u001b[0m\u001b[1;33m,\u001b[0m \u001b[0moverwrite\u001b[0m\u001b[1;33m=\u001b[0m\u001b[0moverwrite\u001b[0m\u001b[1;33m)\u001b[0m\u001b[1;33m\u001b[0m\u001b[1;33m\u001b[0m\u001b[0m\n\u001b[0m\u001b[0;32m   3700\u001b[0m             \u001b[0mBaseFigure\u001b[0m\u001b[1;33m.\u001b[0m\u001b[0m_perform_update\u001b[0m\u001b[1;33m(\u001b[0m\u001b[0mself\u001b[0m\u001b[1;33m,\u001b[0m \u001b[0mkwargs\u001b[0m\u001b[1;33m,\u001b[0m \u001b[0moverwrite\u001b[0m\u001b[1;33m=\u001b[0m\u001b[0moverwrite\u001b[0m\u001b[1;33m)\u001b[0m\u001b[1;33m\u001b[0m\u001b[1;33m\u001b[0m\u001b[0m\n\u001b[0;32m   3701\u001b[0m \u001b[1;33m\u001b[0m\u001b[0m\n",
      "\u001b[1;32mD:\\ProgramData\\Anaconda2\\envs\\py3\\lib\\site-packages\\plotly\\basedatatypes.py\u001b[0m in \u001b[0;36m_perform_update\u001b[1;34m(plotly_obj, update_obj, overwrite)\u001b[0m\n\u001b[0;32m   2896\u001b[0m                     \u001b[1;31m# Update compound objects recursively\u001b[0m\u001b[1;33m\u001b[0m\u001b[1;33m\u001b[0m\u001b[1;33m\u001b[0m\u001b[0m\n\u001b[0;32m   2897\u001b[0m                     \u001b[1;31m# plotly_obj[key].update(val)\u001b[0m\u001b[1;33m\u001b[0m\u001b[1;33m\u001b[0m\u001b[1;33m\u001b[0m\u001b[0m\n\u001b[1;32m-> 2898\u001b[1;33m                     \u001b[0mBaseFigure\u001b[0m\u001b[1;33m.\u001b[0m\u001b[0m_perform_update\u001b[0m\u001b[1;33m(\u001b[0m\u001b[0mplotly_obj\u001b[0m\u001b[1;33m[\u001b[0m\u001b[0mkey\u001b[0m\u001b[1;33m]\u001b[0m\u001b[1;33m,\u001b[0m \u001b[0mval\u001b[0m\u001b[1;33m)\u001b[0m\u001b[1;33m\u001b[0m\u001b[1;33m\u001b[0m\u001b[0m\n\u001b[0m\u001b[0;32m   2899\u001b[0m                 \u001b[1;32melif\u001b[0m \u001b[0misinstance\u001b[0m\u001b[1;33m(\u001b[0m\u001b[0mvalidator\u001b[0m\u001b[1;33m,\u001b[0m \u001b[0mCompoundArrayValidator\u001b[0m\u001b[1;33m)\u001b[0m\u001b[1;33m:\u001b[0m\u001b[1;33m\u001b[0m\u001b[1;33m\u001b[0m\u001b[0m\n\u001b[0;32m   2900\u001b[0m                     \u001b[1;32mif\u001b[0m \u001b[0mplotly_obj\u001b[0m\u001b[1;33m[\u001b[0m\u001b[0mkey\u001b[0m\u001b[1;33m]\u001b[0m\u001b[1;33m:\u001b[0m\u001b[1;33m\u001b[0m\u001b[1;33m\u001b[0m\u001b[0m\n",
      "\u001b[1;32mD:\\ProgramData\\Anaconda2\\envs\\py3\\lib\\site-packages\\plotly\\basedatatypes.py\u001b[0m in \u001b[0;36m_perform_update\u001b[1;34m(plotly_obj, update_obj, overwrite)\u001b[0m\n\u001b[0;32m   2917\u001b[0m                 \u001b[1;32melse\u001b[0m\u001b[1;33m:\u001b[0m\u001b[1;33m\u001b[0m\u001b[1;33m\u001b[0m\u001b[0m\n\u001b[0;32m   2918\u001b[0m                     \u001b[1;31m# Assign non-compound value\u001b[0m\u001b[1;33m\u001b[0m\u001b[1;33m\u001b[0m\u001b[1;33m\u001b[0m\u001b[0m\n\u001b[1;32m-> 2919\u001b[1;33m                     \u001b[0mplotly_obj\u001b[0m\u001b[1;33m[\u001b[0m\u001b[0mkey\u001b[0m\u001b[1;33m]\u001b[0m \u001b[1;33m=\u001b[0m \u001b[0mval\u001b[0m\u001b[1;33m\u001b[0m\u001b[1;33m\u001b[0m\u001b[0m\n\u001b[0m\u001b[0;32m   2920\u001b[0m \u001b[1;33m\u001b[0m\u001b[0m\n\u001b[0;32m   2921\u001b[0m         \u001b[1;32melif\u001b[0m \u001b[0misinstance\u001b[0m\u001b[1;33m(\u001b[0m\u001b[0mplotly_obj\u001b[0m\u001b[1;33m,\u001b[0m \u001b[0mtuple\u001b[0m\u001b[1;33m)\u001b[0m\u001b[1;33m:\u001b[0m\u001b[1;33m\u001b[0m\u001b[1;33m\u001b[0m\u001b[0m\n",
      "\u001b[1;32mD:\\ProgramData\\Anaconda2\\envs\\py3\\lib\\site-packages\\plotly\\basedatatypes.py\u001b[0m in \u001b[0;36m__setitem__\u001b[1;34m(self, prop, value)\u001b[0m\n\u001b[0;32m   3488\u001b[0m             \u001b[1;31m# ### Handle simple property ###\u001b[0m\u001b[1;33m\u001b[0m\u001b[1;33m\u001b[0m\u001b[1;33m\u001b[0m\u001b[0m\n\u001b[0;32m   3489\u001b[0m             \u001b[1;32melse\u001b[0m\u001b[1;33m:\u001b[0m\u001b[1;33m\u001b[0m\u001b[1;33m\u001b[0m\u001b[0m\n\u001b[1;32m-> 3490\u001b[1;33m                 \u001b[0mself\u001b[0m\u001b[1;33m.\u001b[0m\u001b[0m_set_prop\u001b[0m\u001b[1;33m(\u001b[0m\u001b[0mprop\u001b[0m\u001b[1;33m,\u001b[0m \u001b[0mvalue\u001b[0m\u001b[1;33m)\u001b[0m\u001b[1;33m\u001b[0m\u001b[1;33m\u001b[0m\u001b[0m\n\u001b[0m\u001b[0;32m   3491\u001b[0m \u001b[1;33m\u001b[0m\u001b[0m\n\u001b[0;32m   3492\u001b[0m         \u001b[1;31m# Handle non-scalar case\u001b[0m\u001b[1;33m\u001b[0m\u001b[1;33m\u001b[0m\u001b[1;33m\u001b[0m\u001b[0m\n",
      "\u001b[1;32mD:\\ProgramData\\Anaconda2\\envs\\py3\\lib\\site-packages\\plotly\\basedatatypes.py\u001b[0m in \u001b[0;36m_set_prop\u001b[1;34m(self, prop, val)\u001b[0m\n\u001b[0;32m   3775\u001b[0m                 \u001b[1;32mreturn\u001b[0m\u001b[1;33m\u001b[0m\u001b[1;33m\u001b[0m\u001b[0m\n\u001b[0;32m   3776\u001b[0m             \u001b[1;32melse\u001b[0m\u001b[1;33m:\u001b[0m\u001b[1;33m\u001b[0m\u001b[1;33m\u001b[0m\u001b[0m\n\u001b[1;32m-> 3777\u001b[1;33m                 \u001b[1;32mraise\u001b[0m \u001b[0merr\u001b[0m\u001b[1;33m\u001b[0m\u001b[1;33m\u001b[0m\u001b[0m\n\u001b[0m\u001b[0;32m   3778\u001b[0m \u001b[1;33m\u001b[0m\u001b[0m\n\u001b[0;32m   3779\u001b[0m         \u001b[1;31m# val is None\u001b[0m\u001b[1;33m\u001b[0m\u001b[1;33m\u001b[0m\u001b[1;33m\u001b[0m\u001b[0m\n",
      "\u001b[1;32mD:\\ProgramData\\Anaconda2\\envs\\py3\\lib\\site-packages\\plotly\\basedatatypes.py\u001b[0m in \u001b[0;36m_set_prop\u001b[1;34m(self, prop, val)\u001b[0m\n\u001b[0;32m   3770\u001b[0m         \u001b[0mvalidator\u001b[0m \u001b[1;33m=\u001b[0m \u001b[0mself\u001b[0m\u001b[1;33m.\u001b[0m\u001b[0m_validators\u001b[0m\u001b[1;33m.\u001b[0m\u001b[0mget\u001b[0m\u001b[1;33m(\u001b[0m\u001b[0mprop\u001b[0m\u001b[1;33m)\u001b[0m\u001b[1;33m\u001b[0m\u001b[1;33m\u001b[0m\u001b[0m\n\u001b[0;32m   3771\u001b[0m         \u001b[1;32mtry\u001b[0m\u001b[1;33m:\u001b[0m\u001b[1;33m\u001b[0m\u001b[1;33m\u001b[0m\u001b[0m\n\u001b[1;32m-> 3772\u001b[1;33m             \u001b[0mval\u001b[0m \u001b[1;33m=\u001b[0m \u001b[0mvalidator\u001b[0m\u001b[1;33m.\u001b[0m\u001b[0mvalidate_coerce\u001b[0m\u001b[1;33m(\u001b[0m\u001b[0mval\u001b[0m\u001b[1;33m)\u001b[0m\u001b[1;33m\u001b[0m\u001b[1;33m\u001b[0m\u001b[0m\n\u001b[0m\u001b[0;32m   3773\u001b[0m         \u001b[1;32mexcept\u001b[0m \u001b[0mValueError\u001b[0m \u001b[1;32mas\u001b[0m \u001b[0merr\u001b[0m\u001b[1;33m:\u001b[0m\u001b[1;33m\u001b[0m\u001b[1;33m\u001b[0m\u001b[0m\n\u001b[0;32m   3774\u001b[0m             \u001b[1;32mif\u001b[0m \u001b[0mself\u001b[0m\u001b[1;33m.\u001b[0m\u001b[0m_skip_invalid\u001b[0m\u001b[1;33m:\u001b[0m\u001b[1;33m\u001b[0m\u001b[1;33m\u001b[0m\u001b[0m\n",
      "\u001b[1;32mD:\\ProgramData\\Anaconda2\\envs\\py3\\lib\\site-packages\\_plotly_utils\\basevalidators.py\u001b[0m in \u001b[0;36mvalidate_coerce\u001b[1;34m(self, v, should_raise)\u001b[0m\n\u001b[0;32m   1337\u001b[0m \u001b[1;33m\u001b[0m\u001b[0m\n\u001b[0;32m   1338\u001b[0m                 \u001b[1;32mif\u001b[0m \u001b[0minvalid_els\u001b[0m \u001b[1;32mand\u001b[0m \u001b[0mshould_raise\u001b[0m\u001b[1;33m:\u001b[0m\u001b[1;33m\u001b[0m\u001b[1;33m\u001b[0m\u001b[0m\n\u001b[1;32m-> 1339\u001b[1;33m                     \u001b[0mself\u001b[0m\u001b[1;33m.\u001b[0m\u001b[0mraise_invalid_elements\u001b[0m\u001b[1;33m(\u001b[0m\u001b[0minvalid_els\u001b[0m\u001b[1;33m)\u001b[0m\u001b[1;33m\u001b[0m\u001b[1;33m\u001b[0m\u001b[0m\n\u001b[0m\u001b[0;32m   1340\u001b[0m \u001b[1;33m\u001b[0m\u001b[0m\n\u001b[0;32m   1341\u001b[0m                 \u001b[1;31m# ### Check that elements have valid colors types ###\u001b[0m\u001b[1;33m\u001b[0m\u001b[1;33m\u001b[0m\u001b[1;33m\u001b[0m\u001b[0m\n",
      "\u001b[1;32mD:\\ProgramData\\Anaconda2\\envs\\py3\\lib\\site-packages\\_plotly_utils\\basevalidators.py\u001b[0m in \u001b[0;36mraise_invalid_elements\u001b[1;34m(self, invalid_els)\u001b[0m\n\u001b[0;32m    296\u001b[0m                     \u001b[0mpname\u001b[0m\u001b[1;33m=\u001b[0m\u001b[0mself\u001b[0m\u001b[1;33m.\u001b[0m\u001b[0mparent_name\u001b[0m\u001b[1;33m,\u001b[0m\u001b[1;33m\u001b[0m\u001b[1;33m\u001b[0m\u001b[0m\n\u001b[0;32m    297\u001b[0m                     \u001b[0minvalid\u001b[0m\u001b[1;33m=\u001b[0m\u001b[0minvalid_els\u001b[0m\u001b[1;33m[\u001b[0m\u001b[1;33m:\u001b[0m\u001b[1;36m10\u001b[0m\u001b[1;33m]\u001b[0m\u001b[1;33m,\u001b[0m\u001b[1;33m\u001b[0m\u001b[1;33m\u001b[0m\u001b[0m\n\u001b[1;32m--> 298\u001b[1;33m                     \u001b[0mvalid_clr_desc\u001b[0m\u001b[1;33m=\u001b[0m\u001b[0mself\u001b[0m\u001b[1;33m.\u001b[0m\u001b[0mdescription\u001b[0m\u001b[1;33m(\u001b[0m\u001b[1;33m)\u001b[0m\u001b[1;33m,\u001b[0m\u001b[1;33m\u001b[0m\u001b[1;33m\u001b[0m\u001b[0m\n\u001b[0m\u001b[0;32m    299\u001b[0m                 )\n\u001b[0;32m    300\u001b[0m             )\n",
      "\u001b[1;31mValueError\u001b[0m: \n    Invalid element(s) received for the 'color' property of parcoords.line\n        Invalid elements include: ['嬴政', '项羽', '虞姬', '商鞅', '芈月', '赢公主', '乐毅', '李牧', '王翦', '伍子胥']\n\n    The 'color' property is a color and may be specified as:\n      - A hex string (e.g. '#ff0000')\n      - An rgb/rgba string (e.g. 'rgb(255,0,0)')\n      - An hsl/hsla string (e.g. 'hsl(0,100%,50%)')\n      - An hsv/hsva string (e.g. 'hsv(0,100%,100%)')\n      - A named CSS color:\n            aliceblue, antiquewhite, aqua, aquamarine, azure,\n            beige, bisque, black, blanchedalmond, blue,\n            blueviolet, brown, burlywood, cadetblue,\n            chartreuse, chocolate, coral, cornflowerblue,\n            cornsilk, crimson, cyan, darkblue, darkcyan,\n            darkgoldenrod, darkgray, darkgrey, darkgreen,\n            darkkhaki, darkmagenta, darkolivegreen, darkorange,\n            darkorchid, darkred, darksalmon, darkseagreen,\n            darkslateblue, darkslategray, darkslategrey,\n            darkturquoise, darkviolet, deeppink, deepskyblue,\n            dimgray, dimgrey, dodgerblue, firebrick,\n            floralwhite, forestgreen, fuchsia, gainsboro,\n            ghostwhite, gold, goldenrod, gray, grey, green,\n            greenyellow, honeydew, hotpink, indianred, indigo,\n            ivory, khaki, lavender, lavenderblush, lawngreen,\n            lemonchiffon, lightblue, lightcoral, lightcyan,\n            lightgoldenrodyellow, lightgray, lightgrey,\n            lightgreen, lightpink, lightsalmon, lightseagreen,\n            lightskyblue, lightslategray, lightslategrey,\n            lightsteelblue, lightyellow, lime, limegreen,\n            linen, magenta, maroon, mediumaquamarine,\n            mediumblue, mediumorchid, mediumpurple,\n            mediumseagreen, mediumslateblue, mediumspringgreen,\n            mediumturquoise, mediumvioletred, midnightblue,\n            mintcream, mistyrose, moccasin, navajowhite, navy,\n            oldlace, olive, olivedrab, orange, orangered,\n            orchid, palegoldenrod, palegreen, paleturquoise,\n            palevioletred, papayawhip, peachpuff, peru, pink,\n            plum, powderblue, purple, red, rosybrown,\n            royalblue, rebeccapurple, saddlebrown, salmon,\n            sandybrown, seagreen, seashell, sienna, silver,\n            skyblue, slateblue, slategray, slategrey, snow,\n            springgreen, steelblue, tan, teal, thistle, tomato,\n            turquoise, violet, wheat, white, whitesmoke,\n            yellow, yellowgreen\n      - A number that will be interpreted as a color\n        according to parcoords.line.colorscale\n      - A list or array of any of the above"
     ]
    }
   ],
   "source": [
    "px.parallel_coordinates(data3, color=\"武将.1\",color_continuous_scale=px.colors.diverging.\n",
    "            Tealrose, color_continuous_midpoint=2)"
   ]
  },
  {
   "cell_type": "code",
   "execution_count": 38,
   "metadata": {},
   "outputs": [
    {
     "data": {
      "application/vnd.plotly.v1+json": {
       "config": {
        "plotlyServerURL": "https://plot.ly"
       },
       "data": [],
       "layout": {
        "barmode": "relative",
        "legend": {
         "tracegroupgap": 0
        },
        "margin": {
         "t": 60
        },
        "polar": {
         "angularaxis": {
          "direction": "clockwise",
          "rotation": 90
         }
        },
        "template": {
         "data": {
          "bar": [
           {
            "error_x": {
             "color": "#2a3f5f"
            },
            "error_y": {
             "color": "#2a3f5f"
            },
            "marker": {
             "line": {
              "color": "#E5ECF6",
              "width": 0.5
             }
            },
            "type": "bar"
           }
          ],
          "barpolar": [
           {
            "marker": {
             "line": {
              "color": "#E5ECF6",
              "width": 0.5
             }
            },
            "type": "barpolar"
           }
          ],
          "carpet": [
           {
            "aaxis": {
             "endlinecolor": "#2a3f5f",
             "gridcolor": "white",
             "linecolor": "white",
             "minorgridcolor": "white",
             "startlinecolor": "#2a3f5f"
            },
            "baxis": {
             "endlinecolor": "#2a3f5f",
             "gridcolor": "white",
             "linecolor": "white",
             "minorgridcolor": "white",
             "startlinecolor": "#2a3f5f"
            },
            "type": "carpet"
           }
          ],
          "choropleth": [
           {
            "colorbar": {
             "outlinewidth": 0,
             "ticks": ""
            },
            "type": "choropleth"
           }
          ],
          "contour": [
           {
            "colorbar": {
             "outlinewidth": 0,
             "ticks": ""
            },
            "colorscale": [
             [
              0,
              "#0d0887"
             ],
             [
              0.1111111111111111,
              "#46039f"
             ],
             [
              0.2222222222222222,
              "#7201a8"
             ],
             [
              0.3333333333333333,
              "#9c179e"
             ],
             [
              0.4444444444444444,
              "#bd3786"
             ],
             [
              0.5555555555555556,
              "#d8576b"
             ],
             [
              0.6666666666666666,
              "#ed7953"
             ],
             [
              0.7777777777777778,
              "#fb9f3a"
             ],
             [
              0.8888888888888888,
              "#fdca26"
             ],
             [
              1,
              "#f0f921"
             ]
            ],
            "type": "contour"
           }
          ],
          "contourcarpet": [
           {
            "colorbar": {
             "outlinewidth": 0,
             "ticks": ""
            },
            "type": "contourcarpet"
           }
          ],
          "heatmap": [
           {
            "colorbar": {
             "outlinewidth": 0,
             "ticks": ""
            },
            "colorscale": [
             [
              0,
              "#0d0887"
             ],
             [
              0.1111111111111111,
              "#46039f"
             ],
             [
              0.2222222222222222,
              "#7201a8"
             ],
             [
              0.3333333333333333,
              "#9c179e"
             ],
             [
              0.4444444444444444,
              "#bd3786"
             ],
             [
              0.5555555555555556,
              "#d8576b"
             ],
             [
              0.6666666666666666,
              "#ed7953"
             ],
             [
              0.7777777777777778,
              "#fb9f3a"
             ],
             [
              0.8888888888888888,
              "#fdca26"
             ],
             [
              1,
              "#f0f921"
             ]
            ],
            "type": "heatmap"
           }
          ],
          "heatmapgl": [
           {
            "colorbar": {
             "outlinewidth": 0,
             "ticks": ""
            },
            "colorscale": [
             [
              0,
              "#0d0887"
             ],
             [
              0.1111111111111111,
              "#46039f"
             ],
             [
              0.2222222222222222,
              "#7201a8"
             ],
             [
              0.3333333333333333,
              "#9c179e"
             ],
             [
              0.4444444444444444,
              "#bd3786"
             ],
             [
              0.5555555555555556,
              "#d8576b"
             ],
             [
              0.6666666666666666,
              "#ed7953"
             ],
             [
              0.7777777777777778,
              "#fb9f3a"
             ],
             [
              0.8888888888888888,
              "#fdca26"
             ],
             [
              1,
              "#f0f921"
             ]
            ],
            "type": "heatmapgl"
           }
          ],
          "histogram": [
           {
            "marker": {
             "colorbar": {
              "outlinewidth": 0,
              "ticks": ""
             }
            },
            "type": "histogram"
           }
          ],
          "histogram2d": [
           {
            "colorbar": {
             "outlinewidth": 0,
             "ticks": ""
            },
            "colorscale": [
             [
              0,
              "#0d0887"
             ],
             [
              0.1111111111111111,
              "#46039f"
             ],
             [
              0.2222222222222222,
              "#7201a8"
             ],
             [
              0.3333333333333333,
              "#9c179e"
             ],
             [
              0.4444444444444444,
              "#bd3786"
             ],
             [
              0.5555555555555556,
              "#d8576b"
             ],
             [
              0.6666666666666666,
              "#ed7953"
             ],
             [
              0.7777777777777778,
              "#fb9f3a"
             ],
             [
              0.8888888888888888,
              "#fdca26"
             ],
             [
              1,
              "#f0f921"
             ]
            ],
            "type": "histogram2d"
           }
          ],
          "histogram2dcontour": [
           {
            "colorbar": {
             "outlinewidth": 0,
             "ticks": ""
            },
            "colorscale": [
             [
              0,
              "#0d0887"
             ],
             [
              0.1111111111111111,
              "#46039f"
             ],
             [
              0.2222222222222222,
              "#7201a8"
             ],
             [
              0.3333333333333333,
              "#9c179e"
             ],
             [
              0.4444444444444444,
              "#bd3786"
             ],
             [
              0.5555555555555556,
              "#d8576b"
             ],
             [
              0.6666666666666666,
              "#ed7953"
             ],
             [
              0.7777777777777778,
              "#fb9f3a"
             ],
             [
              0.8888888888888888,
              "#fdca26"
             ],
             [
              1,
              "#f0f921"
             ]
            ],
            "type": "histogram2dcontour"
           }
          ],
          "mesh3d": [
           {
            "colorbar": {
             "outlinewidth": 0,
             "ticks": ""
            },
            "type": "mesh3d"
           }
          ],
          "parcoords": [
           {
            "line": {
             "colorbar": {
              "outlinewidth": 0,
              "ticks": ""
             }
            },
            "type": "parcoords"
           }
          ],
          "pie": [
           {
            "automargin": true,
            "type": "pie"
           }
          ],
          "scatter": [
           {
            "marker": {
             "colorbar": {
              "outlinewidth": 0,
              "ticks": ""
             }
            },
            "type": "scatter"
           }
          ],
          "scatter3d": [
           {
            "line": {
             "colorbar": {
              "outlinewidth": 0,
              "ticks": ""
             }
            },
            "marker": {
             "colorbar": {
              "outlinewidth": 0,
              "ticks": ""
             }
            },
            "type": "scatter3d"
           }
          ],
          "scattercarpet": [
           {
            "marker": {
             "colorbar": {
              "outlinewidth": 0,
              "ticks": ""
             }
            },
            "type": "scattercarpet"
           }
          ],
          "scattergeo": [
           {
            "marker": {
             "colorbar": {
              "outlinewidth": 0,
              "ticks": ""
             }
            },
            "type": "scattergeo"
           }
          ],
          "scattergl": [
           {
            "marker": {
             "colorbar": {
              "outlinewidth": 0,
              "ticks": ""
             }
            },
            "type": "scattergl"
           }
          ],
          "scattermapbox": [
           {
            "marker": {
             "colorbar": {
              "outlinewidth": 0,
              "ticks": ""
             }
            },
            "type": "scattermapbox"
           }
          ],
          "scatterpolar": [
           {
            "marker": {
             "colorbar": {
              "outlinewidth": 0,
              "ticks": ""
             }
            },
            "type": "scatterpolar"
           }
          ],
          "scatterpolargl": [
           {
            "marker": {
             "colorbar": {
              "outlinewidth": 0,
              "ticks": ""
             }
            },
            "type": "scatterpolargl"
           }
          ],
          "scatterternary": [
           {
            "marker": {
             "colorbar": {
              "outlinewidth": 0,
              "ticks": ""
             }
            },
            "type": "scatterternary"
           }
          ],
          "surface": [
           {
            "colorbar": {
             "outlinewidth": 0,
             "ticks": ""
            },
            "colorscale": [
             [
              0,
              "#0d0887"
             ],
             [
              0.1111111111111111,
              "#46039f"
             ],
             [
              0.2222222222222222,
              "#7201a8"
             ],
             [
              0.3333333333333333,
              "#9c179e"
             ],
             [
              0.4444444444444444,
              "#bd3786"
             ],
             [
              0.5555555555555556,
              "#d8576b"
             ],
             [
              0.6666666666666666,
              "#ed7953"
             ],
             [
              0.7777777777777778,
              "#fb9f3a"
             ],
             [
              0.8888888888888888,
              "#fdca26"
             ],
             [
              1,
              "#f0f921"
             ]
            ],
            "type": "surface"
           }
          ],
          "table": [
           {
            "cells": {
             "fill": {
              "color": "#EBF0F8"
             },
             "line": {
              "color": "white"
             }
            },
            "header": {
             "fill": {
              "color": "#C8D4E3"
             },
             "line": {
              "color": "white"
             }
            },
            "type": "table"
           }
          ]
         },
         "layout": {
          "annotationdefaults": {
           "arrowcolor": "#2a3f5f",
           "arrowhead": 0,
           "arrowwidth": 1
          },
          "coloraxis": {
           "colorbar": {
            "outlinewidth": 0,
            "ticks": ""
           }
          },
          "colorscale": {
           "diverging": [
            [
             0,
             "#8e0152"
            ],
            [
             0.1,
             "#c51b7d"
            ],
            [
             0.2,
             "#de77ae"
            ],
            [
             0.3,
             "#f1b6da"
            ],
            [
             0.4,
             "#fde0ef"
            ],
            [
             0.5,
             "#f7f7f7"
            ],
            [
             0.6,
             "#e6f5d0"
            ],
            [
             0.7,
             "#b8e186"
            ],
            [
             0.8,
             "#7fbc41"
            ],
            [
             0.9,
             "#4d9221"
            ],
            [
             1,
             "#276419"
            ]
           ],
           "sequential": [
            [
             0,
             "#0d0887"
            ],
            [
             0.1111111111111111,
             "#46039f"
            ],
            [
             0.2222222222222222,
             "#7201a8"
            ],
            [
             0.3333333333333333,
             "#9c179e"
            ],
            [
             0.4444444444444444,
             "#bd3786"
            ],
            [
             0.5555555555555556,
             "#d8576b"
            ],
            [
             0.6666666666666666,
             "#ed7953"
            ],
            [
             0.7777777777777778,
             "#fb9f3a"
            ],
            [
             0.8888888888888888,
             "#fdca26"
            ],
            [
             1,
             "#f0f921"
            ]
           ],
           "sequentialminus": [
            [
             0,
             "#0d0887"
            ],
            [
             0.1111111111111111,
             "#46039f"
            ],
            [
             0.2222222222222222,
             "#7201a8"
            ],
            [
             0.3333333333333333,
             "#9c179e"
            ],
            [
             0.4444444444444444,
             "#bd3786"
            ],
            [
             0.5555555555555556,
             "#d8576b"
            ],
            [
             0.6666666666666666,
             "#ed7953"
            ],
            [
             0.7777777777777778,
             "#fb9f3a"
            ],
            [
             0.8888888888888888,
             "#fdca26"
            ],
            [
             1,
             "#f0f921"
            ]
           ]
          },
          "colorway": [
           "#636efa",
           "#EF553B",
           "#00cc96",
           "#ab63fa",
           "#FFA15A",
           "#19d3f3",
           "#FF6692",
           "#B6E880",
           "#FF97FF",
           "#FECB52"
          ],
          "font": {
           "color": "#2a3f5f"
          },
          "geo": {
           "bgcolor": "white",
           "lakecolor": "white",
           "landcolor": "#E5ECF6",
           "showlakes": true,
           "showland": true,
           "subunitcolor": "white"
          },
          "hoverlabel": {
           "align": "left"
          },
          "hovermode": "closest",
          "mapbox": {
           "style": "light"
          },
          "paper_bgcolor": "white",
          "plot_bgcolor": "#E5ECF6",
          "polar": {
           "angularaxis": {
            "gridcolor": "white",
            "linecolor": "white",
            "ticks": ""
           },
           "bgcolor": "#E5ECF6",
           "radialaxis": {
            "gridcolor": "white",
            "linecolor": "white",
            "ticks": ""
           }
          },
          "scene": {
           "xaxis": {
            "backgroundcolor": "#E5ECF6",
            "gridcolor": "white",
            "gridwidth": 2,
            "linecolor": "white",
            "showbackground": true,
            "ticks": "",
            "zerolinecolor": "white"
           },
           "yaxis": {
            "backgroundcolor": "#E5ECF6",
            "gridcolor": "white",
            "gridwidth": 2,
            "linecolor": "white",
            "showbackground": true,
            "ticks": "",
            "zerolinecolor": "white"
           },
           "zaxis": {
            "backgroundcolor": "#E5ECF6",
            "gridcolor": "white",
            "gridwidth": 2,
            "linecolor": "white",
            "showbackground": true,
            "ticks": "",
            "zerolinecolor": "white"
           }
          },
          "shapedefaults": {
           "line": {
            "color": "#2a3f5f"
           }
          },
          "ternary": {
           "aaxis": {
            "gridcolor": "white",
            "linecolor": "white",
            "ticks": ""
           },
           "baxis": {
            "gridcolor": "white",
            "linecolor": "white",
            "ticks": ""
           },
           "bgcolor": "#E5ECF6",
           "caxis": {
            "gridcolor": "white",
            "linecolor": "white",
            "ticks": ""
           }
          },
          "title": {
           "x": 0.05
          },
          "xaxis": {
           "automargin": true,
           "gridcolor": "white",
           "linecolor": "white",
           "ticks": "",
           "title": {
            "standoff": 15
           },
           "zerolinecolor": "white",
           "zerolinewidth": 2
          },
          "yaxis": {
           "automargin": true,
           "gridcolor": "white",
           "linecolor": "white",
           "ticks": "",
           "title": {
            "standoff": 15
           },
           "zerolinecolor": "white",
           "zerolinewidth": 2
          }
         }
        },
        "xaxis": {
         "anchor": "y",
         "domain": [
          0,
          1
         ]
        },
        "yaxis": {
         "anchor": "x",
         "domain": [
          0,
          1
         ]
        }
       }
      },
      "text/html": [
       "<div>\n",
       "        \n",
       "        \n",
       "            <div id=\"6ed44715-3015-4e99-a74a-7f745250ae76\" class=\"plotly-graph-div\" style=\"height:525px; width:100%;\"></div>\n",
       "            <script type=\"text/javascript\">\n",
       "                require([\"plotly\"], function(Plotly) {\n",
       "                    window.PLOTLYENV=window.PLOTLYENV || {};\n",
       "                    \n",
       "                if (document.getElementById(\"6ed44715-3015-4e99-a74a-7f745250ae76\")) {\n",
       "                    Plotly.newPlot(\n",
       "                        '6ed44715-3015-4e99-a74a-7f745250ae76',\n",
       "                        [],\n",
       "                        {\"barmode\": \"relative\", \"legend\": {\"tracegroupgap\": 0}, \"margin\": {\"t\": 60}, \"polar\": {\"angularaxis\": {\"direction\": \"clockwise\", \"rotation\": 90}}, \"template\": {\"data\": {\"bar\": [{\"error_x\": {\"color\": \"#2a3f5f\"}, \"error_y\": {\"color\": \"#2a3f5f\"}, \"marker\": {\"line\": {\"color\": \"#E5ECF6\", \"width\": 0.5}}, \"type\": \"bar\"}], \"barpolar\": [{\"marker\": {\"line\": {\"color\": \"#E5ECF6\", \"width\": 0.5}}, \"type\": \"barpolar\"}], \"carpet\": [{\"aaxis\": {\"endlinecolor\": \"#2a3f5f\", \"gridcolor\": \"white\", \"linecolor\": \"white\", \"minorgridcolor\": \"white\", \"startlinecolor\": \"#2a3f5f\"}, \"baxis\": {\"endlinecolor\": \"#2a3f5f\", \"gridcolor\": \"white\", \"linecolor\": \"white\", \"minorgridcolor\": \"white\", \"startlinecolor\": \"#2a3f5f\"}, \"type\": \"carpet\"}], \"choropleth\": [{\"colorbar\": {\"outlinewidth\": 0, \"ticks\": \"\"}, \"type\": \"choropleth\"}], \"contour\": [{\"colorbar\": {\"outlinewidth\": 0, \"ticks\": \"\"}, \"colorscale\": [[0.0, \"#0d0887\"], [0.1111111111111111, \"#46039f\"], [0.2222222222222222, \"#7201a8\"], [0.3333333333333333, \"#9c179e\"], [0.4444444444444444, \"#bd3786\"], [0.5555555555555556, \"#d8576b\"], [0.6666666666666666, \"#ed7953\"], [0.7777777777777778, \"#fb9f3a\"], [0.8888888888888888, \"#fdca26\"], [1.0, \"#f0f921\"]], \"type\": \"contour\"}], \"contourcarpet\": [{\"colorbar\": {\"outlinewidth\": 0, \"ticks\": \"\"}, \"type\": \"contourcarpet\"}], \"heatmap\": [{\"colorbar\": {\"outlinewidth\": 0, \"ticks\": \"\"}, \"colorscale\": [[0.0, \"#0d0887\"], [0.1111111111111111, \"#46039f\"], [0.2222222222222222, \"#7201a8\"], [0.3333333333333333, \"#9c179e\"], [0.4444444444444444, \"#bd3786\"], [0.5555555555555556, \"#d8576b\"], [0.6666666666666666, \"#ed7953\"], [0.7777777777777778, \"#fb9f3a\"], [0.8888888888888888, \"#fdca26\"], [1.0, \"#f0f921\"]], \"type\": \"heatmap\"}], \"heatmapgl\": [{\"colorbar\": {\"outlinewidth\": 0, \"ticks\": \"\"}, \"colorscale\": [[0.0, \"#0d0887\"], [0.1111111111111111, \"#46039f\"], [0.2222222222222222, \"#7201a8\"], [0.3333333333333333, \"#9c179e\"], [0.4444444444444444, \"#bd3786\"], [0.5555555555555556, \"#d8576b\"], [0.6666666666666666, \"#ed7953\"], [0.7777777777777778, \"#fb9f3a\"], [0.8888888888888888, \"#fdca26\"], [1.0, \"#f0f921\"]], \"type\": \"heatmapgl\"}], \"histogram\": [{\"marker\": {\"colorbar\": {\"outlinewidth\": 0, \"ticks\": \"\"}}, \"type\": \"histogram\"}], \"histogram2d\": [{\"colorbar\": {\"outlinewidth\": 0, \"ticks\": \"\"}, \"colorscale\": [[0.0, \"#0d0887\"], [0.1111111111111111, \"#46039f\"], [0.2222222222222222, \"#7201a8\"], [0.3333333333333333, \"#9c179e\"], [0.4444444444444444, \"#bd3786\"], [0.5555555555555556, \"#d8576b\"], [0.6666666666666666, \"#ed7953\"], [0.7777777777777778, \"#fb9f3a\"], [0.8888888888888888, \"#fdca26\"], [1.0, \"#f0f921\"]], \"type\": \"histogram2d\"}], \"histogram2dcontour\": [{\"colorbar\": {\"outlinewidth\": 0, \"ticks\": \"\"}, \"colorscale\": [[0.0, \"#0d0887\"], [0.1111111111111111, \"#46039f\"], [0.2222222222222222, \"#7201a8\"], [0.3333333333333333, \"#9c179e\"], [0.4444444444444444, \"#bd3786\"], [0.5555555555555556, \"#d8576b\"], [0.6666666666666666, \"#ed7953\"], [0.7777777777777778, \"#fb9f3a\"], [0.8888888888888888, \"#fdca26\"], [1.0, \"#f0f921\"]], \"type\": \"histogram2dcontour\"}], \"mesh3d\": [{\"colorbar\": {\"outlinewidth\": 0, \"ticks\": \"\"}, \"type\": \"mesh3d\"}], \"parcoords\": [{\"line\": {\"colorbar\": {\"outlinewidth\": 0, \"ticks\": \"\"}}, \"type\": \"parcoords\"}], \"pie\": [{\"automargin\": true, \"type\": \"pie\"}], \"scatter\": [{\"marker\": {\"colorbar\": {\"outlinewidth\": 0, \"ticks\": \"\"}}, \"type\": \"scatter\"}], \"scatter3d\": [{\"line\": {\"colorbar\": {\"outlinewidth\": 0, \"ticks\": \"\"}}, \"marker\": {\"colorbar\": {\"outlinewidth\": 0, \"ticks\": \"\"}}, \"type\": \"scatter3d\"}], \"scattercarpet\": [{\"marker\": {\"colorbar\": {\"outlinewidth\": 0, \"ticks\": \"\"}}, \"type\": \"scattercarpet\"}], \"scattergeo\": [{\"marker\": {\"colorbar\": {\"outlinewidth\": 0, \"ticks\": \"\"}}, \"type\": \"scattergeo\"}], \"scattergl\": [{\"marker\": {\"colorbar\": {\"outlinewidth\": 0, \"ticks\": \"\"}}, \"type\": \"scattergl\"}], \"scattermapbox\": [{\"marker\": {\"colorbar\": {\"outlinewidth\": 0, \"ticks\": \"\"}}, \"type\": \"scattermapbox\"}], \"scatterpolar\": [{\"marker\": {\"colorbar\": {\"outlinewidth\": 0, \"ticks\": \"\"}}, \"type\": \"scatterpolar\"}], \"scatterpolargl\": [{\"marker\": {\"colorbar\": {\"outlinewidth\": 0, \"ticks\": \"\"}}, \"type\": \"scatterpolargl\"}], \"scatterternary\": [{\"marker\": {\"colorbar\": {\"outlinewidth\": 0, \"ticks\": \"\"}}, \"type\": \"scatterternary\"}], \"surface\": [{\"colorbar\": {\"outlinewidth\": 0, \"ticks\": \"\"}, \"colorscale\": [[0.0, \"#0d0887\"], [0.1111111111111111, \"#46039f\"], [0.2222222222222222, \"#7201a8\"], [0.3333333333333333, \"#9c179e\"], [0.4444444444444444, \"#bd3786\"], [0.5555555555555556, \"#d8576b\"], [0.6666666666666666, \"#ed7953\"], [0.7777777777777778, \"#fb9f3a\"], [0.8888888888888888, \"#fdca26\"], [1.0, \"#f0f921\"]], \"type\": \"surface\"}], \"table\": [{\"cells\": {\"fill\": {\"color\": \"#EBF0F8\"}, \"line\": {\"color\": \"white\"}}, \"header\": {\"fill\": {\"color\": \"#C8D4E3\"}, \"line\": {\"color\": \"white\"}}, \"type\": \"table\"}]}, \"layout\": {\"annotationdefaults\": {\"arrowcolor\": \"#2a3f5f\", \"arrowhead\": 0, \"arrowwidth\": 1}, \"coloraxis\": {\"colorbar\": {\"outlinewidth\": 0, \"ticks\": \"\"}}, \"colorscale\": {\"diverging\": [[0, \"#8e0152\"], [0.1, \"#c51b7d\"], [0.2, \"#de77ae\"], [0.3, \"#f1b6da\"], [0.4, \"#fde0ef\"], [0.5, \"#f7f7f7\"], [0.6, \"#e6f5d0\"], [0.7, \"#b8e186\"], [0.8, \"#7fbc41\"], [0.9, \"#4d9221\"], [1, \"#276419\"]], \"sequential\": [[0.0, \"#0d0887\"], [0.1111111111111111, \"#46039f\"], [0.2222222222222222, \"#7201a8\"], [0.3333333333333333, \"#9c179e\"], [0.4444444444444444, \"#bd3786\"], [0.5555555555555556, \"#d8576b\"], [0.6666666666666666, \"#ed7953\"], [0.7777777777777778, \"#fb9f3a\"], [0.8888888888888888, \"#fdca26\"], [1.0, \"#f0f921\"]], \"sequentialminus\": [[0.0, \"#0d0887\"], [0.1111111111111111, \"#46039f\"], [0.2222222222222222, \"#7201a8\"], [0.3333333333333333, \"#9c179e\"], [0.4444444444444444, \"#bd3786\"], [0.5555555555555556, \"#d8576b\"], [0.6666666666666666, \"#ed7953\"], [0.7777777777777778, \"#fb9f3a\"], [0.8888888888888888, \"#fdca26\"], [1.0, \"#f0f921\"]]}, \"colorway\": [\"#636efa\", \"#EF553B\", \"#00cc96\", \"#ab63fa\", \"#FFA15A\", \"#19d3f3\", \"#FF6692\", \"#B6E880\", \"#FF97FF\", \"#FECB52\"], \"font\": {\"color\": \"#2a3f5f\"}, \"geo\": {\"bgcolor\": \"white\", \"lakecolor\": \"white\", \"landcolor\": \"#E5ECF6\", \"showlakes\": true, \"showland\": true, \"subunitcolor\": \"white\"}, \"hoverlabel\": {\"align\": \"left\"}, \"hovermode\": \"closest\", \"mapbox\": {\"style\": \"light\"}, \"paper_bgcolor\": \"white\", \"plot_bgcolor\": \"#E5ECF6\", \"polar\": {\"angularaxis\": {\"gridcolor\": \"white\", \"linecolor\": \"white\", \"ticks\": \"\"}, \"bgcolor\": \"#E5ECF6\", \"radialaxis\": {\"gridcolor\": \"white\", \"linecolor\": \"white\", \"ticks\": \"\"}}, \"scene\": {\"xaxis\": {\"backgroundcolor\": \"#E5ECF6\", \"gridcolor\": \"white\", \"gridwidth\": 2, \"linecolor\": \"white\", \"showbackground\": true, \"ticks\": \"\", \"zerolinecolor\": \"white\"}, \"yaxis\": {\"backgroundcolor\": \"#E5ECF6\", \"gridcolor\": \"white\", \"gridwidth\": 2, \"linecolor\": \"white\", \"showbackground\": true, \"ticks\": \"\", \"zerolinecolor\": \"white\"}, \"zaxis\": {\"backgroundcolor\": \"#E5ECF6\", \"gridcolor\": \"white\", \"gridwidth\": 2, \"linecolor\": \"white\", \"showbackground\": true, \"ticks\": \"\", \"zerolinecolor\": \"white\"}}, \"shapedefaults\": {\"line\": {\"color\": \"#2a3f5f\"}}, \"ternary\": {\"aaxis\": {\"gridcolor\": \"white\", \"linecolor\": \"white\", \"ticks\": \"\"}, \"baxis\": {\"gridcolor\": \"white\", \"linecolor\": \"white\", \"ticks\": \"\"}, \"bgcolor\": \"#E5ECF6\", \"caxis\": {\"gridcolor\": \"white\", \"linecolor\": \"white\", \"ticks\": \"\"}}, \"title\": {\"x\": 0.05}, \"xaxis\": {\"automargin\": true, \"gridcolor\": \"white\", \"linecolor\": \"white\", \"ticks\": \"\", \"title\": {\"standoff\": 15}, \"zerolinecolor\": \"white\", \"zerolinewidth\": 2}, \"yaxis\": {\"automargin\": true, \"gridcolor\": \"white\", \"linecolor\": \"white\", \"ticks\": \"\", \"title\": {\"standoff\": 15}, \"zerolinecolor\": \"white\", \"zerolinewidth\": 2}}}, \"xaxis\": {\"anchor\": \"y\", \"domain\": [0.0, 1.0]}, \"yaxis\": {\"anchor\": \"x\", \"domain\": [0.0, 1.0]}},\n",
       "                        {\"responsive\": true}\n",
       "                    ).then(function(){\n",
       "                            \n",
       "var gd = document.getElementById('6ed44715-3015-4e99-a74a-7f745250ae76');\n",
       "var x = new MutationObserver(function (mutations, observer) {{\n",
       "        var display = window.getComputedStyle(gd).display;\n",
       "        if (!display || display === 'none') {{\n",
       "            console.log([gd, 'removed!']);\n",
       "            Plotly.purge(gd);\n",
       "            observer.disconnect();\n",
       "        }}\n",
       "}});\n",
       "\n",
       "// Listen for the removal of the full notebook cells\n",
       "var notebookContainer = gd.closest('#notebook-container');\n",
       "if (notebookContainer) {{\n",
       "    x.observe(notebookContainer, {childList: true});\n",
       "}}\n",
       "\n",
       "// Listen for the clearing of the current output cell\n",
       "var outputEl = gd.closest('.output');\n",
       "if (outputEl) {{\n",
       "    x.observe(outputEl, {childList: true});\n",
       "}}\n",
       "\n",
       "                        })\n",
       "                };\n",
       "                });\n",
       "            </script>\n",
       "        </div>"
      ]
     },
     "metadata": {},
     "output_type": "display_data"
    }
   ],
   "source": [
    "px.bar_polar(data3,r=\"\")"
   ]
  },
  {
   "cell_type": "code",
   "execution_count": 31,
   "metadata": {},
   "outputs": [
    {
     "data": {
      "application/vnd.plotly.v1+json": {
       "config": {
        "plotlyServerURL": "https://plot.ly"
       },
       "data": [
        {
         "dimensions": [
          {
           "label": "类型",
           "values": [
            "混服",
            "混服",
            "混服",
            "混服",
            "混服",
            "混服",
            "混服",
            "混服",
            "混服",
            "混服",
            "混服",
            "混服",
            "混服",
            "混服",
            "混服",
            "混服",
            "混服",
            "混服",
            "混服",
            "混服",
            "混服",
            "混服",
            "混服",
            "混服",
            "混服",
            "混服",
            "混服",
            "混服",
            "混服",
            "混服",
            "心迹",
            "心迹",
            "心迹",
            "心迹",
            "心迹",
            "心迹",
            "混服",
            "混服",
            "混服",
            "混服",
            "混服",
            "混服",
            "混服",
            "混服",
            "混服",
            "混服",
            "混服",
            "混服",
            "混服",
            "混服",
            "混服",
            "混服",
            "混服",
            "混服",
            "心迹",
            "心迹",
            "心迹",
            "心迹",
            "心迹",
            "心迹",
            "心迹",
            "心迹",
            "心迹",
            "心迹",
            "心迹",
            "心迹",
            "混服",
            "混服",
            "混服",
            "混服",
            "混服",
            "混服",
            "混服",
            "混服",
            "混服",
            "混服",
            "混服",
            "混服",
            "混服",
            "混服",
            "混服",
            "混服",
            "混服",
            "混服",
            "混服",
            "混服",
            "混服",
            "混服",
            "混服",
            "混服",
            "混服",
            "混服",
            "混服",
            "混服",
            "混服",
            "混服",
            "混服",
            "混服",
            "混服",
            "混服",
            "混服",
            "混服",
            "混服",
            "混服",
            "混服",
            "混服",
            "混服",
            "混服",
            "混服",
            "混服",
            "混服",
            "混服",
            "混服",
            "混服",
            "混服",
            "混服",
            "混服",
            "混服",
            "混服",
            "混服",
            "混服",
            "混服",
            "混服",
            "混服",
            "混服",
            "混服",
            "混服",
            "混服",
            "混服",
            "混服",
            "混服",
            "混服",
            "混服",
            "混服",
            "混服",
            "混服",
            "混服",
            "混服",
            "混服",
            "混服",
            "混服",
            "混服",
            "混服",
            "混服",
            "混服",
            "混服",
            "混服",
            "混服",
            "混服",
            "混服",
            "心迹",
            "心迹",
            "心迹",
            "心迹",
            "心迹",
            "心迹",
            "混服",
            "混服",
            "混服",
            "混服",
            "混服",
            "混服",
            "混服",
            "混服",
            "混服",
            "混服",
            "混服",
            "混服",
            "混服",
            "混服",
            "混服",
            "混服",
            "混服",
            "混服",
            "混服",
            "混服",
            "混服",
            "混服",
            "混服",
            "混服",
            "混服",
            "混服",
            "混服",
            "混服",
            "混服",
            "混服",
            "混服",
            "混服",
            "混服",
            "混服",
            "混服",
            "混服",
            "混服",
            "混服",
            "混服",
            "混服",
            "混服",
            "混服",
            "混服",
            "混服",
            "混服",
            "混服",
            "混服",
            "混服",
            "混服",
            "混服",
            "混服",
            "混服",
            "混服",
            "混服",
            "混服",
            "混服",
            "混服",
            "混服",
            "混服",
            "混服",
            "混服",
            "混服",
            "混服",
            "混服",
            "混服",
            "混服",
            "混服",
            "混服",
            "混服",
            "混服",
            "混服",
            "混服",
            "混服",
            "混服",
            "混服",
            "混服",
            "混服",
            "混服",
            "混服",
            "混服",
            "混服",
            "混服",
            "混服",
            "混服",
            "混服",
            "混服",
            "混服",
            "混服",
            "混服",
            "混服",
            "混服",
            "混服",
            "混服",
            "混服",
            "混服",
            "混服",
            "混服",
            "混服",
            "混服",
            "混服",
            "混服",
            "混服",
            "混服",
            "混服",
            "混服",
            "混服",
            "混服",
            "混服",
            "混服",
            "混服",
            "混服",
            "混服",
            "混服",
            "混服",
            "混服",
            "混服",
            "混服",
            "混服",
            "混服",
            "混服",
            "混服",
            "混服",
            "混服",
            "混服",
            "混服",
            "混服",
            "混服",
            "混服",
            "混服",
            "混服",
            "混服",
            "混服",
            "混服",
            "混服",
            "混服",
            "混服",
            "混服",
            "混服",
            "心迹",
            "心迹",
            "心迹",
            "心迹",
            "心迹",
            "心迹",
            "心迹",
            "心迹",
            "心迹",
            "心迹",
            "心迹",
            "心迹",
            "混服",
            "混服",
            "混服",
            "混服",
            "混服",
            "混服",
            "混服",
            "混服",
            "混服",
            "混服",
            "混服",
            "混服",
            "混服",
            "混服",
            "混服",
            "混服",
            "混服",
            "混服",
            "混服",
            "混服",
            "混服",
            "混服",
            "混服",
            "混服",
            "混服",
            "混服",
            "混服",
            "混服",
            "混服",
            "混服",
            "心迹",
            "心迹",
            "心迹",
            "心迹",
            "心迹",
            "心迹",
            "混服",
            "混服",
            "混服",
            "混服",
            "混服",
            "混服",
            "心迹",
            "心迹",
            "心迹",
            "心迹",
            "心迹",
            "心迹",
            "心迹",
            "心迹",
            "心迹",
            "心迹",
            "心迹",
            "心迹",
            "混服",
            "混服",
            "混服",
            "混服",
            "混服",
            "混服",
            "混服",
            "混服",
            "混服",
            "混服",
            "混服",
            "混服",
            "混服",
            "混服",
            "混服",
            "混服",
            "混服",
            "混服",
            "混服",
            "混服",
            "混服",
            "混服",
            "混服",
            "混服",
            "混服",
            "混服",
            "混服",
            "混服",
            "混服",
            "混服",
            "混服",
            "混服",
            "混服",
            "混服",
            "混服",
            "混服",
            "心迹",
            "心迹",
            "心迹",
            "心迹",
            "心迹",
            "心迹",
            "混服",
            "混服",
            "混服",
            "混服",
            "混服",
            "混服",
            "心迹",
            "心迹",
            "心迹",
            "心迹",
            "心迹",
            "心迹",
            "混服",
            "混服",
            "混服",
            "混服",
            "混服",
            "混服",
            "混服",
            "混服",
            "混服",
            "混服",
            "混服",
            "混服",
            "混服",
            "混服",
            "混服",
            "混服",
            "混服",
            "混服",
            "心迹",
            "心迹",
            "心迹",
            "心迹",
            "心迹",
            "心迹",
            "混服",
            "混服",
            "混服",
            "混服",
            "混服",
            "混服",
            "混服",
            "混服",
            "混服",
            "混服",
            "混服",
            "混服",
            "心迹",
            "心迹",
            "心迹",
            "心迹",
            "心迹",
            "心迹",
            "混服",
            "混服",
            "混服",
            "混服",
            "混服",
            "混服",
            "混服",
            "混服",
            "混服",
            "混服",
            "混服",
            "混服",
            "混服",
            "混服",
            "混服",
            "混服",
            "混服",
            "混服",
            "混服",
            "混服",
            "混服",
            "混服",
            "混服",
            "混服",
            "混服",
            "混服",
            "混服",
            "混服",
            "混服",
            "混服",
            "混服",
            "混服",
            "混服",
            "混服",
            "混服",
            "混服",
            "混服",
            "混服",
            "混服",
            "混服",
            "混服",
            "混服",
            "心迹",
            "心迹",
            "心迹",
            "心迹",
            "心迹",
            "心迹",
            "混服",
            "混服",
            "混服",
            "混服",
            "混服",
            "混服",
            "混服",
            "混服",
            "混服",
            "混服",
            "混服",
            "混服",
            "心迹",
            "心迹",
            "心迹",
            "心迹",
            "心迹",
            "心迹",
            "混服",
            "混服",
            "混服",
            "混服",
            "混服",
            "混服",
            "心迹",
            "心迹",
            "心迹",
            "心迹",
            "心迹",
            "心迹",
            "混服",
            "混服",
            "混服",
            "混服",
            "混服",
            "混服",
            "混服",
            "混服",
            "混服",
            "混服",
            "混服",
            "混服",
            "混服",
            "混服",
            "混服",
            "混服",
            "混服",
            "混服",
            "混服",
            "混服",
            "混服",
            "混服",
            "混服",
            "混服",
            "心迹",
            "心迹",
            "心迹",
            "心迹",
            "心迹",
            "心迹",
            "混服",
            "混服",
            "混服",
            "混服",
            "混服",
            "混服",
            "混服",
            "混服",
            "混服",
            "混服",
            "混服",
            "混服",
            "心迹",
            "心迹",
            "心迹",
            "心迹",
            "心迹",
            "心迹",
            "心迹",
            "心迹",
            "心迹",
            "心迹",
            "心迹",
            "心迹",
            "混服",
            "混服",
            "混服",
            "混服",
            "混服",
            "混服",
            "混服",
            "混服",
            "混服",
            "混服",
            "混服",
            "混服",
            "混服",
            "混服",
            "混服",
            "混服",
            "混服",
            "混服",
            "心迹",
            "心迹",
            "心迹",
            "心迹",
            "心迹",
            "心迹",
            "心迹",
            "心迹",
            "心迹",
            "心迹",
            "心迹",
            "心迹",
            "混服",
            "混服",
            "混服",
            "混服",
            "混服",
            "混服",
            "混服",
            "混服",
            "混服",
            "混服",
            "混服",
            "混服",
            "心迹",
            "心迹",
            "心迹",
            "心迹",
            "心迹",
            "心迹",
            "心迹",
            "心迹",
            "心迹",
            "心迹",
            "心迹",
            "心迹",
            "混服",
            "混服",
            "混服",
            "混服",
            "混服",
            "混服",
            "心迹",
            "心迹",
            "心迹",
            "心迹",
            "心迹",
            "心迹",
            "混服",
            "混服",
            "混服",
            "混服",
            "混服",
            "混服",
            "混服",
            "混服",
            "混服",
            "混服",
            "混服",
            "混服",
            "心迹",
            "心迹",
            "心迹",
            "心迹",
            "心迹",
            "心迹",
            "混服",
            "混服",
            "混服",
            "混服",
            "混服",
            "混服",
            "混服",
            "混服",
            "混服",
            "混服",
            "混服",
            "混服",
            "心迹",
            "心迹",
            "心迹",
            "心迹",
            "心迹",
            "心迹",
            "心迹",
            "心迹",
            "心迹",
            "心迹",
            "心迹",
            "心迹",
            "混服",
            "混服",
            "混服",
            "混服",
            "混服",
            "混服",
            "心迹",
            "心迹",
            "心迹",
            "心迹",
            "心迹",
            "心迹",
            "混服",
            "混服",
            "混服",
            "混服",
            "混服",
            "混服",
            "心迹",
            "心迹",
            "心迹",
            "心迹",
            "心迹",
            "心迹",
            "心迹",
            "心迹",
            "心迹",
            "心迹",
            "心迹",
            "心迹",
            "混服",
            "混服",
            "混服",
            "混服",
            "混服",
            "混服",
            "心迹",
            "心迹",
            "心迹",
            "心迹",
            "心迹",
            "心迹",
            "混服",
            "混服",
            "混服",
            "混服",
            "混服",
            "混服",
            "心迹",
            "心迹",
            "心迹",
            "心迹",
            "心迹",
            "心迹",
            "心迹",
            "心迹",
            "心迹",
            "心迹",
            "心迹",
            "心迹",
            "心迹",
            "心迹",
            "心迹",
            "心迹",
            "心迹",
            "心迹",
            "混服",
            "混服",
            "混服",
            "混服",
            "混服",
            "混服",
            "混服",
            "混服",
            "混服",
            "混服",
            "混服",
            "混服",
            "心迹",
            "心迹",
            "心迹",
            "心迹",
            "心迹",
            "心迹",
            "心迹",
            "心迹",
            "心迹",
            "心迹",
            "心迹",
            "心迹",
            "混服",
            "混服",
            "混服",
            "混服",
            "混服",
            "混服",
            "心迹",
            "心迹",
            "心迹",
            "心迹",
            "心迹",
            "心迹",
            "混服",
            "混服",
            "混服",
            "混服",
            "混服",
            "混服",
            "心迹",
            "心迹",
            "心迹",
            "心迹",
            "心迹",
            "心迹",
            "心迹",
            "心迹",
            "心迹",
            "心迹",
            "心迹",
            "心迹",
            "心迹",
            "心迹",
            "心迹",
            "心迹",
            "心迹",
            "心迹",
            "混服",
            "混服",
            "混服",
            "混服",
            "混服",
            "混服",
            "心迹",
            "心迹",
            "心迹",
            "心迹",
            "心迹",
            "心迹",
            "心迹",
            "心迹",
            "心迹",
            "心迹",
            "心迹",
            "心迹",
            "心迹",
            "心迹",
            "心迹",
            "心迹",
            "心迹",
            "心迹",
            "混服",
            "混服",
            "混服",
            "混服",
            "混服",
            "混服",
            "心迹",
            "心迹",
            "心迹",
            "心迹",
            "心迹",
            "心迹",
            "心迹",
            "心迹",
            "心迹",
            "心迹",
            "心迹",
            "心迹",
            "心迹",
            "心迹",
            "心迹",
            "心迹",
            "心迹",
            "心迹",
            "心迹",
            "心迹",
            "心迹",
            "心迹",
            "心迹",
            "心迹",
            "心迹",
            "心迹",
            "心迹",
            "心迹",
            "心迹",
            "心迹",
            "心迹",
            "心迹",
            "心迹",
            "心迹",
            "心迹",
            "心迹",
            "心迹",
            "心迹",
            "心迹",
            "心迹",
            "心迹",
            "心迹",
            "心迹",
            "心迹",
            "心迹",
            "心迹",
            "心迹",
            "心迹",
            "心迹",
            "心迹",
            "心迹",
            "心迹",
            "心迹",
            "心迹",
            "心迹",
            "心迹",
            "心迹",
            "心迹",
            "心迹",
            "心迹",
            "心迹",
            "心迹",
            "心迹",
            "心迹",
            "心迹",
            "心迹",
            "心迹",
            "心迹",
            "心迹",
            "心迹",
            "心迹",
            "心迹",
            "心迹",
            "心迹",
            "心迹",
            "心迹",
            "心迹",
            "心迹",
            "心迹",
            "心迹",
            "心迹",
            "心迹",
            "心迹",
            "心迹",
            "心迹",
            "心迹",
            "心迹",
            "心迹",
            "心迹",
            "心迹",
            "混服",
            "混服",
            "混服",
            "混服",
            "混服",
            "混服",
            "心迹",
            "心迹",
            "心迹",
            "心迹",
            "心迹",
            "心迹",
            "心迹",
            "心迹",
            "心迹",
            "心迹",
            "心迹",
            "心迹",
            "心迹",
            "心迹",
            "心迹",
            "心迹",
            "心迹",
            "心迹",
            "心迹",
            "心迹",
            "心迹",
            "心迹",
            "心迹",
            "心迹",
            "心迹",
            "心迹",
            "心迹",
            "心迹",
            "心迹",
            "心迹",
            "心迹",
            "心迹",
            "心迹",
            "心迹",
            "心迹",
            "心迹",
            "心迹",
            "心迹",
            "心迹",
            "心迹",
            "心迹",
            "心迹",
            "心迹",
            "心迹",
            "心迹",
            "心迹",
            "心迹",
            "心迹",
            "心迹",
            "心迹",
            "心迹",
            "心迹",
            "心迹",
            "心迹",
            "心迹",
            "心迹",
            "心迹",
            "心迹",
            "心迹",
            "心迹",
            "心迹",
            "心迹",
            "心迹",
            "心迹",
            "心迹",
            "心迹",
            "心迹",
            "心迹",
            "心迹",
            "心迹",
            "心迹",
            "心迹",
            "心迹",
            "心迹",
            "心迹",
            "心迹",
            "心迹",
            "心迹",
            "心迹",
            "心迹",
            "心迹",
            "心迹",
            "心迹",
            "心迹",
            "心迹",
            "心迹",
            "心迹",
            "心迹",
            "心迹",
            "心迹",
            "心迹",
            "心迹",
            "心迹",
            "心迹",
            "心迹",
            "心迹",
            "心迹",
            "心迹",
            "心迹",
            "心迹",
            "心迹",
            "心迹",
            "心迹",
            "心迹",
            "心迹",
            "心迹",
            "心迹",
            "心迹",
            "心迹",
            "心迹",
            "心迹",
            "心迹",
            "心迹",
            "心迹",
            "心迹",
            "心迹",
            "心迹",
            "心迹",
            "心迹",
            "心迹",
            "心迹",
            "心迹",
            "心迹",
            "心迹",
            "心迹",
            "心迹",
            "心迹",
            "心迹",
            "心迹",
            "心迹",
            "心迹",
            "心迹",
            "心迹",
            "心迹",
            "心迹",
            "心迹",
            "心迹",
            "心迹",
            "心迹",
            "心迹",
            "心迹",
            "心迹",
            "心迹",
            "心迹",
            "心迹",
            "心迹",
            "心迹",
            "心迹",
            "心迹",
            "心迹",
            "心迹",
            "心迹",
            "心迹",
            "心迹",
            "心迹",
            "心迹",
            "心迹",
            "心迹",
            "心迹",
            "心迹",
            "心迹",
            "心迹",
            "心迹",
            "心迹",
            "心迹",
            "心迹",
            "心迹",
            "心迹",
            "心迹",
            "心迹",
            "心迹",
            "心迹",
            "心迹",
            "心迹",
            "心迹",
            "心迹",
            "心迹",
            "心迹",
            "心迹",
            "心迹",
            "心迹",
            "心迹",
            "心迹",
            "心迹",
            "心迹",
            "心迹",
            "心迹",
            "心迹",
            "心迹",
            "心迹",
            "心迹",
            "心迹",
            "心迹",
            "心迹",
            "心迹",
            "心迹",
            "心迹",
            "心迹",
            "心迹",
            "心迹",
            "心迹",
            "心迹",
            "心迹",
            "心迹",
            "心迹",
            "心迹",
            "心迹",
            "心迹",
            "心迹",
            "心迹",
            "心迹",
            "心迹",
            "心迹",
            "心迹",
            "心迹",
            "心迹",
            "心迹",
            "心迹",
            "心迹",
            "心迹",
            "心迹",
            "心迹",
            "心迹",
            "心迹",
            "心迹",
            "心迹",
            "心迹",
            "心迹",
            "心迹",
            "心迹",
            "心迹",
            "心迹",
            "心迹",
            "心迹",
            "心迹",
            "心迹",
            "心迹",
            "心迹",
            "心迹",
            "心迹",
            "心迹",
            "心迹",
            "心迹",
            "心迹",
            "心迹",
            "心迹",
            "心迹",
            "心迹",
            "心迹",
            "心迹",
            "心迹"
           ]
          }
         ],
         "domain": {
          "x": [
           0,
           1
          ],
          "y": [
           0,
           1
          ]
         },
         "line": {
          "color": [
           1059,
           1001,
           1003,
           1076,
           1057,
           1077,
           1010,
           1011,
           1012,
           1019,
           1021,
           1022,
           1059,
           1001,
           1081,
           1080,
           1003,
           1057,
           1072,
           1068,
           1061,
           1067,
           1060,
           1073,
           1038,
           1001,
           1081,
           1080,
           1003,
           1057,
           1059,
           1001,
           1080,
           1081,
           1003,
           1057,
           1067,
           1002,
           1001,
           1068,
           1061,
           1003,
           1059,
           1001,
           1081,
           1080,
           1003,
           1057,
           1059,
           1080,
           1001,
           1057,
           1060,
           1003,
           1059,
           1001,
           1072,
           1073,
           1057,
           1003,
           1007,
           1077,
           1002,
           1004,
           1078,
           1008,
           1084,
           1062,
           1083,
           1085,
           1082,
           1005,
           1059,
           1072,
           1081,
           1080,
           1073,
           1057,
           1060,
           1084,
           1085,
           1061,
           1076,
           1077,
           1001,
           1059,
           1081,
           1080,
           1003,
           1057,
           1059,
           1060,
           1001,
           1061,
           1057,
           1003,
           1059,
           1001,
           1081,
           1080,
           1057,
           1003,
           1060,
           1002,
           1082,
           1083,
           1008,
           1061,
           1059,
           1001,
           1002,
           1057,
           1079,
           1003,
           1067,
           1059,
           1001,
           1057,
           1068,
           1003,
           1004,
           1007,
           1078,
           1070,
           1069,
           1079,
           1070,
           1069,
           1076,
           1005,
           1062,
           1077,
           1076,
           1060,
           1084,
           1077,
           1061,
           1085,
           1059,
           1080,
           1072,
           1081,
           1057,
           1073,
           1059,
           1001,
           1060,
           1057,
           1061,
           1003,
           1002,
           1070,
           1061,
           1004,
           1069,
           1008,
           1059,
           1001,
           1060,
           1057,
           1003,
           1061,
           1059,
           1001,
           1081,
           1080,
           1057,
           1003,
           1059,
           1001,
           1081,
           1080,
           1003,
           1057,
           1076,
           1072,
           1060,
           1073,
           1061,
           1077,
           1015,
           1001,
           1081,
           1080,
           1003,
           1057,
           1059,
           1008,
           1002,
           1001,
           1003,
           1057,
           1001,
           1059,
           1076,
           1057,
           1077,
           1003,
           1059,
           1001,
           1077,
           1076,
           1057,
           1003,
           1059,
           1001,
           1057,
           1080,
           1073,
           1003,
           1014,
           1009,
           1018,
           1065,
           1017,
           1006,
           1059,
           1001,
           1076,
           1077,
           1003,
           1057,
           1059,
           1001,
           1057,
           1073,
           1077,
           1003,
           1059,
           1001,
           1081,
           1080,
           1057,
           1003,
           1060,
           1081,
           1079,
           1061,
           1077,
           1078,
           1059,
           1001,
           1002,
           1057,
           1008,
           1003,
           1059,
           1080,
           1067,
           1057,
           1081,
           1068,
           1059,
           1001,
           1081,
           1080,
           1003,
           1057,
           1059,
           1001,
           1081,
           1080,
           1003,
           1057,
           1059,
           1001,
           1057,
           1060,
           1003,
           1080,
           1059,
           1076,
           1001,
           1077,
           1057,
           1003,
           1059,
           1001,
           1081,
           1080,
           1003,
           1057,
           1060,
           1076,
           1073,
           1072,
           1083,
           1061,
           1038,
           1068,
           1017,
           1066,
           1067,
           1022,
           1059,
           1076,
           1001,
           1057,
           1003,
           1077,
           1038,
           1059,
           1072,
           1057,
           1073,
           1081,
           1059,
           1001,
           1076,
           1077,
           1057,
           1003,
           1067,
           1059,
           1081,
           1080,
           1068,
           1057,
           1059,
           1001,
           1002,
           1079,
           1057,
           1003,
           1059,
           1080,
           1057,
           1001,
           1081,
           1003,
           1059,
           1001,
           1081,
           1080,
           1057,
           1003,
           1059,
           1060,
           1001,
           1061,
           1003,
           1057,
           1059,
           1001,
           1081,
           1080,
           1003,
           1057,
           1001,
           1002,
           1003,
           1059,
           1008,
           1057,
           1079,
           1070,
           1002,
           1078,
           1069,
           1008,
           1001,
           1059,
           1076,
           1003,
           1057,
           1077,
           1008,
           1070,
           1062,
           1002,
           1007,
           1078,
           1076,
           1067,
           1083,
           1077,
           1082,
           1068,
           1059,
           1001,
           1081,
           1080,
           1057,
           1003,
           1059,
           1080,
           1072,
           1057,
           1081,
           1073,
           1059,
           1076,
           1001,
           1003,
           1057,
           1077,
           1001,
           1059,
           1057,
           1002,
           1003,
           1061,
           1069,
           1080,
           1001,
           1057,
           1081,
           1003,
           1001,
           1059,
           1002,
           1057,
           1061,
           1003,
           1059,
           1001,
           1079,
           1078,
           1057,
           1003,
           1073,
           1060,
           1072,
           1067,
           1084,
           1076,
           1080,
           1059,
           1001,
           1057,
           1003,
           1081,
           1059,
           1001,
           1073,
           1072,
           1057,
           1003,
           1059,
           1080,
           1081,
           1001,
           1057,
           1003,
           1059,
           1001,
           1081,
           1080,
           1003,
           1057,
           1067,
           1059,
           1001,
           1068,
           1057,
           1003,
           1007,
           1067,
           1060,
           1073,
           1068,
           1004,
           1059,
           1001,
           1081,
           1044,
           1003,
           1080,
           1059,
           1001,
           1081,
           1080,
           1057,
           1003,
           1080,
           1059,
           1057,
           1001,
           1081,
           1003,
           1014,
           1079,
           1069,
           1001,
           1077,
           1078,
           1080,
           1059,
           1067,
           1081,
           1057,
           1068,
           1059,
           1081,
           1080,
           1001,
           1057,
           1003,
           1059,
           1001,
           1073,
           1057,
           1072,
           1003,
           1001,
           1059,
           1081,
           1080,
           1003,
           1057,
           1073,
           1067,
           1076,
           1084,
           1072,
           1060,
           1080,
           1072,
           1073,
           1079,
           1078,
           1081,
           1080,
           1059,
           1001,
           1057,
           1081,
           1003,
           1067,
           1080,
           1002,
           1068,
           1079,
           1008,
           1080,
           1073,
           1059,
           1072,
           1081,
           1057,
           1059,
           1001,
           1072,
           1073,
           1057,
           1003,
           1080,
           1059,
           1073,
           1003,
           1081,
           1057,
           1067,
           1070,
           1078,
           1069,
           1008,
           1061,
           1001,
           1067,
           1059,
           1068,
           1057,
           1003,
           1059,
           1080,
           1001,
           1003,
           1081,
           1057,
           1067,
           1059,
           1081,
           1080,
           1003,
           1057,
           1001,
           1067,
           1002,
           1008,
           1068,
           1003,
           1059,
           1002,
           1001,
           1057,
           1008,
           1003,
           1080,
           1001,
           1059,
           1084,
           1057,
           1003,
           1080,
           1001,
           1059,
           1081,
           1003,
           1057,
           1001,
           1002,
           1076,
           1077,
           1003,
           1008,
           1059,
           1001,
           1057,
           1060,
           1061,
           1003,
           1059,
           1080,
           1057,
           1001,
           1003,
           1081,
           1059,
           1001,
           1080,
           1057,
           1081,
           1003,
           1059,
           1080,
           1057,
           1001,
           1067,
           1003,
           1059,
           1001,
           1080,
           1067,
           1057,
           1003,
           1059,
           1080,
           1001,
           1057,
           1003,
           1081,
           1070,
           1062,
           1004,
           1007,
           1005,
           1006,
           1059,
           1067,
           1057,
           1001,
           1003,
           1068,
           1079,
           1069,
           1006,
           1004,
           1013,
           1063,
           1065,
           1015,
           1012,
           1062,
           1017,
           1006,
           1080,
           1059,
           1084,
           1072,
           1073,
           1081,
           1059,
           1080,
           1073,
           1057,
           1081,
           1003,
           1004,
           1002,
           1007,
           1062,
           1078,
           1008,
           1059,
           1067,
           1057,
           1068,
           1080,
           1081,
           1059,
           1081,
           1080,
           1001,
           1057,
           1003,
           1060,
           1061,
           1081,
           1080,
           1003,
           1057,
           1001,
           1008,
           1002,
           1085,
           1072,
           1084,
           1078,
           1072,
           1079,
           1084,
           1083,
           1085,
           1080,
           1060,
           1002,
           1061,
           1008,
           1057,
           1080,
           1059,
           1081,
           1073,
           1057,
           1072,
           1004,
           1062,
           1076,
           1006,
           1007,
           1069,
           1067,
           1001,
           1073,
           1003,
           1068,
           1081,
           1076,
           1070,
           1069,
           1077,
           1083,
           1082,
           1059,
           1001,
           1002,
           1057,
           1003,
           1008,
           1080,
           1008,
           1078,
           1002,
           1079,
           1081,
           1002,
           1083,
           1062,
           1005,
           1008,
           1082,
           1006,
           1079,
           1002,
           1078,
           1077,
           1008,
           1002,
           1078,
           1070,
           1084,
           1069,
           1008,
           1080,
           1084,
           1085,
           1008,
           1002,
           1044,
           1080,
           1067,
           1057,
           1059,
           1001,
           1003,
           1067,
           1004,
           1002,
           1068,
           1008,
           1062,
           1067,
           1001,
           1068,
           1003,
           1084,
           1085,
           1059,
           1073,
           1081,
           1080,
           1057,
           1003,
           1080,
           1001,
           1081,
           1072,
           1003,
           1073,
           1059,
           1002,
           1001,
           1057,
           1067,
           1003,
           1076,
           1015,
           1010,
           1065,
           1077,
           1025,
           1080,
           1059,
           1072,
           1057,
           1081,
           1073,
           1059,
           1001,
           1057,
           1008,
           1002,
           1003,
           1001,
           1060,
           1002,
           1008,
           1003,
           1061,
           1059,
           1080,
           1057,
           1076,
           1081,
           1077,
           1059,
           1080,
           1067,
           1068,
           1081,
           1057,
           1080,
           1059,
           1001,
           1057,
           1081,
           1003,
           1072,
           1073,
           1069,
           1070,
           1008,
           1002,
           1067,
           1082,
           1084,
           1083,
           1085,
           1068,
           1080,
           1059,
           1001,
           1057,
           1003,
           1081,
           1080,
           1062,
           1005,
           1077,
           1078,
           1079,
           1059,
           1001,
           1002,
           1008,
           1057,
           1003,
           1059,
           1002,
           1080,
           1057,
           1008,
           1081,
           1080,
           1059,
           1057,
           1073,
           1072,
           1081,
           1059,
           1080,
           1001,
           1057,
           1081,
           1003,
           1079,
           1083,
           1008,
           1078,
           1082,
           1002,
           1059,
           1072,
           1080,
           1073,
           1081,
           1057,
           1001,
           1008,
           1002,
           1068,
           1067,
           1003,
           1080,
           1001,
           1059,
           1081,
           1003,
           1057,
           1056,
           1007,
           1078,
           1052,
           1004,
           1079,
           1001,
           1002,
           1085,
           1084,
           1008,
           1003,
           1080,
           1072,
           1073,
           1081,
           1001,
           1003,
           1080,
           1059,
           1057,
           1001,
           1081,
           1003,
           1006,
           1013,
           1056,
           1078,
           1063,
           1052,
           1059,
           1002,
           1001,
           1008,
           1057,
           1003,
           1080,
           1059,
           1001,
           1057,
           1081,
           1003,
           1059,
           1080,
           1001,
           1057,
           1003,
           1081,
           1080,
           1059,
           1067,
           1008,
           1081,
           1068,
           1059,
           1080,
           1067,
           1081,
           1057,
           1068,
           1043,
           1029,
           1020,
           1023,
           1027,
           1022,
           1008,
           1083,
           1067,
           1002,
           1082,
           1001,
           1079,
           1078,
           1070,
           1003,
           1069,
           1026,
           1052,
           1069,
           1044,
           1056,
           1043,
           1067,
           1059,
           1008,
           1011,
           1080,
           1068,
           1062,
           1063,
           1064,
           1066,
           1021,
           1023,
           1080,
           1059,
           1057,
           1067,
           1068,
           1081,
           1004,
           1029,
           1015,
           1022,
           1023,
           1007,
           1080,
           1059,
           1001,
           1067,
           1057,
           1081,
           1038,
           1045,
           1043,
           1077,
           1042,
           1044,
           1005,
           1059,
           1068,
           1001,
           1081,
           1003,
           1001,
           1067,
           1059,
           1068,
           1078,
           1081,
           1059,
           1001,
           1062,
           1008,
           1003,
           1057,
           1057,
           1067,
           1059,
           1068,
           1002,
           1008,
           1081,
           1080,
           1001,
           1057,
           1003,
           1059,
           1002,
           1079,
           1078,
           1057,
           1008,
           1070,
           1002,
           1059,
           1001,
           1003,
           1008,
           1057,
           1059,
           1080,
           1001,
           1081,
           1003,
           1057,
           1004,
           1078,
           1083,
           1007,
           1079,
           1082,
           1059,
           1080,
           1001,
           1081,
           1057,
           1003,
           1008,
           1001,
           1002,
           1003,
           1005,
           1013,
           1080,
           1013,
           1078,
           1081,
           1063,
           1077,
           1080,
           1067,
           1045,
           1043,
           1003,
           1081,
           1057,
           1063,
           1026,
           1025,
           1056,
           1052,
           1080,
           1067,
           1059,
           1081,
           1057,
           1068,
           1080,
           1081,
           1059,
           1008,
           1057,
           1002,
           1080,
           1059,
           1001,
           1081,
           1062,
           1003,
           1057,
           1003,
           1008,
           1001,
           1059,
           1002,
           1059,
           1080,
           1057,
           1001,
           1081,
           1003,
           1007,
           1056,
           1016,
           1004,
           1052,
           1015,
           1080,
           1059,
           1001,
           1081,
           1057,
           1003,
           1001,
           1059,
           1002,
           1057,
           1008,
           1003,
           1007,
           1015,
           1070,
           1016,
           1004,
           1069,
           1001,
           1057,
           1002,
           1059,
           1003,
           1008,
           1059,
           1008,
           1001,
           1002,
           1057,
           1003
          ],
          "coloraxis": "coloraxis"
         },
         "name": "",
         "type": "parcats"
        }
       ],
       "layout": {
        "coloraxis": {
         "colorbar": {
          "title": {
           "text": "武将"
          }
         },
         "colorscale": [
          [
           0,
           "#000004"
          ],
          [
           0.1111111111111111,
           "#1b0c41"
          ],
          [
           0.2222222222222222,
           "#4a0c6b"
          ],
          [
           0.3333333333333333,
           "#781c6d"
          ],
          [
           0.4444444444444444,
           "#a52c60"
          ],
          [
           0.5555555555555556,
           "#cf4446"
          ],
          [
           0.6666666666666666,
           "#ed6925"
          ],
          [
           0.7777777777777778,
           "#fb9b06"
          ],
          [
           0.8888888888888888,
           "#f7d13d"
          ],
          [
           1,
           "#fcffa4"
          ]
         ]
        },
        "legend": {
         "tracegroupgap": 0
        },
        "margin": {
         "t": 60
        },
        "template": {
         "data": {
          "bar": [
           {
            "error_x": {
             "color": "#2a3f5f"
            },
            "error_y": {
             "color": "#2a3f5f"
            },
            "marker": {
             "line": {
              "color": "#E5ECF6",
              "width": 0.5
             }
            },
            "type": "bar"
           }
          ],
          "barpolar": [
           {
            "marker": {
             "line": {
              "color": "#E5ECF6",
              "width": 0.5
             }
            },
            "type": "barpolar"
           }
          ],
          "carpet": [
           {
            "aaxis": {
             "endlinecolor": "#2a3f5f",
             "gridcolor": "white",
             "linecolor": "white",
             "minorgridcolor": "white",
             "startlinecolor": "#2a3f5f"
            },
            "baxis": {
             "endlinecolor": "#2a3f5f",
             "gridcolor": "white",
             "linecolor": "white",
             "minorgridcolor": "white",
             "startlinecolor": "#2a3f5f"
            },
            "type": "carpet"
           }
          ],
          "choropleth": [
           {
            "colorbar": {
             "outlinewidth": 0,
             "ticks": ""
            },
            "type": "choropleth"
           }
          ],
          "contour": [
           {
            "colorbar": {
             "outlinewidth": 0,
             "ticks": ""
            },
            "colorscale": [
             [
              0,
              "#0d0887"
             ],
             [
              0.1111111111111111,
              "#46039f"
             ],
             [
              0.2222222222222222,
              "#7201a8"
             ],
             [
              0.3333333333333333,
              "#9c179e"
             ],
             [
              0.4444444444444444,
              "#bd3786"
             ],
             [
              0.5555555555555556,
              "#d8576b"
             ],
             [
              0.6666666666666666,
              "#ed7953"
             ],
             [
              0.7777777777777778,
              "#fb9f3a"
             ],
             [
              0.8888888888888888,
              "#fdca26"
             ],
             [
              1,
              "#f0f921"
             ]
            ],
            "type": "contour"
           }
          ],
          "contourcarpet": [
           {
            "colorbar": {
             "outlinewidth": 0,
             "ticks": ""
            },
            "type": "contourcarpet"
           }
          ],
          "heatmap": [
           {
            "colorbar": {
             "outlinewidth": 0,
             "ticks": ""
            },
            "colorscale": [
             [
              0,
              "#0d0887"
             ],
             [
              0.1111111111111111,
              "#46039f"
             ],
             [
              0.2222222222222222,
              "#7201a8"
             ],
             [
              0.3333333333333333,
              "#9c179e"
             ],
             [
              0.4444444444444444,
              "#bd3786"
             ],
             [
              0.5555555555555556,
              "#d8576b"
             ],
             [
              0.6666666666666666,
              "#ed7953"
             ],
             [
              0.7777777777777778,
              "#fb9f3a"
             ],
             [
              0.8888888888888888,
              "#fdca26"
             ],
             [
              1,
              "#f0f921"
             ]
            ],
            "type": "heatmap"
           }
          ],
          "heatmapgl": [
           {
            "colorbar": {
             "outlinewidth": 0,
             "ticks": ""
            },
            "colorscale": [
             [
              0,
              "#0d0887"
             ],
             [
              0.1111111111111111,
              "#46039f"
             ],
             [
              0.2222222222222222,
              "#7201a8"
             ],
             [
              0.3333333333333333,
              "#9c179e"
             ],
             [
              0.4444444444444444,
              "#bd3786"
             ],
             [
              0.5555555555555556,
              "#d8576b"
             ],
             [
              0.6666666666666666,
              "#ed7953"
             ],
             [
              0.7777777777777778,
              "#fb9f3a"
             ],
             [
              0.8888888888888888,
              "#fdca26"
             ],
             [
              1,
              "#f0f921"
             ]
            ],
            "type": "heatmapgl"
           }
          ],
          "histogram": [
           {
            "marker": {
             "colorbar": {
              "outlinewidth": 0,
              "ticks": ""
             }
            },
            "type": "histogram"
           }
          ],
          "histogram2d": [
           {
            "colorbar": {
             "outlinewidth": 0,
             "ticks": ""
            },
            "colorscale": [
             [
              0,
              "#0d0887"
             ],
             [
              0.1111111111111111,
              "#46039f"
             ],
             [
              0.2222222222222222,
              "#7201a8"
             ],
             [
              0.3333333333333333,
              "#9c179e"
             ],
             [
              0.4444444444444444,
              "#bd3786"
             ],
             [
              0.5555555555555556,
              "#d8576b"
             ],
             [
              0.6666666666666666,
              "#ed7953"
             ],
             [
              0.7777777777777778,
              "#fb9f3a"
             ],
             [
              0.8888888888888888,
              "#fdca26"
             ],
             [
              1,
              "#f0f921"
             ]
            ],
            "type": "histogram2d"
           }
          ],
          "histogram2dcontour": [
           {
            "colorbar": {
             "outlinewidth": 0,
             "ticks": ""
            },
            "colorscale": [
             [
              0,
              "#0d0887"
             ],
             [
              0.1111111111111111,
              "#46039f"
             ],
             [
              0.2222222222222222,
              "#7201a8"
             ],
             [
              0.3333333333333333,
              "#9c179e"
             ],
             [
              0.4444444444444444,
              "#bd3786"
             ],
             [
              0.5555555555555556,
              "#d8576b"
             ],
             [
              0.6666666666666666,
              "#ed7953"
             ],
             [
              0.7777777777777778,
              "#fb9f3a"
             ],
             [
              0.8888888888888888,
              "#fdca26"
             ],
             [
              1,
              "#f0f921"
             ]
            ],
            "type": "histogram2dcontour"
           }
          ],
          "mesh3d": [
           {
            "colorbar": {
             "outlinewidth": 0,
             "ticks": ""
            },
            "type": "mesh3d"
           }
          ],
          "parcoords": [
           {
            "line": {
             "colorbar": {
              "outlinewidth": 0,
              "ticks": ""
             }
            },
            "type": "parcoords"
           }
          ],
          "pie": [
           {
            "automargin": true,
            "type": "pie"
           }
          ],
          "scatter": [
           {
            "marker": {
             "colorbar": {
              "outlinewidth": 0,
              "ticks": ""
             }
            },
            "type": "scatter"
           }
          ],
          "scatter3d": [
           {
            "line": {
             "colorbar": {
              "outlinewidth": 0,
              "ticks": ""
             }
            },
            "marker": {
             "colorbar": {
              "outlinewidth": 0,
              "ticks": ""
             }
            },
            "type": "scatter3d"
           }
          ],
          "scattercarpet": [
           {
            "marker": {
             "colorbar": {
              "outlinewidth": 0,
              "ticks": ""
             }
            },
            "type": "scattercarpet"
           }
          ],
          "scattergeo": [
           {
            "marker": {
             "colorbar": {
              "outlinewidth": 0,
              "ticks": ""
             }
            },
            "type": "scattergeo"
           }
          ],
          "scattergl": [
           {
            "marker": {
             "colorbar": {
              "outlinewidth": 0,
              "ticks": ""
             }
            },
            "type": "scattergl"
           }
          ],
          "scattermapbox": [
           {
            "marker": {
             "colorbar": {
              "outlinewidth": 0,
              "ticks": ""
             }
            },
            "type": "scattermapbox"
           }
          ],
          "scatterpolar": [
           {
            "marker": {
             "colorbar": {
              "outlinewidth": 0,
              "ticks": ""
             }
            },
            "type": "scatterpolar"
           }
          ],
          "scatterpolargl": [
           {
            "marker": {
             "colorbar": {
              "outlinewidth": 0,
              "ticks": ""
             }
            },
            "type": "scatterpolargl"
           }
          ],
          "scatterternary": [
           {
            "marker": {
             "colorbar": {
              "outlinewidth": 0,
              "ticks": ""
             }
            },
            "type": "scatterternary"
           }
          ],
          "surface": [
           {
            "colorbar": {
             "outlinewidth": 0,
             "ticks": ""
            },
            "colorscale": [
             [
              0,
              "#0d0887"
             ],
             [
              0.1111111111111111,
              "#46039f"
             ],
             [
              0.2222222222222222,
              "#7201a8"
             ],
             [
              0.3333333333333333,
              "#9c179e"
             ],
             [
              0.4444444444444444,
              "#bd3786"
             ],
             [
              0.5555555555555556,
              "#d8576b"
             ],
             [
              0.6666666666666666,
              "#ed7953"
             ],
             [
              0.7777777777777778,
              "#fb9f3a"
             ],
             [
              0.8888888888888888,
              "#fdca26"
             ],
             [
              1,
              "#f0f921"
             ]
            ],
            "type": "surface"
           }
          ],
          "table": [
           {
            "cells": {
             "fill": {
              "color": "#EBF0F8"
             },
             "line": {
              "color": "white"
             }
            },
            "header": {
             "fill": {
              "color": "#C8D4E3"
             },
             "line": {
              "color": "white"
             }
            },
            "type": "table"
           }
          ]
         },
         "layout": {
          "annotationdefaults": {
           "arrowcolor": "#2a3f5f",
           "arrowhead": 0,
           "arrowwidth": 1
          },
          "coloraxis": {
           "colorbar": {
            "outlinewidth": 0,
            "ticks": ""
           }
          },
          "colorscale": {
           "diverging": [
            [
             0,
             "#8e0152"
            ],
            [
             0.1,
             "#c51b7d"
            ],
            [
             0.2,
             "#de77ae"
            ],
            [
             0.3,
             "#f1b6da"
            ],
            [
             0.4,
             "#fde0ef"
            ],
            [
             0.5,
             "#f7f7f7"
            ],
            [
             0.6,
             "#e6f5d0"
            ],
            [
             0.7,
             "#b8e186"
            ],
            [
             0.8,
             "#7fbc41"
            ],
            [
             0.9,
             "#4d9221"
            ],
            [
             1,
             "#276419"
            ]
           ],
           "sequential": [
            [
             0,
             "#0d0887"
            ],
            [
             0.1111111111111111,
             "#46039f"
            ],
            [
             0.2222222222222222,
             "#7201a8"
            ],
            [
             0.3333333333333333,
             "#9c179e"
            ],
            [
             0.4444444444444444,
             "#bd3786"
            ],
            [
             0.5555555555555556,
             "#d8576b"
            ],
            [
             0.6666666666666666,
             "#ed7953"
            ],
            [
             0.7777777777777778,
             "#fb9f3a"
            ],
            [
             0.8888888888888888,
             "#fdca26"
            ],
            [
             1,
             "#f0f921"
            ]
           ],
           "sequentialminus": [
            [
             0,
             "#0d0887"
            ],
            [
             0.1111111111111111,
             "#46039f"
            ],
            [
             0.2222222222222222,
             "#7201a8"
            ],
            [
             0.3333333333333333,
             "#9c179e"
            ],
            [
             0.4444444444444444,
             "#bd3786"
            ],
            [
             0.5555555555555556,
             "#d8576b"
            ],
            [
             0.6666666666666666,
             "#ed7953"
            ],
            [
             0.7777777777777778,
             "#fb9f3a"
            ],
            [
             0.8888888888888888,
             "#fdca26"
            ],
            [
             1,
             "#f0f921"
            ]
           ]
          },
          "colorway": [
           "#636efa",
           "#EF553B",
           "#00cc96",
           "#ab63fa",
           "#FFA15A",
           "#19d3f3",
           "#FF6692",
           "#B6E880",
           "#FF97FF",
           "#FECB52"
          ],
          "font": {
           "color": "#2a3f5f"
          },
          "geo": {
           "bgcolor": "white",
           "lakecolor": "white",
           "landcolor": "#E5ECF6",
           "showlakes": true,
           "showland": true,
           "subunitcolor": "white"
          },
          "hoverlabel": {
           "align": "left"
          },
          "hovermode": "closest",
          "mapbox": {
           "style": "light"
          },
          "paper_bgcolor": "white",
          "plot_bgcolor": "#E5ECF6",
          "polar": {
           "angularaxis": {
            "gridcolor": "white",
            "linecolor": "white",
            "ticks": ""
           },
           "bgcolor": "#E5ECF6",
           "radialaxis": {
            "gridcolor": "white",
            "linecolor": "white",
            "ticks": ""
           }
          },
          "scene": {
           "xaxis": {
            "backgroundcolor": "#E5ECF6",
            "gridcolor": "white",
            "gridwidth": 2,
            "linecolor": "white",
            "showbackground": true,
            "ticks": "",
            "zerolinecolor": "white"
           },
           "yaxis": {
            "backgroundcolor": "#E5ECF6",
            "gridcolor": "white",
            "gridwidth": 2,
            "linecolor": "white",
            "showbackground": true,
            "ticks": "",
            "zerolinecolor": "white"
           },
           "zaxis": {
            "backgroundcolor": "#E5ECF6",
            "gridcolor": "white",
            "gridwidth": 2,
            "linecolor": "white",
            "showbackground": true,
            "ticks": "",
            "zerolinecolor": "white"
           }
          },
          "shapedefaults": {
           "line": {
            "color": "#2a3f5f"
           }
          },
          "ternary": {
           "aaxis": {
            "gridcolor": "white",
            "linecolor": "white",
            "ticks": ""
           },
           "baxis": {
            "gridcolor": "white",
            "linecolor": "white",
            "ticks": ""
           },
           "bgcolor": "#E5ECF6",
           "caxis": {
            "gridcolor": "white",
            "linecolor": "white",
            "ticks": ""
           }
          },
          "title": {
           "x": 0.05
          },
          "xaxis": {
           "automargin": true,
           "gridcolor": "white",
           "linecolor": "white",
           "ticks": "",
           "title": {
            "standoff": 15
           },
           "zerolinecolor": "white",
           "zerolinewidth": 2
          },
          "yaxis": {
           "automargin": true,
           "gridcolor": "white",
           "linecolor": "white",
           "ticks": "",
           "title": {
            "standoff": 15
           },
           "zerolinecolor": "white",
           "zerolinewidth": 2
          }
         }
        }
       }
      },
      "text/html": [
       "<div>\n",
       "        \n",
       "        \n",
       "            <div id=\"1bf64fd3-20f1-4a63-903a-6c9bea19c071\" class=\"plotly-graph-div\" style=\"height:525px; width:100%;\"></div>\n",
       "            <script type=\"text/javascript\">\n",
       "                require([\"plotly\"], function(Plotly) {\n",
       "                    window.PLOTLYENV=window.PLOTLYENV || {};\n",
       "                    \n",
       "                if (document.getElementById(\"1bf64fd3-20f1-4a63-903a-6c9bea19c071\")) {\n",
       "                    Plotly.newPlot(\n",
       "                        '1bf64fd3-20f1-4a63-903a-6c9bea19c071',\n",
       "                        [{\"dimensions\": [{\"label\": \"\\u7c7b\\u578b\", \"values\": [\"\\u6df7\\u670d\", \"\\u6df7\\u670d\", \"\\u6df7\\u670d\", \"\\u6df7\\u670d\", \"\\u6df7\\u670d\", \"\\u6df7\\u670d\", \"\\u6df7\\u670d\", \"\\u6df7\\u670d\", \"\\u6df7\\u670d\", \"\\u6df7\\u670d\", \"\\u6df7\\u670d\", \"\\u6df7\\u670d\", \"\\u6df7\\u670d\", \"\\u6df7\\u670d\", \"\\u6df7\\u670d\", \"\\u6df7\\u670d\", \"\\u6df7\\u670d\", \"\\u6df7\\u670d\", \"\\u6df7\\u670d\", \"\\u6df7\\u670d\", \"\\u6df7\\u670d\", \"\\u6df7\\u670d\", \"\\u6df7\\u670d\", \"\\u6df7\\u670d\", \"\\u6df7\\u670d\", \"\\u6df7\\u670d\", \"\\u6df7\\u670d\", \"\\u6df7\\u670d\", \"\\u6df7\\u670d\", \"\\u6df7\\u670d\", \"\\u5fc3\\u8ff9\", \"\\u5fc3\\u8ff9\", \"\\u5fc3\\u8ff9\", \"\\u5fc3\\u8ff9\", \"\\u5fc3\\u8ff9\", \"\\u5fc3\\u8ff9\", \"\\u6df7\\u670d\", \"\\u6df7\\u670d\", \"\\u6df7\\u670d\", \"\\u6df7\\u670d\", \"\\u6df7\\u670d\", \"\\u6df7\\u670d\", \"\\u6df7\\u670d\", \"\\u6df7\\u670d\", \"\\u6df7\\u670d\", \"\\u6df7\\u670d\", \"\\u6df7\\u670d\", \"\\u6df7\\u670d\", \"\\u6df7\\u670d\", \"\\u6df7\\u670d\", \"\\u6df7\\u670d\", \"\\u6df7\\u670d\", \"\\u6df7\\u670d\", \"\\u6df7\\u670d\", \"\\u5fc3\\u8ff9\", \"\\u5fc3\\u8ff9\", \"\\u5fc3\\u8ff9\", \"\\u5fc3\\u8ff9\", \"\\u5fc3\\u8ff9\", \"\\u5fc3\\u8ff9\", \"\\u5fc3\\u8ff9\", \"\\u5fc3\\u8ff9\", \"\\u5fc3\\u8ff9\", \"\\u5fc3\\u8ff9\", \"\\u5fc3\\u8ff9\", \"\\u5fc3\\u8ff9\", \"\\u6df7\\u670d\", \"\\u6df7\\u670d\", \"\\u6df7\\u670d\", \"\\u6df7\\u670d\", \"\\u6df7\\u670d\", \"\\u6df7\\u670d\", \"\\u6df7\\u670d\", \"\\u6df7\\u670d\", \"\\u6df7\\u670d\", \"\\u6df7\\u670d\", \"\\u6df7\\u670d\", \"\\u6df7\\u670d\", \"\\u6df7\\u670d\", \"\\u6df7\\u670d\", \"\\u6df7\\u670d\", \"\\u6df7\\u670d\", \"\\u6df7\\u670d\", \"\\u6df7\\u670d\", \"\\u6df7\\u670d\", \"\\u6df7\\u670d\", \"\\u6df7\\u670d\", \"\\u6df7\\u670d\", \"\\u6df7\\u670d\", \"\\u6df7\\u670d\", \"\\u6df7\\u670d\", \"\\u6df7\\u670d\", \"\\u6df7\\u670d\", \"\\u6df7\\u670d\", \"\\u6df7\\u670d\", \"\\u6df7\\u670d\", \"\\u6df7\\u670d\", \"\\u6df7\\u670d\", \"\\u6df7\\u670d\", \"\\u6df7\\u670d\", \"\\u6df7\\u670d\", \"\\u6df7\\u670d\", \"\\u6df7\\u670d\", \"\\u6df7\\u670d\", \"\\u6df7\\u670d\", \"\\u6df7\\u670d\", \"\\u6df7\\u670d\", \"\\u6df7\\u670d\", \"\\u6df7\\u670d\", \"\\u6df7\\u670d\", \"\\u6df7\\u670d\", \"\\u6df7\\u670d\", \"\\u6df7\\u670d\", \"\\u6df7\\u670d\", \"\\u6df7\\u670d\", \"\\u6df7\\u670d\", \"\\u6df7\\u670d\", \"\\u6df7\\u670d\", \"\\u6df7\\u670d\", \"\\u6df7\\u670d\", \"\\u6df7\\u670d\", \"\\u6df7\\u670d\", \"\\u6df7\\u670d\", \"\\u6df7\\u670d\", \"\\u6df7\\u670d\", \"\\u6df7\\u670d\", \"\\u6df7\\u670d\", \"\\u6df7\\u670d\", \"\\u6df7\\u670d\", \"\\u6df7\\u670d\", \"\\u6df7\\u670d\", \"\\u6df7\\u670d\", \"\\u6df7\\u670d\", \"\\u6df7\\u670d\", \"\\u6df7\\u670d\", \"\\u6df7\\u670d\", \"\\u6df7\\u670d\", \"\\u6df7\\u670d\", \"\\u6df7\\u670d\", \"\\u6df7\\u670d\", \"\\u6df7\\u670d\", \"\\u6df7\\u670d\", \"\\u6df7\\u670d\", \"\\u6df7\\u670d\", \"\\u6df7\\u670d\", \"\\u6df7\\u670d\", \"\\u6df7\\u670d\", \"\\u6df7\\u670d\", \"\\u6df7\\u670d\", \"\\u6df7\\u670d\", \"\\u5fc3\\u8ff9\", \"\\u5fc3\\u8ff9\", \"\\u5fc3\\u8ff9\", \"\\u5fc3\\u8ff9\", \"\\u5fc3\\u8ff9\", \"\\u5fc3\\u8ff9\", \"\\u6df7\\u670d\", \"\\u6df7\\u670d\", \"\\u6df7\\u670d\", \"\\u6df7\\u670d\", \"\\u6df7\\u670d\", \"\\u6df7\\u670d\", \"\\u6df7\\u670d\", \"\\u6df7\\u670d\", \"\\u6df7\\u670d\", \"\\u6df7\\u670d\", \"\\u6df7\\u670d\", \"\\u6df7\\u670d\", \"\\u6df7\\u670d\", \"\\u6df7\\u670d\", \"\\u6df7\\u670d\", \"\\u6df7\\u670d\", \"\\u6df7\\u670d\", \"\\u6df7\\u670d\", \"\\u6df7\\u670d\", \"\\u6df7\\u670d\", \"\\u6df7\\u670d\", \"\\u6df7\\u670d\", \"\\u6df7\\u670d\", \"\\u6df7\\u670d\", \"\\u6df7\\u670d\", \"\\u6df7\\u670d\", \"\\u6df7\\u670d\", \"\\u6df7\\u670d\", \"\\u6df7\\u670d\", \"\\u6df7\\u670d\", \"\\u6df7\\u670d\", \"\\u6df7\\u670d\", \"\\u6df7\\u670d\", \"\\u6df7\\u670d\", \"\\u6df7\\u670d\", \"\\u6df7\\u670d\", \"\\u6df7\\u670d\", \"\\u6df7\\u670d\", \"\\u6df7\\u670d\", \"\\u6df7\\u670d\", \"\\u6df7\\u670d\", \"\\u6df7\\u670d\", \"\\u6df7\\u670d\", \"\\u6df7\\u670d\", \"\\u6df7\\u670d\", \"\\u6df7\\u670d\", \"\\u6df7\\u670d\", \"\\u6df7\\u670d\", \"\\u6df7\\u670d\", \"\\u6df7\\u670d\", \"\\u6df7\\u670d\", \"\\u6df7\\u670d\", \"\\u6df7\\u670d\", \"\\u6df7\\u670d\", \"\\u6df7\\u670d\", \"\\u6df7\\u670d\", \"\\u6df7\\u670d\", \"\\u6df7\\u670d\", \"\\u6df7\\u670d\", \"\\u6df7\\u670d\", \"\\u6df7\\u670d\", \"\\u6df7\\u670d\", \"\\u6df7\\u670d\", \"\\u6df7\\u670d\", \"\\u6df7\\u670d\", \"\\u6df7\\u670d\", \"\\u6df7\\u670d\", \"\\u6df7\\u670d\", \"\\u6df7\\u670d\", \"\\u6df7\\u670d\", \"\\u6df7\\u670d\", \"\\u6df7\\u670d\", \"\\u6df7\\u670d\", \"\\u6df7\\u670d\", \"\\u6df7\\u670d\", \"\\u6df7\\u670d\", \"\\u6df7\\u670d\", \"\\u6df7\\u670d\", \"\\u6df7\\u670d\", \"\\u6df7\\u670d\", \"\\u6df7\\u670d\", \"\\u6df7\\u670d\", \"\\u6df7\\u670d\", \"\\u6df7\\u670d\", \"\\u6df7\\u670d\", \"\\u6df7\\u670d\", \"\\u6df7\\u670d\", \"\\u6df7\\u670d\", \"\\u6df7\\u670d\", \"\\u6df7\\u670d\", \"\\u6df7\\u670d\", \"\\u6df7\\u670d\", \"\\u6df7\\u670d\", \"\\u6df7\\u670d\", \"\\u6df7\\u670d\", \"\\u6df7\\u670d\", \"\\u6df7\\u670d\", \"\\u6df7\\u670d\", \"\\u6df7\\u670d\", \"\\u6df7\\u670d\", \"\\u6df7\\u670d\", \"\\u6df7\\u670d\", \"\\u6df7\\u670d\", \"\\u6df7\\u670d\", \"\\u6df7\\u670d\", \"\\u6df7\\u670d\", \"\\u6df7\\u670d\", \"\\u6df7\\u670d\", \"\\u6df7\\u670d\", \"\\u6df7\\u670d\", \"\\u6df7\\u670d\", \"\\u6df7\\u670d\", \"\\u6df7\\u670d\", \"\\u6df7\\u670d\", \"\\u6df7\\u670d\", \"\\u6df7\\u670d\", \"\\u6df7\\u670d\", \"\\u6df7\\u670d\", \"\\u6df7\\u670d\", \"\\u6df7\\u670d\", \"\\u6df7\\u670d\", \"\\u6df7\\u670d\", \"\\u6df7\\u670d\", \"\\u6df7\\u670d\", \"\\u6df7\\u670d\", \"\\u6df7\\u670d\", \"\\u6df7\\u670d\", \"\\u6df7\\u670d\", \"\\u6df7\\u670d\", \"\\u6df7\\u670d\", \"\\u6df7\\u670d\", \"\\u6df7\\u670d\", \"\\u6df7\\u670d\", \"\\u6df7\\u670d\", \"\\u6df7\\u670d\", \"\\u6df7\\u670d\", \"\\u6df7\\u670d\", \"\\u6df7\\u670d\", \"\\u5fc3\\u8ff9\", \"\\u5fc3\\u8ff9\", \"\\u5fc3\\u8ff9\", \"\\u5fc3\\u8ff9\", \"\\u5fc3\\u8ff9\", \"\\u5fc3\\u8ff9\", \"\\u5fc3\\u8ff9\", \"\\u5fc3\\u8ff9\", \"\\u5fc3\\u8ff9\", \"\\u5fc3\\u8ff9\", \"\\u5fc3\\u8ff9\", \"\\u5fc3\\u8ff9\", \"\\u6df7\\u670d\", \"\\u6df7\\u670d\", \"\\u6df7\\u670d\", \"\\u6df7\\u670d\", \"\\u6df7\\u670d\", \"\\u6df7\\u670d\", \"\\u6df7\\u670d\", \"\\u6df7\\u670d\", \"\\u6df7\\u670d\", \"\\u6df7\\u670d\", \"\\u6df7\\u670d\", \"\\u6df7\\u670d\", \"\\u6df7\\u670d\", \"\\u6df7\\u670d\", \"\\u6df7\\u670d\", \"\\u6df7\\u670d\", \"\\u6df7\\u670d\", \"\\u6df7\\u670d\", \"\\u6df7\\u670d\", \"\\u6df7\\u670d\", \"\\u6df7\\u670d\", \"\\u6df7\\u670d\", \"\\u6df7\\u670d\", \"\\u6df7\\u670d\", \"\\u6df7\\u670d\", \"\\u6df7\\u670d\", \"\\u6df7\\u670d\", \"\\u6df7\\u670d\", \"\\u6df7\\u670d\", \"\\u6df7\\u670d\", \"\\u5fc3\\u8ff9\", \"\\u5fc3\\u8ff9\", \"\\u5fc3\\u8ff9\", \"\\u5fc3\\u8ff9\", \"\\u5fc3\\u8ff9\", \"\\u5fc3\\u8ff9\", \"\\u6df7\\u670d\", \"\\u6df7\\u670d\", \"\\u6df7\\u670d\", \"\\u6df7\\u670d\", \"\\u6df7\\u670d\", \"\\u6df7\\u670d\", \"\\u5fc3\\u8ff9\", \"\\u5fc3\\u8ff9\", \"\\u5fc3\\u8ff9\", \"\\u5fc3\\u8ff9\", \"\\u5fc3\\u8ff9\", \"\\u5fc3\\u8ff9\", \"\\u5fc3\\u8ff9\", \"\\u5fc3\\u8ff9\", \"\\u5fc3\\u8ff9\", \"\\u5fc3\\u8ff9\", \"\\u5fc3\\u8ff9\", \"\\u5fc3\\u8ff9\", \"\\u6df7\\u670d\", \"\\u6df7\\u670d\", \"\\u6df7\\u670d\", \"\\u6df7\\u670d\", \"\\u6df7\\u670d\", \"\\u6df7\\u670d\", \"\\u6df7\\u670d\", \"\\u6df7\\u670d\", \"\\u6df7\\u670d\", \"\\u6df7\\u670d\", \"\\u6df7\\u670d\", \"\\u6df7\\u670d\", \"\\u6df7\\u670d\", \"\\u6df7\\u670d\", \"\\u6df7\\u670d\", \"\\u6df7\\u670d\", \"\\u6df7\\u670d\", \"\\u6df7\\u670d\", \"\\u6df7\\u670d\", \"\\u6df7\\u670d\", \"\\u6df7\\u670d\", \"\\u6df7\\u670d\", \"\\u6df7\\u670d\", \"\\u6df7\\u670d\", \"\\u6df7\\u670d\", \"\\u6df7\\u670d\", \"\\u6df7\\u670d\", \"\\u6df7\\u670d\", \"\\u6df7\\u670d\", \"\\u6df7\\u670d\", \"\\u6df7\\u670d\", \"\\u6df7\\u670d\", \"\\u6df7\\u670d\", \"\\u6df7\\u670d\", \"\\u6df7\\u670d\", \"\\u6df7\\u670d\", \"\\u5fc3\\u8ff9\", \"\\u5fc3\\u8ff9\", \"\\u5fc3\\u8ff9\", \"\\u5fc3\\u8ff9\", \"\\u5fc3\\u8ff9\", \"\\u5fc3\\u8ff9\", \"\\u6df7\\u670d\", \"\\u6df7\\u670d\", \"\\u6df7\\u670d\", \"\\u6df7\\u670d\", \"\\u6df7\\u670d\", \"\\u6df7\\u670d\", \"\\u5fc3\\u8ff9\", \"\\u5fc3\\u8ff9\", \"\\u5fc3\\u8ff9\", \"\\u5fc3\\u8ff9\", \"\\u5fc3\\u8ff9\", \"\\u5fc3\\u8ff9\", \"\\u6df7\\u670d\", \"\\u6df7\\u670d\", \"\\u6df7\\u670d\", \"\\u6df7\\u670d\", \"\\u6df7\\u670d\", \"\\u6df7\\u670d\", \"\\u6df7\\u670d\", \"\\u6df7\\u670d\", \"\\u6df7\\u670d\", \"\\u6df7\\u670d\", \"\\u6df7\\u670d\", \"\\u6df7\\u670d\", \"\\u6df7\\u670d\", \"\\u6df7\\u670d\", \"\\u6df7\\u670d\", \"\\u6df7\\u670d\", \"\\u6df7\\u670d\", \"\\u6df7\\u670d\", \"\\u5fc3\\u8ff9\", \"\\u5fc3\\u8ff9\", \"\\u5fc3\\u8ff9\", \"\\u5fc3\\u8ff9\", \"\\u5fc3\\u8ff9\", \"\\u5fc3\\u8ff9\", \"\\u6df7\\u670d\", \"\\u6df7\\u670d\", \"\\u6df7\\u670d\", \"\\u6df7\\u670d\", \"\\u6df7\\u670d\", \"\\u6df7\\u670d\", \"\\u6df7\\u670d\", \"\\u6df7\\u670d\", \"\\u6df7\\u670d\", \"\\u6df7\\u670d\", \"\\u6df7\\u670d\", \"\\u6df7\\u670d\", \"\\u5fc3\\u8ff9\", \"\\u5fc3\\u8ff9\", \"\\u5fc3\\u8ff9\", \"\\u5fc3\\u8ff9\", \"\\u5fc3\\u8ff9\", \"\\u5fc3\\u8ff9\", \"\\u6df7\\u670d\", \"\\u6df7\\u670d\", \"\\u6df7\\u670d\", \"\\u6df7\\u670d\", \"\\u6df7\\u670d\", \"\\u6df7\\u670d\", \"\\u6df7\\u670d\", \"\\u6df7\\u670d\", \"\\u6df7\\u670d\", \"\\u6df7\\u670d\", \"\\u6df7\\u670d\", \"\\u6df7\\u670d\", \"\\u6df7\\u670d\", \"\\u6df7\\u670d\", \"\\u6df7\\u670d\", \"\\u6df7\\u670d\", \"\\u6df7\\u670d\", \"\\u6df7\\u670d\", \"\\u6df7\\u670d\", \"\\u6df7\\u670d\", \"\\u6df7\\u670d\", \"\\u6df7\\u670d\", \"\\u6df7\\u670d\", \"\\u6df7\\u670d\", \"\\u6df7\\u670d\", \"\\u6df7\\u670d\", \"\\u6df7\\u670d\", \"\\u6df7\\u670d\", \"\\u6df7\\u670d\", \"\\u6df7\\u670d\", \"\\u6df7\\u670d\", \"\\u6df7\\u670d\", \"\\u6df7\\u670d\", \"\\u6df7\\u670d\", \"\\u6df7\\u670d\", \"\\u6df7\\u670d\", \"\\u6df7\\u670d\", \"\\u6df7\\u670d\", \"\\u6df7\\u670d\", \"\\u6df7\\u670d\", \"\\u6df7\\u670d\", \"\\u6df7\\u670d\", \"\\u5fc3\\u8ff9\", \"\\u5fc3\\u8ff9\", \"\\u5fc3\\u8ff9\", \"\\u5fc3\\u8ff9\", \"\\u5fc3\\u8ff9\", \"\\u5fc3\\u8ff9\", \"\\u6df7\\u670d\", \"\\u6df7\\u670d\", \"\\u6df7\\u670d\", \"\\u6df7\\u670d\", \"\\u6df7\\u670d\", \"\\u6df7\\u670d\", \"\\u6df7\\u670d\", \"\\u6df7\\u670d\", \"\\u6df7\\u670d\", \"\\u6df7\\u670d\", \"\\u6df7\\u670d\", \"\\u6df7\\u670d\", \"\\u5fc3\\u8ff9\", \"\\u5fc3\\u8ff9\", \"\\u5fc3\\u8ff9\", \"\\u5fc3\\u8ff9\", \"\\u5fc3\\u8ff9\", \"\\u5fc3\\u8ff9\", \"\\u6df7\\u670d\", \"\\u6df7\\u670d\", \"\\u6df7\\u670d\", \"\\u6df7\\u670d\", \"\\u6df7\\u670d\", \"\\u6df7\\u670d\", \"\\u5fc3\\u8ff9\", \"\\u5fc3\\u8ff9\", \"\\u5fc3\\u8ff9\", \"\\u5fc3\\u8ff9\", \"\\u5fc3\\u8ff9\", \"\\u5fc3\\u8ff9\", \"\\u6df7\\u670d\", \"\\u6df7\\u670d\", \"\\u6df7\\u670d\", \"\\u6df7\\u670d\", \"\\u6df7\\u670d\", \"\\u6df7\\u670d\", \"\\u6df7\\u670d\", \"\\u6df7\\u670d\", \"\\u6df7\\u670d\", \"\\u6df7\\u670d\", \"\\u6df7\\u670d\", \"\\u6df7\\u670d\", \"\\u6df7\\u670d\", \"\\u6df7\\u670d\", \"\\u6df7\\u670d\", \"\\u6df7\\u670d\", \"\\u6df7\\u670d\", \"\\u6df7\\u670d\", \"\\u6df7\\u670d\", \"\\u6df7\\u670d\", \"\\u6df7\\u670d\", \"\\u6df7\\u670d\", \"\\u6df7\\u670d\", \"\\u6df7\\u670d\", \"\\u5fc3\\u8ff9\", \"\\u5fc3\\u8ff9\", \"\\u5fc3\\u8ff9\", \"\\u5fc3\\u8ff9\", \"\\u5fc3\\u8ff9\", \"\\u5fc3\\u8ff9\", \"\\u6df7\\u670d\", \"\\u6df7\\u670d\", \"\\u6df7\\u670d\", \"\\u6df7\\u670d\", \"\\u6df7\\u670d\", \"\\u6df7\\u670d\", \"\\u6df7\\u670d\", \"\\u6df7\\u670d\", \"\\u6df7\\u670d\", \"\\u6df7\\u670d\", \"\\u6df7\\u670d\", \"\\u6df7\\u670d\", \"\\u5fc3\\u8ff9\", \"\\u5fc3\\u8ff9\", \"\\u5fc3\\u8ff9\", \"\\u5fc3\\u8ff9\", \"\\u5fc3\\u8ff9\", \"\\u5fc3\\u8ff9\", \"\\u5fc3\\u8ff9\", \"\\u5fc3\\u8ff9\", \"\\u5fc3\\u8ff9\", \"\\u5fc3\\u8ff9\", \"\\u5fc3\\u8ff9\", \"\\u5fc3\\u8ff9\", \"\\u6df7\\u670d\", \"\\u6df7\\u670d\", \"\\u6df7\\u670d\", \"\\u6df7\\u670d\", \"\\u6df7\\u670d\", \"\\u6df7\\u670d\", \"\\u6df7\\u670d\", \"\\u6df7\\u670d\", \"\\u6df7\\u670d\", \"\\u6df7\\u670d\", \"\\u6df7\\u670d\", \"\\u6df7\\u670d\", \"\\u6df7\\u670d\", \"\\u6df7\\u670d\", \"\\u6df7\\u670d\", \"\\u6df7\\u670d\", \"\\u6df7\\u670d\", \"\\u6df7\\u670d\", \"\\u5fc3\\u8ff9\", \"\\u5fc3\\u8ff9\", \"\\u5fc3\\u8ff9\", \"\\u5fc3\\u8ff9\", \"\\u5fc3\\u8ff9\", \"\\u5fc3\\u8ff9\", \"\\u5fc3\\u8ff9\", \"\\u5fc3\\u8ff9\", \"\\u5fc3\\u8ff9\", \"\\u5fc3\\u8ff9\", \"\\u5fc3\\u8ff9\", \"\\u5fc3\\u8ff9\", \"\\u6df7\\u670d\", \"\\u6df7\\u670d\", \"\\u6df7\\u670d\", \"\\u6df7\\u670d\", \"\\u6df7\\u670d\", \"\\u6df7\\u670d\", \"\\u6df7\\u670d\", \"\\u6df7\\u670d\", \"\\u6df7\\u670d\", \"\\u6df7\\u670d\", \"\\u6df7\\u670d\", \"\\u6df7\\u670d\", \"\\u5fc3\\u8ff9\", \"\\u5fc3\\u8ff9\", \"\\u5fc3\\u8ff9\", \"\\u5fc3\\u8ff9\", \"\\u5fc3\\u8ff9\", \"\\u5fc3\\u8ff9\", \"\\u5fc3\\u8ff9\", \"\\u5fc3\\u8ff9\", \"\\u5fc3\\u8ff9\", \"\\u5fc3\\u8ff9\", \"\\u5fc3\\u8ff9\", \"\\u5fc3\\u8ff9\", \"\\u6df7\\u670d\", \"\\u6df7\\u670d\", \"\\u6df7\\u670d\", \"\\u6df7\\u670d\", \"\\u6df7\\u670d\", \"\\u6df7\\u670d\", \"\\u5fc3\\u8ff9\", \"\\u5fc3\\u8ff9\", \"\\u5fc3\\u8ff9\", \"\\u5fc3\\u8ff9\", \"\\u5fc3\\u8ff9\", \"\\u5fc3\\u8ff9\", \"\\u6df7\\u670d\", \"\\u6df7\\u670d\", \"\\u6df7\\u670d\", \"\\u6df7\\u670d\", \"\\u6df7\\u670d\", \"\\u6df7\\u670d\", \"\\u6df7\\u670d\", \"\\u6df7\\u670d\", \"\\u6df7\\u670d\", \"\\u6df7\\u670d\", \"\\u6df7\\u670d\", \"\\u6df7\\u670d\", \"\\u5fc3\\u8ff9\", \"\\u5fc3\\u8ff9\", \"\\u5fc3\\u8ff9\", \"\\u5fc3\\u8ff9\", \"\\u5fc3\\u8ff9\", \"\\u5fc3\\u8ff9\", \"\\u6df7\\u670d\", \"\\u6df7\\u670d\", \"\\u6df7\\u670d\", \"\\u6df7\\u670d\", \"\\u6df7\\u670d\", \"\\u6df7\\u670d\", \"\\u6df7\\u670d\", \"\\u6df7\\u670d\", \"\\u6df7\\u670d\", \"\\u6df7\\u670d\", \"\\u6df7\\u670d\", \"\\u6df7\\u670d\", \"\\u5fc3\\u8ff9\", \"\\u5fc3\\u8ff9\", \"\\u5fc3\\u8ff9\", \"\\u5fc3\\u8ff9\", \"\\u5fc3\\u8ff9\", \"\\u5fc3\\u8ff9\", \"\\u5fc3\\u8ff9\", \"\\u5fc3\\u8ff9\", \"\\u5fc3\\u8ff9\", \"\\u5fc3\\u8ff9\", \"\\u5fc3\\u8ff9\", \"\\u5fc3\\u8ff9\", \"\\u6df7\\u670d\", \"\\u6df7\\u670d\", \"\\u6df7\\u670d\", \"\\u6df7\\u670d\", \"\\u6df7\\u670d\", \"\\u6df7\\u670d\", \"\\u5fc3\\u8ff9\", \"\\u5fc3\\u8ff9\", \"\\u5fc3\\u8ff9\", \"\\u5fc3\\u8ff9\", \"\\u5fc3\\u8ff9\", \"\\u5fc3\\u8ff9\", \"\\u6df7\\u670d\", \"\\u6df7\\u670d\", \"\\u6df7\\u670d\", \"\\u6df7\\u670d\", \"\\u6df7\\u670d\", \"\\u6df7\\u670d\", \"\\u5fc3\\u8ff9\", \"\\u5fc3\\u8ff9\", \"\\u5fc3\\u8ff9\", \"\\u5fc3\\u8ff9\", \"\\u5fc3\\u8ff9\", \"\\u5fc3\\u8ff9\", \"\\u5fc3\\u8ff9\", \"\\u5fc3\\u8ff9\", \"\\u5fc3\\u8ff9\", \"\\u5fc3\\u8ff9\", \"\\u5fc3\\u8ff9\", \"\\u5fc3\\u8ff9\", \"\\u6df7\\u670d\", \"\\u6df7\\u670d\", \"\\u6df7\\u670d\", \"\\u6df7\\u670d\", \"\\u6df7\\u670d\", \"\\u6df7\\u670d\", \"\\u5fc3\\u8ff9\", \"\\u5fc3\\u8ff9\", \"\\u5fc3\\u8ff9\", \"\\u5fc3\\u8ff9\", \"\\u5fc3\\u8ff9\", \"\\u5fc3\\u8ff9\", \"\\u6df7\\u670d\", \"\\u6df7\\u670d\", \"\\u6df7\\u670d\", \"\\u6df7\\u670d\", \"\\u6df7\\u670d\", \"\\u6df7\\u670d\", \"\\u5fc3\\u8ff9\", \"\\u5fc3\\u8ff9\", \"\\u5fc3\\u8ff9\", \"\\u5fc3\\u8ff9\", \"\\u5fc3\\u8ff9\", \"\\u5fc3\\u8ff9\", \"\\u5fc3\\u8ff9\", \"\\u5fc3\\u8ff9\", \"\\u5fc3\\u8ff9\", \"\\u5fc3\\u8ff9\", \"\\u5fc3\\u8ff9\", \"\\u5fc3\\u8ff9\", \"\\u5fc3\\u8ff9\", \"\\u5fc3\\u8ff9\", \"\\u5fc3\\u8ff9\", \"\\u5fc3\\u8ff9\", \"\\u5fc3\\u8ff9\", \"\\u5fc3\\u8ff9\", \"\\u6df7\\u670d\", \"\\u6df7\\u670d\", \"\\u6df7\\u670d\", \"\\u6df7\\u670d\", \"\\u6df7\\u670d\", \"\\u6df7\\u670d\", \"\\u6df7\\u670d\", \"\\u6df7\\u670d\", \"\\u6df7\\u670d\", \"\\u6df7\\u670d\", \"\\u6df7\\u670d\", \"\\u6df7\\u670d\", \"\\u5fc3\\u8ff9\", \"\\u5fc3\\u8ff9\", \"\\u5fc3\\u8ff9\", \"\\u5fc3\\u8ff9\", \"\\u5fc3\\u8ff9\", \"\\u5fc3\\u8ff9\", \"\\u5fc3\\u8ff9\", \"\\u5fc3\\u8ff9\", \"\\u5fc3\\u8ff9\", \"\\u5fc3\\u8ff9\", \"\\u5fc3\\u8ff9\", \"\\u5fc3\\u8ff9\", \"\\u6df7\\u670d\", \"\\u6df7\\u670d\", \"\\u6df7\\u670d\", \"\\u6df7\\u670d\", \"\\u6df7\\u670d\", \"\\u6df7\\u670d\", \"\\u5fc3\\u8ff9\", \"\\u5fc3\\u8ff9\", \"\\u5fc3\\u8ff9\", \"\\u5fc3\\u8ff9\", \"\\u5fc3\\u8ff9\", \"\\u5fc3\\u8ff9\", \"\\u6df7\\u670d\", \"\\u6df7\\u670d\", \"\\u6df7\\u670d\", \"\\u6df7\\u670d\", \"\\u6df7\\u670d\", \"\\u6df7\\u670d\", \"\\u5fc3\\u8ff9\", \"\\u5fc3\\u8ff9\", \"\\u5fc3\\u8ff9\", \"\\u5fc3\\u8ff9\", \"\\u5fc3\\u8ff9\", \"\\u5fc3\\u8ff9\", \"\\u5fc3\\u8ff9\", \"\\u5fc3\\u8ff9\", \"\\u5fc3\\u8ff9\", \"\\u5fc3\\u8ff9\", \"\\u5fc3\\u8ff9\", \"\\u5fc3\\u8ff9\", \"\\u5fc3\\u8ff9\", \"\\u5fc3\\u8ff9\", \"\\u5fc3\\u8ff9\", \"\\u5fc3\\u8ff9\", \"\\u5fc3\\u8ff9\", \"\\u5fc3\\u8ff9\", \"\\u6df7\\u670d\", \"\\u6df7\\u670d\", \"\\u6df7\\u670d\", \"\\u6df7\\u670d\", \"\\u6df7\\u670d\", \"\\u6df7\\u670d\", \"\\u5fc3\\u8ff9\", \"\\u5fc3\\u8ff9\", \"\\u5fc3\\u8ff9\", \"\\u5fc3\\u8ff9\", \"\\u5fc3\\u8ff9\", \"\\u5fc3\\u8ff9\", \"\\u5fc3\\u8ff9\", \"\\u5fc3\\u8ff9\", \"\\u5fc3\\u8ff9\", \"\\u5fc3\\u8ff9\", \"\\u5fc3\\u8ff9\", \"\\u5fc3\\u8ff9\", \"\\u5fc3\\u8ff9\", \"\\u5fc3\\u8ff9\", \"\\u5fc3\\u8ff9\", \"\\u5fc3\\u8ff9\", \"\\u5fc3\\u8ff9\", \"\\u5fc3\\u8ff9\", \"\\u6df7\\u670d\", \"\\u6df7\\u670d\", \"\\u6df7\\u670d\", \"\\u6df7\\u670d\", \"\\u6df7\\u670d\", \"\\u6df7\\u670d\", \"\\u5fc3\\u8ff9\", \"\\u5fc3\\u8ff9\", \"\\u5fc3\\u8ff9\", \"\\u5fc3\\u8ff9\", \"\\u5fc3\\u8ff9\", \"\\u5fc3\\u8ff9\", \"\\u5fc3\\u8ff9\", \"\\u5fc3\\u8ff9\", \"\\u5fc3\\u8ff9\", \"\\u5fc3\\u8ff9\", \"\\u5fc3\\u8ff9\", \"\\u5fc3\\u8ff9\", \"\\u5fc3\\u8ff9\", \"\\u5fc3\\u8ff9\", \"\\u5fc3\\u8ff9\", \"\\u5fc3\\u8ff9\", \"\\u5fc3\\u8ff9\", \"\\u5fc3\\u8ff9\", \"\\u5fc3\\u8ff9\", \"\\u5fc3\\u8ff9\", \"\\u5fc3\\u8ff9\", \"\\u5fc3\\u8ff9\", \"\\u5fc3\\u8ff9\", \"\\u5fc3\\u8ff9\", \"\\u5fc3\\u8ff9\", \"\\u5fc3\\u8ff9\", \"\\u5fc3\\u8ff9\", \"\\u5fc3\\u8ff9\", \"\\u5fc3\\u8ff9\", \"\\u5fc3\\u8ff9\", \"\\u5fc3\\u8ff9\", \"\\u5fc3\\u8ff9\", \"\\u5fc3\\u8ff9\", \"\\u5fc3\\u8ff9\", \"\\u5fc3\\u8ff9\", \"\\u5fc3\\u8ff9\", \"\\u5fc3\\u8ff9\", \"\\u5fc3\\u8ff9\", \"\\u5fc3\\u8ff9\", \"\\u5fc3\\u8ff9\", \"\\u5fc3\\u8ff9\", \"\\u5fc3\\u8ff9\", \"\\u5fc3\\u8ff9\", \"\\u5fc3\\u8ff9\", \"\\u5fc3\\u8ff9\", \"\\u5fc3\\u8ff9\", \"\\u5fc3\\u8ff9\", \"\\u5fc3\\u8ff9\", \"\\u5fc3\\u8ff9\", \"\\u5fc3\\u8ff9\", \"\\u5fc3\\u8ff9\", \"\\u5fc3\\u8ff9\", \"\\u5fc3\\u8ff9\", \"\\u5fc3\\u8ff9\", \"\\u5fc3\\u8ff9\", \"\\u5fc3\\u8ff9\", \"\\u5fc3\\u8ff9\", \"\\u5fc3\\u8ff9\", \"\\u5fc3\\u8ff9\", \"\\u5fc3\\u8ff9\", \"\\u5fc3\\u8ff9\", \"\\u5fc3\\u8ff9\", \"\\u5fc3\\u8ff9\", \"\\u5fc3\\u8ff9\", \"\\u5fc3\\u8ff9\", \"\\u5fc3\\u8ff9\", \"\\u5fc3\\u8ff9\", \"\\u5fc3\\u8ff9\", \"\\u5fc3\\u8ff9\", \"\\u5fc3\\u8ff9\", \"\\u5fc3\\u8ff9\", \"\\u5fc3\\u8ff9\", \"\\u5fc3\\u8ff9\", \"\\u5fc3\\u8ff9\", \"\\u5fc3\\u8ff9\", \"\\u5fc3\\u8ff9\", \"\\u5fc3\\u8ff9\", \"\\u5fc3\\u8ff9\", \"\\u5fc3\\u8ff9\", \"\\u5fc3\\u8ff9\", \"\\u5fc3\\u8ff9\", \"\\u5fc3\\u8ff9\", \"\\u5fc3\\u8ff9\", \"\\u5fc3\\u8ff9\", \"\\u5fc3\\u8ff9\", \"\\u5fc3\\u8ff9\", \"\\u5fc3\\u8ff9\", \"\\u5fc3\\u8ff9\", \"\\u5fc3\\u8ff9\", \"\\u5fc3\\u8ff9\", \"\\u6df7\\u670d\", \"\\u6df7\\u670d\", \"\\u6df7\\u670d\", \"\\u6df7\\u670d\", \"\\u6df7\\u670d\", \"\\u6df7\\u670d\", \"\\u5fc3\\u8ff9\", \"\\u5fc3\\u8ff9\", \"\\u5fc3\\u8ff9\", \"\\u5fc3\\u8ff9\", \"\\u5fc3\\u8ff9\", \"\\u5fc3\\u8ff9\", \"\\u5fc3\\u8ff9\", \"\\u5fc3\\u8ff9\", \"\\u5fc3\\u8ff9\", \"\\u5fc3\\u8ff9\", \"\\u5fc3\\u8ff9\", \"\\u5fc3\\u8ff9\", \"\\u5fc3\\u8ff9\", \"\\u5fc3\\u8ff9\", \"\\u5fc3\\u8ff9\", \"\\u5fc3\\u8ff9\", \"\\u5fc3\\u8ff9\", \"\\u5fc3\\u8ff9\", \"\\u5fc3\\u8ff9\", \"\\u5fc3\\u8ff9\", \"\\u5fc3\\u8ff9\", \"\\u5fc3\\u8ff9\", \"\\u5fc3\\u8ff9\", \"\\u5fc3\\u8ff9\", \"\\u5fc3\\u8ff9\", \"\\u5fc3\\u8ff9\", \"\\u5fc3\\u8ff9\", \"\\u5fc3\\u8ff9\", \"\\u5fc3\\u8ff9\", \"\\u5fc3\\u8ff9\", \"\\u5fc3\\u8ff9\", \"\\u5fc3\\u8ff9\", \"\\u5fc3\\u8ff9\", \"\\u5fc3\\u8ff9\", \"\\u5fc3\\u8ff9\", \"\\u5fc3\\u8ff9\", \"\\u5fc3\\u8ff9\", \"\\u5fc3\\u8ff9\", \"\\u5fc3\\u8ff9\", \"\\u5fc3\\u8ff9\", \"\\u5fc3\\u8ff9\", \"\\u5fc3\\u8ff9\", \"\\u5fc3\\u8ff9\", \"\\u5fc3\\u8ff9\", \"\\u5fc3\\u8ff9\", \"\\u5fc3\\u8ff9\", \"\\u5fc3\\u8ff9\", \"\\u5fc3\\u8ff9\", \"\\u5fc3\\u8ff9\", \"\\u5fc3\\u8ff9\", \"\\u5fc3\\u8ff9\", \"\\u5fc3\\u8ff9\", \"\\u5fc3\\u8ff9\", \"\\u5fc3\\u8ff9\", \"\\u5fc3\\u8ff9\", \"\\u5fc3\\u8ff9\", \"\\u5fc3\\u8ff9\", \"\\u5fc3\\u8ff9\", \"\\u5fc3\\u8ff9\", \"\\u5fc3\\u8ff9\", \"\\u5fc3\\u8ff9\", \"\\u5fc3\\u8ff9\", \"\\u5fc3\\u8ff9\", \"\\u5fc3\\u8ff9\", \"\\u5fc3\\u8ff9\", \"\\u5fc3\\u8ff9\", \"\\u5fc3\\u8ff9\", \"\\u5fc3\\u8ff9\", \"\\u5fc3\\u8ff9\", \"\\u5fc3\\u8ff9\", \"\\u5fc3\\u8ff9\", \"\\u5fc3\\u8ff9\", \"\\u5fc3\\u8ff9\", \"\\u5fc3\\u8ff9\", \"\\u5fc3\\u8ff9\", \"\\u5fc3\\u8ff9\", \"\\u5fc3\\u8ff9\", \"\\u5fc3\\u8ff9\", \"\\u5fc3\\u8ff9\", \"\\u5fc3\\u8ff9\", \"\\u5fc3\\u8ff9\", \"\\u5fc3\\u8ff9\", \"\\u5fc3\\u8ff9\", \"\\u5fc3\\u8ff9\", \"\\u5fc3\\u8ff9\", \"\\u5fc3\\u8ff9\", \"\\u5fc3\\u8ff9\", \"\\u5fc3\\u8ff9\", \"\\u5fc3\\u8ff9\", \"\\u5fc3\\u8ff9\", \"\\u5fc3\\u8ff9\", \"\\u5fc3\\u8ff9\", \"\\u5fc3\\u8ff9\", \"\\u5fc3\\u8ff9\", \"\\u5fc3\\u8ff9\", \"\\u5fc3\\u8ff9\", \"\\u5fc3\\u8ff9\", \"\\u5fc3\\u8ff9\", \"\\u5fc3\\u8ff9\", \"\\u5fc3\\u8ff9\", \"\\u5fc3\\u8ff9\", \"\\u5fc3\\u8ff9\", \"\\u5fc3\\u8ff9\", \"\\u5fc3\\u8ff9\", \"\\u5fc3\\u8ff9\", \"\\u5fc3\\u8ff9\", \"\\u5fc3\\u8ff9\", \"\\u5fc3\\u8ff9\", \"\\u5fc3\\u8ff9\", \"\\u5fc3\\u8ff9\", \"\\u5fc3\\u8ff9\", \"\\u5fc3\\u8ff9\", \"\\u5fc3\\u8ff9\", \"\\u5fc3\\u8ff9\", \"\\u5fc3\\u8ff9\", \"\\u5fc3\\u8ff9\", \"\\u5fc3\\u8ff9\", \"\\u5fc3\\u8ff9\", \"\\u5fc3\\u8ff9\", \"\\u5fc3\\u8ff9\", \"\\u5fc3\\u8ff9\", \"\\u5fc3\\u8ff9\", \"\\u5fc3\\u8ff9\", \"\\u5fc3\\u8ff9\", \"\\u5fc3\\u8ff9\", \"\\u5fc3\\u8ff9\", \"\\u5fc3\\u8ff9\", \"\\u5fc3\\u8ff9\", \"\\u5fc3\\u8ff9\", \"\\u5fc3\\u8ff9\", \"\\u5fc3\\u8ff9\", \"\\u5fc3\\u8ff9\", \"\\u5fc3\\u8ff9\", \"\\u5fc3\\u8ff9\", \"\\u5fc3\\u8ff9\", \"\\u5fc3\\u8ff9\", \"\\u5fc3\\u8ff9\", \"\\u5fc3\\u8ff9\", \"\\u5fc3\\u8ff9\", \"\\u5fc3\\u8ff9\", \"\\u5fc3\\u8ff9\", \"\\u5fc3\\u8ff9\", \"\\u5fc3\\u8ff9\", \"\\u5fc3\\u8ff9\", \"\\u5fc3\\u8ff9\", \"\\u5fc3\\u8ff9\", \"\\u5fc3\\u8ff9\", \"\\u5fc3\\u8ff9\", \"\\u5fc3\\u8ff9\", \"\\u5fc3\\u8ff9\", \"\\u5fc3\\u8ff9\", \"\\u5fc3\\u8ff9\", \"\\u5fc3\\u8ff9\", \"\\u5fc3\\u8ff9\", \"\\u5fc3\\u8ff9\", \"\\u5fc3\\u8ff9\", \"\\u5fc3\\u8ff9\", \"\\u5fc3\\u8ff9\", \"\\u5fc3\\u8ff9\", \"\\u5fc3\\u8ff9\", \"\\u5fc3\\u8ff9\", \"\\u5fc3\\u8ff9\", \"\\u5fc3\\u8ff9\", \"\\u5fc3\\u8ff9\", \"\\u5fc3\\u8ff9\", \"\\u5fc3\\u8ff9\", \"\\u5fc3\\u8ff9\", \"\\u5fc3\\u8ff9\", \"\\u5fc3\\u8ff9\", \"\\u5fc3\\u8ff9\", \"\\u5fc3\\u8ff9\", \"\\u5fc3\\u8ff9\", \"\\u5fc3\\u8ff9\", \"\\u5fc3\\u8ff9\", \"\\u5fc3\\u8ff9\", \"\\u5fc3\\u8ff9\", \"\\u5fc3\\u8ff9\", \"\\u5fc3\\u8ff9\", \"\\u5fc3\\u8ff9\", \"\\u5fc3\\u8ff9\", \"\\u5fc3\\u8ff9\", \"\\u5fc3\\u8ff9\", \"\\u5fc3\\u8ff9\", \"\\u5fc3\\u8ff9\", \"\\u5fc3\\u8ff9\", \"\\u5fc3\\u8ff9\", \"\\u5fc3\\u8ff9\", \"\\u5fc3\\u8ff9\", \"\\u5fc3\\u8ff9\", \"\\u5fc3\\u8ff9\", \"\\u5fc3\\u8ff9\", \"\\u5fc3\\u8ff9\", \"\\u5fc3\\u8ff9\", \"\\u5fc3\\u8ff9\", \"\\u5fc3\\u8ff9\", \"\\u5fc3\\u8ff9\", \"\\u5fc3\\u8ff9\", \"\\u5fc3\\u8ff9\", \"\\u5fc3\\u8ff9\", \"\\u5fc3\\u8ff9\", \"\\u5fc3\\u8ff9\", \"\\u5fc3\\u8ff9\", \"\\u5fc3\\u8ff9\", \"\\u5fc3\\u8ff9\", \"\\u5fc3\\u8ff9\", \"\\u5fc3\\u8ff9\", \"\\u5fc3\\u8ff9\", \"\\u5fc3\\u8ff9\", \"\\u5fc3\\u8ff9\", \"\\u5fc3\\u8ff9\", \"\\u5fc3\\u8ff9\", \"\\u5fc3\\u8ff9\", \"\\u5fc3\\u8ff9\", \"\\u5fc3\\u8ff9\", \"\\u5fc3\\u8ff9\", \"\\u5fc3\\u8ff9\", \"\\u5fc3\\u8ff9\", \"\\u5fc3\\u8ff9\", \"\\u5fc3\\u8ff9\", \"\\u5fc3\\u8ff9\", \"\\u5fc3\\u8ff9\", \"\\u5fc3\\u8ff9\", \"\\u5fc3\\u8ff9\", \"\\u5fc3\\u8ff9\", \"\\u5fc3\\u8ff9\", \"\\u5fc3\\u8ff9\", \"\\u5fc3\\u8ff9\", \"\\u5fc3\\u8ff9\", \"\\u5fc3\\u8ff9\", \"\\u5fc3\\u8ff9\", \"\\u5fc3\\u8ff9\", \"\\u5fc3\\u8ff9\", \"\\u5fc3\\u8ff9\", \"\\u5fc3\\u8ff9\", \"\\u5fc3\\u8ff9\", \"\\u5fc3\\u8ff9\", \"\\u5fc3\\u8ff9\", \"\\u5fc3\\u8ff9\", \"\\u5fc3\\u8ff9\", \"\\u5fc3\\u8ff9\", \"\\u5fc3\\u8ff9\", \"\\u5fc3\\u8ff9\", \"\\u5fc3\\u8ff9\", \"\\u5fc3\\u8ff9\", \"\\u5fc3\\u8ff9\", \"\\u5fc3\\u8ff9\", \"\\u5fc3\\u8ff9\", \"\\u5fc3\\u8ff9\", \"\\u5fc3\\u8ff9\", \"\\u5fc3\\u8ff9\", \"\\u5fc3\\u8ff9\"]}], \"domain\": {\"x\": [0.0, 1.0], \"y\": [0.0, 1.0]}, \"line\": {\"color\": [1059, 1001, 1003, 1076, 1057, 1077, 1010, 1011, 1012, 1019, 1021, 1022, 1059, 1001, 1081, 1080, 1003, 1057, 1072, 1068, 1061, 1067, 1060, 1073, 1038, 1001, 1081, 1080, 1003, 1057, 1059, 1001, 1080, 1081, 1003, 1057, 1067, 1002, 1001, 1068, 1061, 1003, 1059, 1001, 1081, 1080, 1003, 1057, 1059, 1080, 1001, 1057, 1060, 1003, 1059, 1001, 1072, 1073, 1057, 1003, 1007, 1077, 1002, 1004, 1078, 1008, 1084, 1062, 1083, 1085, 1082, 1005, 1059, 1072, 1081, 1080, 1073, 1057, 1060, 1084, 1085, 1061, 1076, 1077, 1001, 1059, 1081, 1080, 1003, 1057, 1059, 1060, 1001, 1061, 1057, 1003, 1059, 1001, 1081, 1080, 1057, 1003, 1060, 1002, 1082, 1083, 1008, 1061, 1059, 1001, 1002, 1057, 1079, 1003, 1067, 1059, 1001, 1057, 1068, 1003, 1004, 1007, 1078, 1070, 1069, 1079, 1070, 1069, 1076, 1005, 1062, 1077, 1076, 1060, 1084, 1077, 1061, 1085, 1059, 1080, 1072, 1081, 1057, 1073, 1059, 1001, 1060, 1057, 1061, 1003, 1002, 1070, 1061, 1004, 1069, 1008, 1059, 1001, 1060, 1057, 1003, 1061, 1059, 1001, 1081, 1080, 1057, 1003, 1059, 1001, 1081, 1080, 1003, 1057, 1076, 1072, 1060, 1073, 1061, 1077, 1015, 1001, 1081, 1080, 1003, 1057, 1059, 1008, 1002, 1001, 1003, 1057, 1001, 1059, 1076, 1057, 1077, 1003, 1059, 1001, 1077, 1076, 1057, 1003, 1059, 1001, 1057, 1080, 1073, 1003, 1014, 1009, 1018, 1065, 1017, 1006, 1059, 1001, 1076, 1077, 1003, 1057, 1059, 1001, 1057, 1073, 1077, 1003, 1059, 1001, 1081, 1080, 1057, 1003, 1060, 1081, 1079, 1061, 1077, 1078, 1059, 1001, 1002, 1057, 1008, 1003, 1059, 1080, 1067, 1057, 1081, 1068, 1059, 1001, 1081, 1080, 1003, 1057, 1059, 1001, 1081, 1080, 1003, 1057, 1059, 1001, 1057, 1060, 1003, 1080, 1059, 1076, 1001, 1077, 1057, 1003, 1059, 1001, 1081, 1080, 1003, 1057, 1060, 1076, 1073, 1072, 1083, 1061, 1038, 1068, 1017, 1066, 1067, 1022, 1059, 1076, 1001, 1057, 1003, 1077, 1038, 1059, 1072, 1057, 1073, 1081, 1059, 1001, 1076, 1077, 1057, 1003, 1067, 1059, 1081, 1080, 1068, 1057, 1059, 1001, 1002, 1079, 1057, 1003, 1059, 1080, 1057, 1001, 1081, 1003, 1059, 1001, 1081, 1080, 1057, 1003, 1059, 1060, 1001, 1061, 1003, 1057, 1059, 1001, 1081, 1080, 1003, 1057, 1001, 1002, 1003, 1059, 1008, 1057, 1079, 1070, 1002, 1078, 1069, 1008, 1001, 1059, 1076, 1003, 1057, 1077, 1008, 1070, 1062, 1002, 1007, 1078, 1076, 1067, 1083, 1077, 1082, 1068, 1059, 1001, 1081, 1080, 1057, 1003, 1059, 1080, 1072, 1057, 1081, 1073, 1059, 1076, 1001, 1003, 1057, 1077, 1001, 1059, 1057, 1002, 1003, 1061, 1069, 1080, 1001, 1057, 1081, 1003, 1001, 1059, 1002, 1057, 1061, 1003, 1059, 1001, 1079, 1078, 1057, 1003, 1073, 1060, 1072, 1067, 1084, 1076, 1080, 1059, 1001, 1057, 1003, 1081, 1059, 1001, 1073, 1072, 1057, 1003, 1059, 1080, 1081, 1001, 1057, 1003, 1059, 1001, 1081, 1080, 1003, 1057, 1067, 1059, 1001, 1068, 1057, 1003, 1007, 1067, 1060, 1073, 1068, 1004, 1059, 1001, 1081, 1044, 1003, 1080, 1059, 1001, 1081, 1080, 1057, 1003, 1080, 1059, 1057, 1001, 1081, 1003, 1014, 1079, 1069, 1001, 1077, 1078, 1080, 1059, 1067, 1081, 1057, 1068, 1059, 1081, 1080, 1001, 1057, 1003, 1059, 1001, 1073, 1057, 1072, 1003, 1001, 1059, 1081, 1080, 1003, 1057, 1073, 1067, 1076, 1084, 1072, 1060, 1080, 1072, 1073, 1079, 1078, 1081, 1080, 1059, 1001, 1057, 1081, 1003, 1067, 1080, 1002, 1068, 1079, 1008, 1080, 1073, 1059, 1072, 1081, 1057, 1059, 1001, 1072, 1073, 1057, 1003, 1080, 1059, 1073, 1003, 1081, 1057, 1067, 1070, 1078, 1069, 1008, 1061, 1001, 1067, 1059, 1068, 1057, 1003, 1059, 1080, 1001, 1003, 1081, 1057, 1067, 1059, 1081, 1080, 1003, 1057, 1001, 1067, 1002, 1008, 1068, 1003, 1059, 1002, 1001, 1057, 1008, 1003, 1080, 1001, 1059, 1084, 1057, 1003, 1080, 1001, 1059, 1081, 1003, 1057, 1001, 1002, 1076, 1077, 1003, 1008, 1059, 1001, 1057, 1060, 1061, 1003, 1059, 1080, 1057, 1001, 1003, 1081, 1059, 1001, 1080, 1057, 1081, 1003, 1059, 1080, 1057, 1001, 1067, 1003, 1059, 1001, 1080, 1067, 1057, 1003, 1059, 1080, 1001, 1057, 1003, 1081, 1070, 1062, 1004, 1007, 1005, 1006, 1059, 1067, 1057, 1001, 1003, 1068, 1079, 1069, 1006, 1004, 1013, 1063, 1065, 1015, 1012, 1062, 1017, 1006, 1080, 1059, 1084, 1072, 1073, 1081, 1059, 1080, 1073, 1057, 1081, 1003, 1004, 1002, 1007, 1062, 1078, 1008, 1059, 1067, 1057, 1068, 1080, 1081, 1059, 1081, 1080, 1001, 1057, 1003, 1060, 1061, 1081, 1080, 1003, 1057, 1001, 1008, 1002, 1085, 1072, 1084, 1078, 1072, 1079, 1084, 1083, 1085, 1080, 1060, 1002, 1061, 1008, 1057, 1080, 1059, 1081, 1073, 1057, 1072, 1004, 1062, 1076, 1006, 1007, 1069, 1067, 1001, 1073, 1003, 1068, 1081, 1076, 1070, 1069, 1077, 1083, 1082, 1059, 1001, 1002, 1057, 1003, 1008, 1080, 1008, 1078, 1002, 1079, 1081, 1002, 1083, 1062, 1005, 1008, 1082, 1006, 1079, 1002, 1078, 1077, 1008, 1002, 1078, 1070, 1084, 1069, 1008, 1080, 1084, 1085, 1008, 1002, 1044, 1080, 1067, 1057, 1059, 1001, 1003, 1067, 1004, 1002, 1068, 1008, 1062, 1067, 1001, 1068, 1003, 1084, 1085, 1059, 1073, 1081, 1080, 1057, 1003, 1080, 1001, 1081, 1072, 1003, 1073, 1059, 1002, 1001, 1057, 1067, 1003, 1076, 1015, 1010, 1065, 1077, 1025, 1080, 1059, 1072, 1057, 1081, 1073, 1059, 1001, 1057, 1008, 1002, 1003, 1001, 1060, 1002, 1008, 1003, 1061, 1059, 1080, 1057, 1076, 1081, 1077, 1059, 1080, 1067, 1068, 1081, 1057, 1080, 1059, 1001, 1057, 1081, 1003, 1072, 1073, 1069, 1070, 1008, 1002, 1067, 1082, 1084, 1083, 1085, 1068, 1080, 1059, 1001, 1057, 1003, 1081, 1080, 1062, 1005, 1077, 1078, 1079, 1059, 1001, 1002, 1008, 1057, 1003, 1059, 1002, 1080, 1057, 1008, 1081, 1080, 1059, 1057, 1073, 1072, 1081, 1059, 1080, 1001, 1057, 1081, 1003, 1079, 1083, 1008, 1078, 1082, 1002, 1059, 1072, 1080, 1073, 1081, 1057, 1001, 1008, 1002, 1068, 1067, 1003, 1080, 1001, 1059, 1081, 1003, 1057, 1056, 1007, 1078, 1052, 1004, 1079, 1001, 1002, 1085, 1084, 1008, 1003, 1080, 1072, 1073, 1081, 1001, 1003, 1080, 1059, 1057, 1001, 1081, 1003, 1006, 1013, 1056, 1078, 1063, 1052, 1059, 1002, 1001, 1008, 1057, 1003, 1080, 1059, 1001, 1057, 1081, 1003, 1059, 1080, 1001, 1057, 1003, 1081, 1080, 1059, 1067, 1008, 1081, 1068, 1059, 1080, 1067, 1081, 1057, 1068, 1043, 1029, 1020, 1023, 1027, 1022, 1008, 1083, 1067, 1002, 1082, 1001, 1079, 1078, 1070, 1003, 1069, 1026, 1052, 1069, 1044, 1056, 1043, 1067, 1059, 1008, 1011, 1080, 1068, 1062, 1063, 1064, 1066, 1021, 1023, 1080, 1059, 1057, 1067, 1068, 1081, 1004, 1029, 1015, 1022, 1023, 1007, 1080, 1059, 1001, 1067, 1057, 1081, 1038, 1045, 1043, 1077, 1042, 1044, 1005, 1059, 1068, 1001, 1081, 1003, 1001, 1067, 1059, 1068, 1078, 1081, 1059, 1001, 1062, 1008, 1003, 1057, 1057, 1067, 1059, 1068, 1002, 1008, 1081, 1080, 1001, 1057, 1003, 1059, 1002, 1079, 1078, 1057, 1008, 1070, 1002, 1059, 1001, 1003, 1008, 1057, 1059, 1080, 1001, 1081, 1003, 1057, 1004, 1078, 1083, 1007, 1079, 1082, 1059, 1080, 1001, 1081, 1057, 1003, 1008, 1001, 1002, 1003, 1005, 1013, 1080, 1013, 1078, 1081, 1063, 1077, 1080, 1067, 1045, 1043, 1003, 1081, 1057, 1063, 1026, 1025, 1056, 1052, 1080, 1067, 1059, 1081, 1057, 1068, 1080, 1081, 1059, 1008, 1057, 1002, 1080, 1059, 1001, 1081, 1062, 1003, 1057, 1003, 1008, 1001, 1059, 1002, 1059, 1080, 1057, 1001, 1081, 1003, 1007, 1056, 1016, 1004, 1052, 1015, 1080, 1059, 1001, 1081, 1057, 1003, 1001, 1059, 1002, 1057, 1008, 1003, 1007, 1015, 1070, 1016, 1004, 1069, 1001, 1057, 1002, 1059, 1003, 1008, 1059, 1008, 1001, 1002, 1057, 1003], \"coloraxis\": \"coloraxis\"}, \"name\": \"\", \"type\": \"parcats\"}],\n",
       "                        {\"coloraxis\": {\"colorbar\": {\"title\": {\"text\": \"\\u6b66\\u5c06\"}}, \"colorscale\": [[0.0, \"#000004\"], [0.1111111111111111, \"#1b0c41\"], [0.2222222222222222, \"#4a0c6b\"], [0.3333333333333333, \"#781c6d\"], [0.4444444444444444, \"#a52c60\"], [0.5555555555555556, \"#cf4446\"], [0.6666666666666666, \"#ed6925\"], [0.7777777777777778, \"#fb9b06\"], [0.8888888888888888, \"#f7d13d\"], [1.0, \"#fcffa4\"]]}, \"legend\": {\"tracegroupgap\": 0}, \"margin\": {\"t\": 60}, \"template\": {\"data\": {\"bar\": [{\"error_x\": {\"color\": \"#2a3f5f\"}, \"error_y\": {\"color\": \"#2a3f5f\"}, \"marker\": {\"line\": {\"color\": \"#E5ECF6\", \"width\": 0.5}}, \"type\": \"bar\"}], \"barpolar\": [{\"marker\": {\"line\": {\"color\": \"#E5ECF6\", \"width\": 0.5}}, \"type\": \"barpolar\"}], \"carpet\": [{\"aaxis\": {\"endlinecolor\": \"#2a3f5f\", \"gridcolor\": \"white\", \"linecolor\": \"white\", \"minorgridcolor\": \"white\", \"startlinecolor\": \"#2a3f5f\"}, \"baxis\": {\"endlinecolor\": \"#2a3f5f\", \"gridcolor\": \"white\", \"linecolor\": \"white\", \"minorgridcolor\": \"white\", \"startlinecolor\": \"#2a3f5f\"}, \"type\": \"carpet\"}], \"choropleth\": [{\"colorbar\": {\"outlinewidth\": 0, \"ticks\": \"\"}, \"type\": \"choropleth\"}], \"contour\": [{\"colorbar\": {\"outlinewidth\": 0, \"ticks\": \"\"}, \"colorscale\": [[0.0, \"#0d0887\"], [0.1111111111111111, \"#46039f\"], [0.2222222222222222, \"#7201a8\"], [0.3333333333333333, \"#9c179e\"], [0.4444444444444444, \"#bd3786\"], [0.5555555555555556, \"#d8576b\"], [0.6666666666666666, \"#ed7953\"], [0.7777777777777778, \"#fb9f3a\"], [0.8888888888888888, \"#fdca26\"], [1.0, \"#f0f921\"]], \"type\": \"contour\"}], \"contourcarpet\": [{\"colorbar\": {\"outlinewidth\": 0, \"ticks\": \"\"}, \"type\": \"contourcarpet\"}], \"heatmap\": [{\"colorbar\": {\"outlinewidth\": 0, \"ticks\": \"\"}, \"colorscale\": [[0.0, \"#0d0887\"], [0.1111111111111111, \"#46039f\"], [0.2222222222222222, \"#7201a8\"], [0.3333333333333333, \"#9c179e\"], [0.4444444444444444, \"#bd3786\"], [0.5555555555555556, \"#d8576b\"], [0.6666666666666666, \"#ed7953\"], [0.7777777777777778, \"#fb9f3a\"], [0.8888888888888888, \"#fdca26\"], [1.0, \"#f0f921\"]], \"type\": \"heatmap\"}], \"heatmapgl\": [{\"colorbar\": {\"outlinewidth\": 0, \"ticks\": \"\"}, \"colorscale\": [[0.0, \"#0d0887\"], [0.1111111111111111, \"#46039f\"], [0.2222222222222222, \"#7201a8\"], [0.3333333333333333, \"#9c179e\"], [0.4444444444444444, \"#bd3786\"], [0.5555555555555556, \"#d8576b\"], [0.6666666666666666, \"#ed7953\"], [0.7777777777777778, \"#fb9f3a\"], [0.8888888888888888, \"#fdca26\"], [1.0, \"#f0f921\"]], \"type\": \"heatmapgl\"}], \"histogram\": [{\"marker\": {\"colorbar\": {\"outlinewidth\": 0, \"ticks\": \"\"}}, \"type\": \"histogram\"}], \"histogram2d\": [{\"colorbar\": {\"outlinewidth\": 0, \"ticks\": \"\"}, \"colorscale\": [[0.0, \"#0d0887\"], [0.1111111111111111, \"#46039f\"], [0.2222222222222222, \"#7201a8\"], [0.3333333333333333, \"#9c179e\"], [0.4444444444444444, \"#bd3786\"], [0.5555555555555556, \"#d8576b\"], [0.6666666666666666, \"#ed7953\"], [0.7777777777777778, \"#fb9f3a\"], [0.8888888888888888, \"#fdca26\"], [1.0, \"#f0f921\"]], \"type\": \"histogram2d\"}], \"histogram2dcontour\": [{\"colorbar\": {\"outlinewidth\": 0, \"ticks\": \"\"}, \"colorscale\": [[0.0, \"#0d0887\"], [0.1111111111111111, \"#46039f\"], [0.2222222222222222, \"#7201a8\"], [0.3333333333333333, \"#9c179e\"], [0.4444444444444444, \"#bd3786\"], [0.5555555555555556, \"#d8576b\"], [0.6666666666666666, \"#ed7953\"], [0.7777777777777778, \"#fb9f3a\"], [0.8888888888888888, \"#fdca26\"], [1.0, \"#f0f921\"]], \"type\": \"histogram2dcontour\"}], \"mesh3d\": [{\"colorbar\": {\"outlinewidth\": 0, \"ticks\": \"\"}, \"type\": \"mesh3d\"}], \"parcoords\": [{\"line\": {\"colorbar\": {\"outlinewidth\": 0, \"ticks\": \"\"}}, \"type\": \"parcoords\"}], \"pie\": [{\"automargin\": true, \"type\": \"pie\"}], \"scatter\": [{\"marker\": {\"colorbar\": {\"outlinewidth\": 0, \"ticks\": \"\"}}, \"type\": \"scatter\"}], \"scatter3d\": [{\"line\": {\"colorbar\": {\"outlinewidth\": 0, \"ticks\": \"\"}}, \"marker\": {\"colorbar\": {\"outlinewidth\": 0, \"ticks\": \"\"}}, \"type\": \"scatter3d\"}], \"scattercarpet\": [{\"marker\": {\"colorbar\": {\"outlinewidth\": 0, \"ticks\": \"\"}}, \"type\": \"scattercarpet\"}], \"scattergeo\": [{\"marker\": {\"colorbar\": {\"outlinewidth\": 0, \"ticks\": \"\"}}, \"type\": \"scattergeo\"}], \"scattergl\": [{\"marker\": {\"colorbar\": {\"outlinewidth\": 0, \"ticks\": \"\"}}, \"type\": \"scattergl\"}], \"scattermapbox\": [{\"marker\": {\"colorbar\": {\"outlinewidth\": 0, \"ticks\": \"\"}}, \"type\": \"scattermapbox\"}], \"scatterpolar\": [{\"marker\": {\"colorbar\": {\"outlinewidth\": 0, \"ticks\": \"\"}}, \"type\": \"scatterpolar\"}], \"scatterpolargl\": [{\"marker\": {\"colorbar\": {\"outlinewidth\": 0, \"ticks\": \"\"}}, \"type\": \"scatterpolargl\"}], \"scatterternary\": [{\"marker\": {\"colorbar\": {\"outlinewidth\": 0, \"ticks\": \"\"}}, \"type\": \"scatterternary\"}], \"surface\": [{\"colorbar\": {\"outlinewidth\": 0, \"ticks\": \"\"}, \"colorscale\": [[0.0, \"#0d0887\"], [0.1111111111111111, \"#46039f\"], [0.2222222222222222, \"#7201a8\"], [0.3333333333333333, \"#9c179e\"], [0.4444444444444444, \"#bd3786\"], [0.5555555555555556, \"#d8576b\"], [0.6666666666666666, \"#ed7953\"], [0.7777777777777778, \"#fb9f3a\"], [0.8888888888888888, \"#fdca26\"], [1.0, \"#f0f921\"]], \"type\": \"surface\"}], \"table\": [{\"cells\": {\"fill\": {\"color\": \"#EBF0F8\"}, \"line\": {\"color\": \"white\"}}, \"header\": {\"fill\": {\"color\": \"#C8D4E3\"}, \"line\": {\"color\": \"white\"}}, \"type\": \"table\"}]}, \"layout\": {\"annotationdefaults\": {\"arrowcolor\": \"#2a3f5f\", \"arrowhead\": 0, \"arrowwidth\": 1}, \"coloraxis\": {\"colorbar\": {\"outlinewidth\": 0, \"ticks\": \"\"}}, \"colorscale\": {\"diverging\": [[0, \"#8e0152\"], [0.1, \"#c51b7d\"], [0.2, \"#de77ae\"], [0.3, \"#f1b6da\"], [0.4, \"#fde0ef\"], [0.5, \"#f7f7f7\"], [0.6, \"#e6f5d0\"], [0.7, \"#b8e186\"], [0.8, \"#7fbc41\"], [0.9, \"#4d9221\"], [1, \"#276419\"]], \"sequential\": [[0.0, \"#0d0887\"], [0.1111111111111111, \"#46039f\"], [0.2222222222222222, \"#7201a8\"], [0.3333333333333333, \"#9c179e\"], [0.4444444444444444, \"#bd3786\"], [0.5555555555555556, \"#d8576b\"], [0.6666666666666666, \"#ed7953\"], [0.7777777777777778, \"#fb9f3a\"], [0.8888888888888888, \"#fdca26\"], [1.0, \"#f0f921\"]], \"sequentialminus\": [[0.0, \"#0d0887\"], [0.1111111111111111, \"#46039f\"], [0.2222222222222222, \"#7201a8\"], [0.3333333333333333, \"#9c179e\"], [0.4444444444444444, \"#bd3786\"], [0.5555555555555556, \"#d8576b\"], [0.6666666666666666, \"#ed7953\"], [0.7777777777777778, \"#fb9f3a\"], [0.8888888888888888, \"#fdca26\"], [1.0, \"#f0f921\"]]}, \"colorway\": [\"#636efa\", \"#EF553B\", \"#00cc96\", \"#ab63fa\", \"#FFA15A\", \"#19d3f3\", \"#FF6692\", \"#B6E880\", \"#FF97FF\", \"#FECB52\"], \"font\": {\"color\": \"#2a3f5f\"}, \"geo\": {\"bgcolor\": \"white\", \"lakecolor\": \"white\", \"landcolor\": \"#E5ECF6\", \"showlakes\": true, \"showland\": true, \"subunitcolor\": \"white\"}, \"hoverlabel\": {\"align\": \"left\"}, \"hovermode\": \"closest\", \"mapbox\": {\"style\": \"light\"}, \"paper_bgcolor\": \"white\", \"plot_bgcolor\": \"#E5ECF6\", \"polar\": {\"angularaxis\": {\"gridcolor\": \"white\", \"linecolor\": \"white\", \"ticks\": \"\"}, \"bgcolor\": \"#E5ECF6\", \"radialaxis\": {\"gridcolor\": \"white\", \"linecolor\": \"white\", \"ticks\": \"\"}}, \"scene\": {\"xaxis\": {\"backgroundcolor\": \"#E5ECF6\", \"gridcolor\": \"white\", \"gridwidth\": 2, \"linecolor\": \"white\", \"showbackground\": true, \"ticks\": \"\", \"zerolinecolor\": \"white\"}, \"yaxis\": {\"backgroundcolor\": \"#E5ECF6\", \"gridcolor\": \"white\", \"gridwidth\": 2, \"linecolor\": \"white\", \"showbackground\": true, \"ticks\": \"\", \"zerolinecolor\": \"white\"}, \"zaxis\": {\"backgroundcolor\": \"#E5ECF6\", \"gridcolor\": \"white\", \"gridwidth\": 2, \"linecolor\": \"white\", \"showbackground\": true, \"ticks\": \"\", \"zerolinecolor\": \"white\"}}, \"shapedefaults\": {\"line\": {\"color\": \"#2a3f5f\"}}, \"ternary\": {\"aaxis\": {\"gridcolor\": \"white\", \"linecolor\": \"white\", \"ticks\": \"\"}, \"baxis\": {\"gridcolor\": \"white\", \"linecolor\": \"white\", \"ticks\": \"\"}, \"bgcolor\": \"#E5ECF6\", \"caxis\": {\"gridcolor\": \"white\", \"linecolor\": \"white\", \"ticks\": \"\"}}, \"title\": {\"x\": 0.05}, \"xaxis\": {\"automargin\": true, \"gridcolor\": \"white\", \"linecolor\": \"white\", \"ticks\": \"\", \"title\": {\"standoff\": 15}, \"zerolinecolor\": \"white\", \"zerolinewidth\": 2}, \"yaxis\": {\"automargin\": true, \"gridcolor\": \"white\", \"linecolor\": \"white\", \"ticks\": \"\", \"title\": {\"standoff\": 15}, \"zerolinecolor\": \"white\", \"zerolinewidth\": 2}}}},\n",
       "                        {\"responsive\": true}\n",
       "                    ).then(function(){\n",
       "                            \n",
       "var gd = document.getElementById('1bf64fd3-20f1-4a63-903a-6c9bea19c071');\n",
       "var x = new MutationObserver(function (mutations, observer) {{\n",
       "        var display = window.getComputedStyle(gd).display;\n",
       "        if (!display || display === 'none') {{\n",
       "            console.log([gd, 'removed!']);\n",
       "            Plotly.purge(gd);\n",
       "            observer.disconnect();\n",
       "        }}\n",
       "}});\n",
       "\n",
       "// Listen for the removal of the full notebook cells\n",
       "var notebookContainer = gd.closest('#notebook-container');\n",
       "if (notebookContainer) {{\n",
       "    x.observe(notebookContainer, {childList: true});\n",
       "}}\n",
       "\n",
       "// Listen for the clearing of the current output cell\n",
       "var outputEl = gd.closest('.output');\n",
       "if (outputEl) {{\n",
       "    x.observe(outputEl, {childList: true});\n",
       "}}\n",
       "\n",
       "                        })\n",
       "                };\n",
       "                });\n",
       "            </script>\n",
       "        </div>"
      ]
     },
     "metadata": {},
     "output_type": "display_data"
    }
   ],
   "source": [
    "px.parallel_categories(data3, color=\"武将\", color_continuous_scale=px.\n",
    "            colors.sequential.Inferno)"
   ]
  },
  {
   "cell_type": "code",
   "execution_count": 32,
   "metadata": {},
   "outputs": [],
   "source": [
    "tips = px.data.tips() "
   ]
  },
  {
   "cell_type": "code",
   "execution_count": 34,
   "metadata": {},
   "outputs": [
    {
     "data": {
      "text/html": [
       "<div>\n",
       "<style scoped>\n",
       "    .dataframe tbody tr th:only-of-type {\n",
       "        vertical-align: middle;\n",
       "    }\n",
       "\n",
       "    .dataframe tbody tr th {\n",
       "        vertical-align: top;\n",
       "    }\n",
       "\n",
       "    .dataframe thead th {\n",
       "        text-align: right;\n",
       "    }\n",
       "</style>\n",
       "<table border=\"1\" class=\"dataframe\">\n",
       "  <thead>\n",
       "    <tr style=\"text-align: right;\">\n",
       "      <th></th>\n",
       "      <th>total_bill</th>\n",
       "      <th>tip</th>\n",
       "      <th>sex</th>\n",
       "      <th>smoker</th>\n",
       "      <th>day</th>\n",
       "      <th>time</th>\n",
       "      <th>size</th>\n",
       "    </tr>\n",
       "  </thead>\n",
       "  <tbody>\n",
       "    <tr>\n",
       "      <td>0</td>\n",
       "      <td>16.99</td>\n",
       "      <td>1.01</td>\n",
       "      <td>Female</td>\n",
       "      <td>No</td>\n",
       "      <td>Sun</td>\n",
       "      <td>Dinner</td>\n",
       "      <td>2</td>\n",
       "    </tr>\n",
       "    <tr>\n",
       "      <td>1</td>\n",
       "      <td>10.34</td>\n",
       "      <td>1.66</td>\n",
       "      <td>Male</td>\n",
       "      <td>No</td>\n",
       "      <td>Sun</td>\n",
       "      <td>Dinner</td>\n",
       "      <td>3</td>\n",
       "    </tr>\n",
       "    <tr>\n",
       "      <td>2</td>\n",
       "      <td>21.01</td>\n",
       "      <td>3.50</td>\n",
       "      <td>Male</td>\n",
       "      <td>No</td>\n",
       "      <td>Sun</td>\n",
       "      <td>Dinner</td>\n",
       "      <td>3</td>\n",
       "    </tr>\n",
       "    <tr>\n",
       "      <td>3</td>\n",
       "      <td>23.68</td>\n",
       "      <td>3.31</td>\n",
       "      <td>Male</td>\n",
       "      <td>No</td>\n",
       "      <td>Sun</td>\n",
       "      <td>Dinner</td>\n",
       "      <td>2</td>\n",
       "    </tr>\n",
       "    <tr>\n",
       "      <td>4</td>\n",
       "      <td>24.59</td>\n",
       "      <td>3.61</td>\n",
       "      <td>Female</td>\n",
       "      <td>No</td>\n",
       "      <td>Sun</td>\n",
       "      <td>Dinner</td>\n",
       "      <td>4</td>\n",
       "    </tr>\n",
       "  </tbody>\n",
       "</table>\n",
       "</div>"
      ],
      "text/plain": [
       "   total_bill   tip     sex smoker  day    time  size\n",
       "0       16.99  1.01  Female     No  Sun  Dinner     2\n",
       "1       10.34  1.66    Male     No  Sun  Dinner     3\n",
       "2       21.01  3.50    Male     No  Sun  Dinner     3\n",
       "3       23.68  3.31    Male     No  Sun  Dinner     2\n",
       "4       24.59  3.61  Female     No  Sun  Dinner     4"
      ]
     },
     "execution_count": 34,
     "metadata": {},
     "output_type": "execute_result"
    }
   ],
   "source": [
    "tips.head()"
   ]
  },
  {
   "cell_type": "code",
   "execution_count": 33,
   "metadata": {},
   "outputs": [
    {
     "data": {
      "application/vnd.plotly.v1+json": {
       "config": {
        "plotlyServerURL": "https://plot.ly"
       },
       "data": [
        {
         "dimensions": [
          {
           "label": "sex",
           "values": [
            "Female",
            "Male",
            "Male",
            "Male",
            "Female",
            "Male",
            "Male",
            "Male",
            "Male",
            "Male",
            "Male",
            "Female",
            "Male",
            "Male",
            "Female",
            "Male",
            "Female",
            "Male",
            "Female",
            "Male",
            "Male",
            "Female",
            "Female",
            "Male",
            "Male",
            "Male",
            "Male",
            "Male",
            "Male",
            "Female",
            "Male",
            "Male",
            "Female",
            "Female",
            "Male",
            "Male",
            "Male",
            "Female",
            "Male",
            "Male",
            "Male",
            "Male",
            "Male",
            "Male",
            "Male",
            "Male",
            "Male",
            "Male",
            "Male",
            "Male",
            "Male",
            "Female",
            "Female",
            "Male",
            "Male",
            "Male",
            "Male",
            "Female",
            "Male",
            "Male",
            "Male",
            "Male",
            "Male",
            "Male",
            "Male",
            "Male",
            "Female",
            "Female",
            "Male",
            "Male",
            "Male",
            "Female",
            "Female",
            "Female",
            "Female",
            "Male",
            "Male",
            "Male",
            "Male",
            "Male",
            "Male",
            "Male",
            "Female",
            "Male",
            "Male",
            "Female",
            "Male",
            "Male",
            "Male",
            "Male",
            "Male",
            "Male",
            "Female",
            "Female",
            "Female",
            "Male",
            "Male",
            "Male",
            "Male",
            "Male",
            "Female",
            "Female",
            "Female",
            "Female",
            "Female",
            "Male",
            "Male",
            "Male",
            "Male",
            "Female",
            "Male",
            "Female",
            "Male",
            "Male",
            "Female",
            "Female",
            "Male",
            "Female",
            "Female",
            "Female",
            "Male",
            "Female",
            "Male",
            "Male",
            "Female",
            "Female",
            "Male",
            "Female",
            "Female",
            "Male",
            "Male",
            "Female",
            "Female",
            "Female",
            "Female",
            "Female",
            "Female",
            "Female",
            "Male",
            "Female",
            "Female",
            "Male",
            "Male",
            "Female",
            "Female",
            "Female",
            "Female",
            "Female",
            "Male",
            "Male",
            "Male",
            "Male",
            "Male",
            "Male",
            "Male",
            "Female",
            "Male",
            "Female",
            "Female",
            "Male",
            "Male",
            "Male",
            "Female",
            "Male",
            "Female",
            "Male",
            "Male",
            "Male",
            "Female",
            "Female",
            "Male",
            "Male",
            "Male",
            "Male",
            "Male",
            "Male",
            "Male",
            "Male",
            "Female",
            "Male",
            "Male",
            "Male",
            "Male",
            "Male",
            "Male",
            "Male",
            "Female",
            "Male",
            "Female",
            "Male",
            "Male",
            "Female",
            "Male",
            "Male",
            "Male",
            "Male",
            "Male",
            "Female",
            "Female",
            "Male",
            "Male",
            "Female",
            "Female",
            "Female",
            "Male",
            "Female",
            "Male",
            "Male",
            "Male",
            "Female",
            "Male",
            "Male",
            "Male",
            "Female",
            "Female",
            "Female",
            "Male",
            "Male",
            "Male",
            "Female",
            "Male",
            "Female",
            "Male",
            "Female",
            "Male",
            "Female",
            "Female",
            "Male",
            "Male",
            "Female",
            "Male",
            "Male",
            "Male",
            "Male",
            "Male",
            "Male",
            "Male",
            "Male",
            "Female",
            "Male",
            "Female",
            "Male",
            "Male",
            "Female"
           ]
          },
          {
           "label": "smoker",
           "values": [
            "No",
            "No",
            "No",
            "No",
            "No",
            "No",
            "No",
            "No",
            "No",
            "No",
            "No",
            "No",
            "No",
            "No",
            "No",
            "No",
            "No",
            "No",
            "No",
            "No",
            "No",
            "No",
            "No",
            "No",
            "No",
            "No",
            "No",
            "No",
            "No",
            "No",
            "No",
            "No",
            "No",
            "No",
            "No",
            "No",
            "No",
            "No",
            "No",
            "No",
            "No",
            "No",
            "No",
            "No",
            "No",
            "No",
            "No",
            "No",
            "No",
            "No",
            "No",
            "No",
            "No",
            "No",
            "No",
            "No",
            "Yes",
            "No",
            "Yes",
            "No",
            "Yes",
            "Yes",
            "Yes",
            "Yes",
            "No",
            "No",
            "No",
            "Yes",
            "No",
            "Yes",
            "No",
            "No",
            "Yes",
            "Yes",
            "No",
            "No",
            "Yes",
            "No",
            "No",
            "No",
            "Yes",
            "No",
            "No",
            "Yes",
            "No",
            "No",
            "No",
            "No",
            "No",
            "No",
            "Yes",
            "No",
            "Yes",
            "Yes",
            "No",
            "Yes",
            "Yes",
            "Yes",
            "Yes",
            "No",
            "Yes",
            "Yes",
            "Yes",
            "Yes",
            "No",
            "Yes",
            "Yes",
            "Yes",
            "No",
            "Yes",
            "No",
            "No",
            "No",
            "No",
            "No",
            "No",
            "No",
            "No",
            "No",
            "No",
            "No",
            "No",
            "No",
            "No",
            "No",
            "No",
            "No",
            "No",
            "No",
            "No",
            "No",
            "No",
            "No",
            "No",
            "No",
            "No",
            "No",
            "No",
            "Yes",
            "No",
            "No",
            "No",
            "No",
            "No",
            "No",
            "No",
            "No",
            "No",
            "No",
            "No",
            "No",
            "No",
            "No",
            "No",
            "No",
            "No",
            "No",
            "No",
            "No",
            "No",
            "No",
            "No",
            "No",
            "No",
            "Yes",
            "No",
            "No",
            "No",
            "Yes",
            "Yes",
            "Yes",
            "Yes",
            "Yes",
            "Yes",
            "Yes",
            "Yes",
            "Yes",
            "Yes",
            "Yes",
            "Yes",
            "Yes",
            "Yes",
            "Yes",
            "Yes",
            "Yes",
            "No",
            "Yes",
            "Yes",
            "Yes",
            "Yes",
            "Yes",
            "Yes",
            "Yes",
            "Yes",
            "Yes",
            "No",
            "Yes",
            "Yes",
            "Yes",
            "Yes",
            "Yes",
            "Yes",
            "Yes",
            "Yes",
            "Yes",
            "Yes",
            "Yes",
            "Yes",
            "Yes",
            "Yes",
            "Yes",
            "Yes",
            "No",
            "Yes",
            "Yes",
            "Yes",
            "Yes",
            "Yes",
            "Yes",
            "Yes",
            "Yes",
            "Yes",
            "Yes",
            "No",
            "Yes",
            "Yes",
            "Yes",
            "No",
            "No",
            "Yes",
            "Yes",
            "Yes",
            "No",
            "No",
            "Yes",
            "No",
            "Yes",
            "Yes",
            "No",
            "No",
            "Yes",
            "Yes",
            "No",
            "No"
           ]
          },
          {
           "label": "day",
           "values": [
            "Sun",
            "Sun",
            "Sun",
            "Sun",
            "Sun",
            "Sun",
            "Sun",
            "Sun",
            "Sun",
            "Sun",
            "Sun",
            "Sun",
            "Sun",
            "Sun",
            "Sun",
            "Sun",
            "Sun",
            "Sun",
            "Sun",
            "Sat",
            "Sat",
            "Sat",
            "Sat",
            "Sat",
            "Sat",
            "Sat",
            "Sat",
            "Sat",
            "Sat",
            "Sat",
            "Sat",
            "Sat",
            "Sat",
            "Sat",
            "Sat",
            "Sat",
            "Sat",
            "Sat",
            "Sat",
            "Sat",
            "Sat",
            "Sun",
            "Sun",
            "Sun",
            "Sun",
            "Sun",
            "Sun",
            "Sun",
            "Sun",
            "Sun",
            "Sun",
            "Sun",
            "Sun",
            "Sun",
            "Sun",
            "Sun",
            "Sat",
            "Sat",
            "Sat",
            "Sat",
            "Sat",
            "Sat",
            "Sat",
            "Sat",
            "Sat",
            "Sat",
            "Sat",
            "Sat",
            "Sat",
            "Sat",
            "Sat",
            "Sat",
            "Sat",
            "Sat",
            "Sat",
            "Sat",
            "Sat",
            "Thur",
            "Thur",
            "Thur",
            "Thur",
            "Thur",
            "Thur",
            "Thur",
            "Thur",
            "Thur",
            "Thur",
            "Thur",
            "Thur",
            "Thur",
            "Fri",
            "Fri",
            "Fri",
            "Fri",
            "Fri",
            "Fri",
            "Fri",
            "Fri",
            "Fri",
            "Fri",
            "Fri",
            "Fri",
            "Sat",
            "Sat",
            "Sat",
            "Sat",
            "Sat",
            "Sat",
            "Sat",
            "Sat",
            "Sat",
            "Sat",
            "Sun",
            "Sun",
            "Sun",
            "Sun",
            "Sun",
            "Thur",
            "Thur",
            "Thur",
            "Thur",
            "Thur",
            "Thur",
            "Thur",
            "Thur",
            "Thur",
            "Thur",
            "Thur",
            "Thur",
            "Thur",
            "Thur",
            "Thur",
            "Thur",
            "Thur",
            "Thur",
            "Thur",
            "Thur",
            "Thur",
            "Thur",
            "Thur",
            "Thur",
            "Thur",
            "Thur",
            "Thur",
            "Thur",
            "Thur",
            "Thur",
            "Thur",
            "Thur",
            "Thur",
            "Sun",
            "Sun",
            "Sun",
            "Sun",
            "Sun",
            "Sun",
            "Sun",
            "Sun",
            "Sun",
            "Sun",
            "Sun",
            "Sun",
            "Sun",
            "Sun",
            "Sun",
            "Sun",
            "Sun",
            "Sun",
            "Sat",
            "Sat",
            "Sat",
            "Sat",
            "Sun",
            "Sun",
            "Sun",
            "Sun",
            "Sun",
            "Sun",
            "Sun",
            "Sun",
            "Sun",
            "Sun",
            "Sun",
            "Sun",
            "Sun",
            "Sun",
            "Sun",
            "Sun",
            "Sun",
            "Sun",
            "Sun",
            "Thur",
            "Thur",
            "Thur",
            "Thur",
            "Thur",
            "Thur",
            "Thur",
            "Thur",
            "Thur",
            "Thur",
            "Thur",
            "Thur",
            "Thur",
            "Thur",
            "Thur",
            "Sat",
            "Sat",
            "Sat",
            "Sat",
            "Sat",
            "Sat",
            "Sat",
            "Sat",
            "Sat",
            "Sat",
            "Sat",
            "Sat",
            "Sat",
            "Sat",
            "Fri",
            "Fri",
            "Fri",
            "Fri",
            "Fri",
            "Fri",
            "Fri",
            "Sat",
            "Sat",
            "Sat",
            "Sat",
            "Sat",
            "Sat",
            "Sat",
            "Sat",
            "Sat",
            "Sat",
            "Sat",
            "Sat",
            "Sat",
            "Sat",
            "Sat",
            "Sat",
            "Thur"
           ]
          },
          {
           "label": "time",
           "values": [
            "Dinner",
            "Dinner",
            "Dinner",
            "Dinner",
            "Dinner",
            "Dinner",
            "Dinner",
            "Dinner",
            "Dinner",
            "Dinner",
            "Dinner",
            "Dinner",
            "Dinner",
            "Dinner",
            "Dinner",
            "Dinner",
            "Dinner",
            "Dinner",
            "Dinner",
            "Dinner",
            "Dinner",
            "Dinner",
            "Dinner",
            "Dinner",
            "Dinner",
            "Dinner",
            "Dinner",
            "Dinner",
            "Dinner",
            "Dinner",
            "Dinner",
            "Dinner",
            "Dinner",
            "Dinner",
            "Dinner",
            "Dinner",
            "Dinner",
            "Dinner",
            "Dinner",
            "Dinner",
            "Dinner",
            "Dinner",
            "Dinner",
            "Dinner",
            "Dinner",
            "Dinner",
            "Dinner",
            "Dinner",
            "Dinner",
            "Dinner",
            "Dinner",
            "Dinner",
            "Dinner",
            "Dinner",
            "Dinner",
            "Dinner",
            "Dinner",
            "Dinner",
            "Dinner",
            "Dinner",
            "Dinner",
            "Dinner",
            "Dinner",
            "Dinner",
            "Dinner",
            "Dinner",
            "Dinner",
            "Dinner",
            "Dinner",
            "Dinner",
            "Dinner",
            "Dinner",
            "Dinner",
            "Dinner",
            "Dinner",
            "Dinner",
            "Dinner",
            "Lunch",
            "Lunch",
            "Lunch",
            "Lunch",
            "Lunch",
            "Lunch",
            "Lunch",
            "Lunch",
            "Lunch",
            "Lunch",
            "Lunch",
            "Lunch",
            "Lunch",
            "Dinner",
            "Dinner",
            "Dinner",
            "Dinner",
            "Dinner",
            "Dinner",
            "Dinner",
            "Dinner",
            "Dinner",
            "Dinner",
            "Dinner",
            "Dinner",
            "Dinner",
            "Dinner",
            "Dinner",
            "Dinner",
            "Dinner",
            "Dinner",
            "Dinner",
            "Dinner",
            "Dinner",
            "Dinner",
            "Dinner",
            "Dinner",
            "Dinner",
            "Dinner",
            "Dinner",
            "Lunch",
            "Lunch",
            "Lunch",
            "Lunch",
            "Lunch",
            "Lunch",
            "Lunch",
            "Lunch",
            "Lunch",
            "Lunch",
            "Lunch",
            "Lunch",
            "Lunch",
            "Lunch",
            "Lunch",
            "Lunch",
            "Lunch",
            "Lunch",
            "Lunch",
            "Lunch",
            "Lunch",
            "Lunch",
            "Lunch",
            "Lunch",
            "Lunch",
            "Lunch",
            "Lunch",
            "Lunch",
            "Lunch",
            "Lunch",
            "Lunch",
            "Lunch",
            "Lunch",
            "Dinner",
            "Dinner",
            "Dinner",
            "Dinner",
            "Dinner",
            "Dinner",
            "Dinner",
            "Dinner",
            "Dinner",
            "Dinner",
            "Dinner",
            "Dinner",
            "Dinner",
            "Dinner",
            "Dinner",
            "Dinner",
            "Dinner",
            "Dinner",
            "Dinner",
            "Dinner",
            "Dinner",
            "Dinner",
            "Dinner",
            "Dinner",
            "Dinner",
            "Dinner",
            "Dinner",
            "Dinner",
            "Dinner",
            "Dinner",
            "Dinner",
            "Dinner",
            "Dinner",
            "Dinner",
            "Dinner",
            "Dinner",
            "Dinner",
            "Dinner",
            "Dinner",
            "Dinner",
            "Dinner",
            "Lunch",
            "Lunch",
            "Lunch",
            "Lunch",
            "Lunch",
            "Lunch",
            "Lunch",
            "Lunch",
            "Lunch",
            "Lunch",
            "Lunch",
            "Lunch",
            "Lunch",
            "Lunch",
            "Lunch",
            "Dinner",
            "Dinner",
            "Dinner",
            "Dinner",
            "Dinner",
            "Dinner",
            "Dinner",
            "Dinner",
            "Dinner",
            "Dinner",
            "Dinner",
            "Dinner",
            "Dinner",
            "Dinner",
            "Lunch",
            "Lunch",
            "Lunch",
            "Lunch",
            "Lunch",
            "Lunch",
            "Lunch",
            "Dinner",
            "Dinner",
            "Dinner",
            "Dinner",
            "Dinner",
            "Dinner",
            "Dinner",
            "Dinner",
            "Dinner",
            "Dinner",
            "Dinner",
            "Dinner",
            "Dinner",
            "Dinner",
            "Dinner",
            "Dinner",
            "Dinner"
           ]
          },
          {
           "label": "size",
           "values": [
            2,
            3,
            3,
            2,
            4,
            4,
            2,
            4,
            2,
            2,
            2,
            4,
            2,
            4,
            2,
            2,
            3,
            3,
            3,
            3,
            2,
            2,
            2,
            4,
            2,
            4,
            2,
            2,
            2,
            2,
            2,
            4,
            2,
            4,
            2,
            3,
            3,
            3,
            3,
            3,
            3,
            2,
            2,
            2,
            4,
            2,
            2,
            4,
            3,
            2,
            2,
            2,
            4,
            2,
            4,
            2,
            4,
            2,
            2,
            4,
            2,
            2,
            2,
            4,
            3,
            3,
            2,
            1,
            2,
            2,
            2,
            3,
            2,
            2,
            2,
            2,
            2,
            4,
            2,
            2,
            2,
            2,
            1,
            2,
            2,
            4,
            2,
            2,
            2,
            2,
            2,
            2,
            2,
            2,
            2,
            4,
            2,
            2,
            2,
            2,
            2,
            2,
            3,
            2,
            2,
            2,
            2,
            2,
            2,
            2,
            2,
            1,
            3,
            2,
            3,
            2,
            4,
            2,
            2,
            4,
            2,
            2,
            2,
            2,
            2,
            6,
            2,
            2,
            2,
            3,
            2,
            2,
            2,
            2,
            2,
            2,
            2,
            2,
            2,
            2,
            2,
            6,
            5,
            6,
            2,
            2,
            3,
            2,
            2,
            2,
            2,
            2,
            3,
            4,
            4,
            5,
            6,
            4,
            2,
            4,
            4,
            2,
            3,
            2,
            2,
            3,
            2,
            4,
            2,
            2,
            3,
            2,
            2,
            2,
            2,
            2,
            2,
            2,
            2,
            2,
            4,
            2,
            3,
            4,
            2,
            5,
            3,
            5,
            3,
            3,
            2,
            2,
            2,
            2,
            2,
            2,
            2,
            4,
            2,
            2,
            3,
            2,
            2,
            2,
            4,
            3,
            3,
            4,
            2,
            2,
            3,
            4,
            4,
            2,
            3,
            2,
            5,
            2,
            2,
            4,
            2,
            2,
            1,
            3,
            2,
            2,
            2,
            4,
            2,
            2,
            4,
            3,
            2,
            2,
            2,
            2,
            2,
            2,
            3,
            3,
            2,
            2,
            2,
            2
           ]
          }
         ],
         "domain": {
          "x": [
           0,
           1
          ],
          "y": [
           0,
           1
          ]
         },
         "line": {
          "color": [
           2,
           3,
           3,
           2,
           4,
           4,
           2,
           4,
           2,
           2,
           2,
           4,
           2,
           4,
           2,
           2,
           3,
           3,
           3,
           3,
           2,
           2,
           2,
           4,
           2,
           4,
           2,
           2,
           2,
           2,
           2,
           4,
           2,
           4,
           2,
           3,
           3,
           3,
           3,
           3,
           3,
           2,
           2,
           2,
           4,
           2,
           2,
           4,
           3,
           2,
           2,
           2,
           4,
           2,
           4,
           2,
           4,
           2,
           2,
           4,
           2,
           2,
           2,
           4,
           3,
           3,
           2,
           1,
           2,
           2,
           2,
           3,
           2,
           2,
           2,
           2,
           2,
           4,
           2,
           2,
           2,
           2,
           1,
           2,
           2,
           4,
           2,
           2,
           2,
           2,
           2,
           2,
           2,
           2,
           2,
           4,
           2,
           2,
           2,
           2,
           2,
           2,
           3,
           2,
           2,
           2,
           2,
           2,
           2,
           2,
           2,
           1,
           3,
           2,
           3,
           2,
           4,
           2,
           2,
           4,
           2,
           2,
           2,
           2,
           2,
           6,
           2,
           2,
           2,
           3,
           2,
           2,
           2,
           2,
           2,
           2,
           2,
           2,
           2,
           2,
           2,
           6,
           5,
           6,
           2,
           2,
           3,
           2,
           2,
           2,
           2,
           2,
           3,
           4,
           4,
           5,
           6,
           4,
           2,
           4,
           4,
           2,
           3,
           2,
           2,
           3,
           2,
           4,
           2,
           2,
           3,
           2,
           2,
           2,
           2,
           2,
           2,
           2,
           2,
           2,
           4,
           2,
           3,
           4,
           2,
           5,
           3,
           5,
           3,
           3,
           2,
           2,
           2,
           2,
           2,
           2,
           2,
           4,
           2,
           2,
           3,
           2,
           2,
           2,
           4,
           3,
           3,
           4,
           2,
           2,
           3,
           4,
           4,
           2,
           3,
           2,
           5,
           2,
           2,
           4,
           2,
           2,
           1,
           3,
           2,
           2,
           2,
           4,
           2,
           2,
           4,
           3,
           2,
           2,
           2,
           2,
           2,
           2,
           3,
           3,
           2,
           2,
           2,
           2
          ],
          "coloraxis": "coloraxis"
         },
         "name": "",
         "type": "parcats"
        }
       ],
       "layout": {
        "coloraxis": {
         "colorbar": {
          "title": {
           "text": "size"
          }
         },
         "colorscale": [
          [
           0,
           "#000004"
          ],
          [
           0.1111111111111111,
           "#1b0c41"
          ],
          [
           0.2222222222222222,
           "#4a0c6b"
          ],
          [
           0.3333333333333333,
           "#781c6d"
          ],
          [
           0.4444444444444444,
           "#a52c60"
          ],
          [
           0.5555555555555556,
           "#cf4446"
          ],
          [
           0.6666666666666666,
           "#ed6925"
          ],
          [
           0.7777777777777778,
           "#fb9b06"
          ],
          [
           0.8888888888888888,
           "#f7d13d"
          ],
          [
           1,
           "#fcffa4"
          ]
         ]
        },
        "legend": {
         "tracegroupgap": 0
        },
        "margin": {
         "t": 60
        },
        "template": {
         "data": {
          "bar": [
           {
            "error_x": {
             "color": "#2a3f5f"
            },
            "error_y": {
             "color": "#2a3f5f"
            },
            "marker": {
             "line": {
              "color": "#E5ECF6",
              "width": 0.5
             }
            },
            "type": "bar"
           }
          ],
          "barpolar": [
           {
            "marker": {
             "line": {
              "color": "#E5ECF6",
              "width": 0.5
             }
            },
            "type": "barpolar"
           }
          ],
          "carpet": [
           {
            "aaxis": {
             "endlinecolor": "#2a3f5f",
             "gridcolor": "white",
             "linecolor": "white",
             "minorgridcolor": "white",
             "startlinecolor": "#2a3f5f"
            },
            "baxis": {
             "endlinecolor": "#2a3f5f",
             "gridcolor": "white",
             "linecolor": "white",
             "minorgridcolor": "white",
             "startlinecolor": "#2a3f5f"
            },
            "type": "carpet"
           }
          ],
          "choropleth": [
           {
            "colorbar": {
             "outlinewidth": 0,
             "ticks": ""
            },
            "type": "choropleth"
           }
          ],
          "contour": [
           {
            "colorbar": {
             "outlinewidth": 0,
             "ticks": ""
            },
            "colorscale": [
             [
              0,
              "#0d0887"
             ],
             [
              0.1111111111111111,
              "#46039f"
             ],
             [
              0.2222222222222222,
              "#7201a8"
             ],
             [
              0.3333333333333333,
              "#9c179e"
             ],
             [
              0.4444444444444444,
              "#bd3786"
             ],
             [
              0.5555555555555556,
              "#d8576b"
             ],
             [
              0.6666666666666666,
              "#ed7953"
             ],
             [
              0.7777777777777778,
              "#fb9f3a"
             ],
             [
              0.8888888888888888,
              "#fdca26"
             ],
             [
              1,
              "#f0f921"
             ]
            ],
            "type": "contour"
           }
          ],
          "contourcarpet": [
           {
            "colorbar": {
             "outlinewidth": 0,
             "ticks": ""
            },
            "type": "contourcarpet"
           }
          ],
          "heatmap": [
           {
            "colorbar": {
             "outlinewidth": 0,
             "ticks": ""
            },
            "colorscale": [
             [
              0,
              "#0d0887"
             ],
             [
              0.1111111111111111,
              "#46039f"
             ],
             [
              0.2222222222222222,
              "#7201a8"
             ],
             [
              0.3333333333333333,
              "#9c179e"
             ],
             [
              0.4444444444444444,
              "#bd3786"
             ],
             [
              0.5555555555555556,
              "#d8576b"
             ],
             [
              0.6666666666666666,
              "#ed7953"
             ],
             [
              0.7777777777777778,
              "#fb9f3a"
             ],
             [
              0.8888888888888888,
              "#fdca26"
             ],
             [
              1,
              "#f0f921"
             ]
            ],
            "type": "heatmap"
           }
          ],
          "heatmapgl": [
           {
            "colorbar": {
             "outlinewidth": 0,
             "ticks": ""
            },
            "colorscale": [
             [
              0,
              "#0d0887"
             ],
             [
              0.1111111111111111,
              "#46039f"
             ],
             [
              0.2222222222222222,
              "#7201a8"
             ],
             [
              0.3333333333333333,
              "#9c179e"
             ],
             [
              0.4444444444444444,
              "#bd3786"
             ],
             [
              0.5555555555555556,
              "#d8576b"
             ],
             [
              0.6666666666666666,
              "#ed7953"
             ],
             [
              0.7777777777777778,
              "#fb9f3a"
             ],
             [
              0.8888888888888888,
              "#fdca26"
             ],
             [
              1,
              "#f0f921"
             ]
            ],
            "type": "heatmapgl"
           }
          ],
          "histogram": [
           {
            "marker": {
             "colorbar": {
              "outlinewidth": 0,
              "ticks": ""
             }
            },
            "type": "histogram"
           }
          ],
          "histogram2d": [
           {
            "colorbar": {
             "outlinewidth": 0,
             "ticks": ""
            },
            "colorscale": [
             [
              0,
              "#0d0887"
             ],
             [
              0.1111111111111111,
              "#46039f"
             ],
             [
              0.2222222222222222,
              "#7201a8"
             ],
             [
              0.3333333333333333,
              "#9c179e"
             ],
             [
              0.4444444444444444,
              "#bd3786"
             ],
             [
              0.5555555555555556,
              "#d8576b"
             ],
             [
              0.6666666666666666,
              "#ed7953"
             ],
             [
              0.7777777777777778,
              "#fb9f3a"
             ],
             [
              0.8888888888888888,
              "#fdca26"
             ],
             [
              1,
              "#f0f921"
             ]
            ],
            "type": "histogram2d"
           }
          ],
          "histogram2dcontour": [
           {
            "colorbar": {
             "outlinewidth": 0,
             "ticks": ""
            },
            "colorscale": [
             [
              0,
              "#0d0887"
             ],
             [
              0.1111111111111111,
              "#46039f"
             ],
             [
              0.2222222222222222,
              "#7201a8"
             ],
             [
              0.3333333333333333,
              "#9c179e"
             ],
             [
              0.4444444444444444,
              "#bd3786"
             ],
             [
              0.5555555555555556,
              "#d8576b"
             ],
             [
              0.6666666666666666,
              "#ed7953"
             ],
             [
              0.7777777777777778,
              "#fb9f3a"
             ],
             [
              0.8888888888888888,
              "#fdca26"
             ],
             [
              1,
              "#f0f921"
             ]
            ],
            "type": "histogram2dcontour"
           }
          ],
          "mesh3d": [
           {
            "colorbar": {
             "outlinewidth": 0,
             "ticks": ""
            },
            "type": "mesh3d"
           }
          ],
          "parcoords": [
           {
            "line": {
             "colorbar": {
              "outlinewidth": 0,
              "ticks": ""
             }
            },
            "type": "parcoords"
           }
          ],
          "pie": [
           {
            "automargin": true,
            "type": "pie"
           }
          ],
          "scatter": [
           {
            "marker": {
             "colorbar": {
              "outlinewidth": 0,
              "ticks": ""
             }
            },
            "type": "scatter"
           }
          ],
          "scatter3d": [
           {
            "line": {
             "colorbar": {
              "outlinewidth": 0,
              "ticks": ""
             }
            },
            "marker": {
             "colorbar": {
              "outlinewidth": 0,
              "ticks": ""
             }
            },
            "type": "scatter3d"
           }
          ],
          "scattercarpet": [
           {
            "marker": {
             "colorbar": {
              "outlinewidth": 0,
              "ticks": ""
             }
            },
            "type": "scattercarpet"
           }
          ],
          "scattergeo": [
           {
            "marker": {
             "colorbar": {
              "outlinewidth": 0,
              "ticks": ""
             }
            },
            "type": "scattergeo"
           }
          ],
          "scattergl": [
           {
            "marker": {
             "colorbar": {
              "outlinewidth": 0,
              "ticks": ""
             }
            },
            "type": "scattergl"
           }
          ],
          "scattermapbox": [
           {
            "marker": {
             "colorbar": {
              "outlinewidth": 0,
              "ticks": ""
             }
            },
            "type": "scattermapbox"
           }
          ],
          "scatterpolar": [
           {
            "marker": {
             "colorbar": {
              "outlinewidth": 0,
              "ticks": ""
             }
            },
            "type": "scatterpolar"
           }
          ],
          "scatterpolargl": [
           {
            "marker": {
             "colorbar": {
              "outlinewidth": 0,
              "ticks": ""
             }
            },
            "type": "scatterpolargl"
           }
          ],
          "scatterternary": [
           {
            "marker": {
             "colorbar": {
              "outlinewidth": 0,
              "ticks": ""
             }
            },
            "type": "scatterternary"
           }
          ],
          "surface": [
           {
            "colorbar": {
             "outlinewidth": 0,
             "ticks": ""
            },
            "colorscale": [
             [
              0,
              "#0d0887"
             ],
             [
              0.1111111111111111,
              "#46039f"
             ],
             [
              0.2222222222222222,
              "#7201a8"
             ],
             [
              0.3333333333333333,
              "#9c179e"
             ],
             [
              0.4444444444444444,
              "#bd3786"
             ],
             [
              0.5555555555555556,
              "#d8576b"
             ],
             [
              0.6666666666666666,
              "#ed7953"
             ],
             [
              0.7777777777777778,
              "#fb9f3a"
             ],
             [
              0.8888888888888888,
              "#fdca26"
             ],
             [
              1,
              "#f0f921"
             ]
            ],
            "type": "surface"
           }
          ],
          "table": [
           {
            "cells": {
             "fill": {
              "color": "#EBF0F8"
             },
             "line": {
              "color": "white"
             }
            },
            "header": {
             "fill": {
              "color": "#C8D4E3"
             },
             "line": {
              "color": "white"
             }
            },
            "type": "table"
           }
          ]
         },
         "layout": {
          "annotationdefaults": {
           "arrowcolor": "#2a3f5f",
           "arrowhead": 0,
           "arrowwidth": 1
          },
          "coloraxis": {
           "colorbar": {
            "outlinewidth": 0,
            "ticks": ""
           }
          },
          "colorscale": {
           "diverging": [
            [
             0,
             "#8e0152"
            ],
            [
             0.1,
             "#c51b7d"
            ],
            [
             0.2,
             "#de77ae"
            ],
            [
             0.3,
             "#f1b6da"
            ],
            [
             0.4,
             "#fde0ef"
            ],
            [
             0.5,
             "#f7f7f7"
            ],
            [
             0.6,
             "#e6f5d0"
            ],
            [
             0.7,
             "#b8e186"
            ],
            [
             0.8,
             "#7fbc41"
            ],
            [
             0.9,
             "#4d9221"
            ],
            [
             1,
             "#276419"
            ]
           ],
           "sequential": [
            [
             0,
             "#0d0887"
            ],
            [
             0.1111111111111111,
             "#46039f"
            ],
            [
             0.2222222222222222,
             "#7201a8"
            ],
            [
             0.3333333333333333,
             "#9c179e"
            ],
            [
             0.4444444444444444,
             "#bd3786"
            ],
            [
             0.5555555555555556,
             "#d8576b"
            ],
            [
             0.6666666666666666,
             "#ed7953"
            ],
            [
             0.7777777777777778,
             "#fb9f3a"
            ],
            [
             0.8888888888888888,
             "#fdca26"
            ],
            [
             1,
             "#f0f921"
            ]
           ],
           "sequentialminus": [
            [
             0,
             "#0d0887"
            ],
            [
             0.1111111111111111,
             "#46039f"
            ],
            [
             0.2222222222222222,
             "#7201a8"
            ],
            [
             0.3333333333333333,
             "#9c179e"
            ],
            [
             0.4444444444444444,
             "#bd3786"
            ],
            [
             0.5555555555555556,
             "#d8576b"
            ],
            [
             0.6666666666666666,
             "#ed7953"
            ],
            [
             0.7777777777777778,
             "#fb9f3a"
            ],
            [
             0.8888888888888888,
             "#fdca26"
            ],
            [
             1,
             "#f0f921"
            ]
           ]
          },
          "colorway": [
           "#636efa",
           "#EF553B",
           "#00cc96",
           "#ab63fa",
           "#FFA15A",
           "#19d3f3",
           "#FF6692",
           "#B6E880",
           "#FF97FF",
           "#FECB52"
          ],
          "font": {
           "color": "#2a3f5f"
          },
          "geo": {
           "bgcolor": "white",
           "lakecolor": "white",
           "landcolor": "#E5ECF6",
           "showlakes": true,
           "showland": true,
           "subunitcolor": "white"
          },
          "hoverlabel": {
           "align": "left"
          },
          "hovermode": "closest",
          "mapbox": {
           "style": "light"
          },
          "paper_bgcolor": "white",
          "plot_bgcolor": "#E5ECF6",
          "polar": {
           "angularaxis": {
            "gridcolor": "white",
            "linecolor": "white",
            "ticks": ""
           },
           "bgcolor": "#E5ECF6",
           "radialaxis": {
            "gridcolor": "white",
            "linecolor": "white",
            "ticks": ""
           }
          },
          "scene": {
           "xaxis": {
            "backgroundcolor": "#E5ECF6",
            "gridcolor": "white",
            "gridwidth": 2,
            "linecolor": "white",
            "showbackground": true,
            "ticks": "",
            "zerolinecolor": "white"
           },
           "yaxis": {
            "backgroundcolor": "#E5ECF6",
            "gridcolor": "white",
            "gridwidth": 2,
            "linecolor": "white",
            "showbackground": true,
            "ticks": "",
            "zerolinecolor": "white"
           },
           "zaxis": {
            "backgroundcolor": "#E5ECF6",
            "gridcolor": "white",
            "gridwidth": 2,
            "linecolor": "white",
            "showbackground": true,
            "ticks": "",
            "zerolinecolor": "white"
           }
          },
          "shapedefaults": {
           "line": {
            "color": "#2a3f5f"
           }
          },
          "ternary": {
           "aaxis": {
            "gridcolor": "white",
            "linecolor": "white",
            "ticks": ""
           },
           "baxis": {
            "gridcolor": "white",
            "linecolor": "white",
            "ticks": ""
           },
           "bgcolor": "#E5ECF6",
           "caxis": {
            "gridcolor": "white",
            "linecolor": "white",
            "ticks": ""
           }
          },
          "title": {
           "x": 0.05
          },
          "xaxis": {
           "automargin": true,
           "gridcolor": "white",
           "linecolor": "white",
           "ticks": "",
           "title": {
            "standoff": 15
           },
           "zerolinecolor": "white",
           "zerolinewidth": 2
          },
          "yaxis": {
           "automargin": true,
           "gridcolor": "white",
           "linecolor": "white",
           "ticks": "",
           "title": {
            "standoff": 15
           },
           "zerolinecolor": "white",
           "zerolinewidth": 2
          }
         }
        }
       }
      },
      "text/html": [
       "<div>\n",
       "        \n",
       "        \n",
       "            <div id=\"3e643871-4f97-4a0a-a012-013c8c6308fe\" class=\"plotly-graph-div\" style=\"height:525px; width:100%;\"></div>\n",
       "            <script type=\"text/javascript\">\n",
       "                require([\"plotly\"], function(Plotly) {\n",
       "                    window.PLOTLYENV=window.PLOTLYENV || {};\n",
       "                    \n",
       "                if (document.getElementById(\"3e643871-4f97-4a0a-a012-013c8c6308fe\")) {\n",
       "                    Plotly.newPlot(\n",
       "                        '3e643871-4f97-4a0a-a012-013c8c6308fe',\n",
       "                        [{\"dimensions\": [{\"label\": \"sex\", \"values\": [\"Female\", \"Male\", \"Male\", \"Male\", \"Female\", \"Male\", \"Male\", \"Male\", \"Male\", \"Male\", \"Male\", \"Female\", \"Male\", \"Male\", \"Female\", \"Male\", \"Female\", \"Male\", \"Female\", \"Male\", \"Male\", \"Female\", \"Female\", \"Male\", \"Male\", \"Male\", \"Male\", \"Male\", \"Male\", \"Female\", \"Male\", \"Male\", \"Female\", \"Female\", \"Male\", \"Male\", \"Male\", \"Female\", \"Male\", \"Male\", \"Male\", \"Male\", \"Male\", \"Male\", \"Male\", \"Male\", \"Male\", \"Male\", \"Male\", \"Male\", \"Male\", \"Female\", \"Female\", \"Male\", \"Male\", \"Male\", \"Male\", \"Female\", \"Male\", \"Male\", \"Male\", \"Male\", \"Male\", \"Male\", \"Male\", \"Male\", \"Female\", \"Female\", \"Male\", \"Male\", \"Male\", \"Female\", \"Female\", \"Female\", \"Female\", \"Male\", \"Male\", \"Male\", \"Male\", \"Male\", \"Male\", \"Male\", \"Female\", \"Male\", \"Male\", \"Female\", \"Male\", \"Male\", \"Male\", \"Male\", \"Male\", \"Male\", \"Female\", \"Female\", \"Female\", \"Male\", \"Male\", \"Male\", \"Male\", \"Male\", \"Female\", \"Female\", \"Female\", \"Female\", \"Female\", \"Male\", \"Male\", \"Male\", \"Male\", \"Female\", \"Male\", \"Female\", \"Male\", \"Male\", \"Female\", \"Female\", \"Male\", \"Female\", \"Female\", \"Female\", \"Male\", \"Female\", \"Male\", \"Male\", \"Female\", \"Female\", \"Male\", \"Female\", \"Female\", \"Male\", \"Male\", \"Female\", \"Female\", \"Female\", \"Female\", \"Female\", \"Female\", \"Female\", \"Male\", \"Female\", \"Female\", \"Male\", \"Male\", \"Female\", \"Female\", \"Female\", \"Female\", \"Female\", \"Male\", \"Male\", \"Male\", \"Male\", \"Male\", \"Male\", \"Male\", \"Female\", \"Male\", \"Female\", \"Female\", \"Male\", \"Male\", \"Male\", \"Female\", \"Male\", \"Female\", \"Male\", \"Male\", \"Male\", \"Female\", \"Female\", \"Male\", \"Male\", \"Male\", \"Male\", \"Male\", \"Male\", \"Male\", \"Male\", \"Female\", \"Male\", \"Male\", \"Male\", \"Male\", \"Male\", \"Male\", \"Male\", \"Female\", \"Male\", \"Female\", \"Male\", \"Male\", \"Female\", \"Male\", \"Male\", \"Male\", \"Male\", \"Male\", \"Female\", \"Female\", \"Male\", \"Male\", \"Female\", \"Female\", \"Female\", \"Male\", \"Female\", \"Male\", \"Male\", \"Male\", \"Female\", \"Male\", \"Male\", \"Male\", \"Female\", \"Female\", \"Female\", \"Male\", \"Male\", \"Male\", \"Female\", \"Male\", \"Female\", \"Male\", \"Female\", \"Male\", \"Female\", \"Female\", \"Male\", \"Male\", \"Female\", \"Male\", \"Male\", \"Male\", \"Male\", \"Male\", \"Male\", \"Male\", \"Male\", \"Female\", \"Male\", \"Female\", \"Male\", \"Male\", \"Female\"]}, {\"label\": \"smoker\", \"values\": [\"No\", \"No\", \"No\", \"No\", \"No\", \"No\", \"No\", \"No\", \"No\", \"No\", \"No\", \"No\", \"No\", \"No\", \"No\", \"No\", \"No\", \"No\", \"No\", \"No\", \"No\", \"No\", \"No\", \"No\", \"No\", \"No\", \"No\", \"No\", \"No\", \"No\", \"No\", \"No\", \"No\", \"No\", \"No\", \"No\", \"No\", \"No\", \"No\", \"No\", \"No\", \"No\", \"No\", \"No\", \"No\", \"No\", \"No\", \"No\", \"No\", \"No\", \"No\", \"No\", \"No\", \"No\", \"No\", \"No\", \"Yes\", \"No\", \"Yes\", \"No\", \"Yes\", \"Yes\", \"Yes\", \"Yes\", \"No\", \"No\", \"No\", \"Yes\", \"No\", \"Yes\", \"No\", \"No\", \"Yes\", \"Yes\", \"No\", \"No\", \"Yes\", \"No\", \"No\", \"No\", \"Yes\", \"No\", \"No\", \"Yes\", \"No\", \"No\", \"No\", \"No\", \"No\", \"No\", \"Yes\", \"No\", \"Yes\", \"Yes\", \"No\", \"Yes\", \"Yes\", \"Yes\", \"Yes\", \"No\", \"Yes\", \"Yes\", \"Yes\", \"Yes\", \"No\", \"Yes\", \"Yes\", \"Yes\", \"No\", \"Yes\", \"No\", \"No\", \"No\", \"No\", \"No\", \"No\", \"No\", \"No\", \"No\", \"No\", \"No\", \"No\", \"No\", \"No\", \"No\", \"No\", \"No\", \"No\", \"No\", \"No\", \"No\", \"No\", \"No\", \"No\", \"No\", \"No\", \"No\", \"No\", \"Yes\", \"No\", \"No\", \"No\", \"No\", \"No\", \"No\", \"No\", \"No\", \"No\", \"No\", \"No\", \"No\", \"No\", \"No\", \"No\", \"No\", \"No\", \"No\", \"No\", \"No\", \"No\", \"No\", \"No\", \"No\", \"No\", \"Yes\", \"No\", \"No\", \"No\", \"Yes\", \"Yes\", \"Yes\", \"Yes\", \"Yes\", \"Yes\", \"Yes\", \"Yes\", \"Yes\", \"Yes\", \"Yes\", \"Yes\", \"Yes\", \"Yes\", \"Yes\", \"Yes\", \"Yes\", \"No\", \"Yes\", \"Yes\", \"Yes\", \"Yes\", \"Yes\", \"Yes\", \"Yes\", \"Yes\", \"Yes\", \"No\", \"Yes\", \"Yes\", \"Yes\", \"Yes\", \"Yes\", \"Yes\", \"Yes\", \"Yes\", \"Yes\", \"Yes\", \"Yes\", \"Yes\", \"Yes\", \"Yes\", \"Yes\", \"Yes\", \"No\", \"Yes\", \"Yes\", \"Yes\", \"Yes\", \"Yes\", \"Yes\", \"Yes\", \"Yes\", \"Yes\", \"Yes\", \"No\", \"Yes\", \"Yes\", \"Yes\", \"No\", \"No\", \"Yes\", \"Yes\", \"Yes\", \"No\", \"No\", \"Yes\", \"No\", \"Yes\", \"Yes\", \"No\", \"No\", \"Yes\", \"Yes\", \"No\", \"No\"]}, {\"label\": \"day\", \"values\": [\"Sun\", \"Sun\", \"Sun\", \"Sun\", \"Sun\", \"Sun\", \"Sun\", \"Sun\", \"Sun\", \"Sun\", \"Sun\", \"Sun\", \"Sun\", \"Sun\", \"Sun\", \"Sun\", \"Sun\", \"Sun\", \"Sun\", \"Sat\", \"Sat\", \"Sat\", \"Sat\", \"Sat\", \"Sat\", \"Sat\", \"Sat\", \"Sat\", \"Sat\", \"Sat\", \"Sat\", \"Sat\", \"Sat\", \"Sat\", \"Sat\", \"Sat\", \"Sat\", \"Sat\", \"Sat\", \"Sat\", \"Sat\", \"Sun\", \"Sun\", \"Sun\", \"Sun\", \"Sun\", \"Sun\", \"Sun\", \"Sun\", \"Sun\", \"Sun\", \"Sun\", \"Sun\", \"Sun\", \"Sun\", \"Sun\", \"Sat\", \"Sat\", \"Sat\", \"Sat\", \"Sat\", \"Sat\", \"Sat\", \"Sat\", \"Sat\", \"Sat\", \"Sat\", \"Sat\", \"Sat\", \"Sat\", \"Sat\", \"Sat\", \"Sat\", \"Sat\", \"Sat\", \"Sat\", \"Sat\", \"Thur\", \"Thur\", \"Thur\", \"Thur\", \"Thur\", \"Thur\", \"Thur\", \"Thur\", \"Thur\", \"Thur\", \"Thur\", \"Thur\", \"Thur\", \"Fri\", \"Fri\", \"Fri\", \"Fri\", \"Fri\", \"Fri\", \"Fri\", \"Fri\", \"Fri\", \"Fri\", \"Fri\", \"Fri\", \"Sat\", \"Sat\", \"Sat\", \"Sat\", \"Sat\", \"Sat\", \"Sat\", \"Sat\", \"Sat\", \"Sat\", \"Sun\", \"Sun\", \"Sun\", \"Sun\", \"Sun\", \"Thur\", \"Thur\", \"Thur\", \"Thur\", \"Thur\", \"Thur\", \"Thur\", \"Thur\", \"Thur\", \"Thur\", \"Thur\", \"Thur\", \"Thur\", \"Thur\", \"Thur\", \"Thur\", \"Thur\", \"Thur\", \"Thur\", \"Thur\", \"Thur\", \"Thur\", \"Thur\", \"Thur\", \"Thur\", \"Thur\", \"Thur\", \"Thur\", \"Thur\", \"Thur\", \"Thur\", \"Thur\", \"Thur\", \"Sun\", \"Sun\", \"Sun\", \"Sun\", \"Sun\", \"Sun\", \"Sun\", \"Sun\", \"Sun\", \"Sun\", \"Sun\", \"Sun\", \"Sun\", \"Sun\", \"Sun\", \"Sun\", \"Sun\", \"Sun\", \"Sat\", \"Sat\", \"Sat\", \"Sat\", \"Sun\", \"Sun\", \"Sun\", \"Sun\", \"Sun\", \"Sun\", \"Sun\", \"Sun\", \"Sun\", \"Sun\", \"Sun\", \"Sun\", \"Sun\", \"Sun\", \"Sun\", \"Sun\", \"Sun\", \"Sun\", \"Sun\", \"Thur\", \"Thur\", \"Thur\", \"Thur\", \"Thur\", \"Thur\", \"Thur\", \"Thur\", \"Thur\", \"Thur\", \"Thur\", \"Thur\", \"Thur\", \"Thur\", \"Thur\", \"Sat\", \"Sat\", \"Sat\", \"Sat\", \"Sat\", \"Sat\", \"Sat\", \"Sat\", \"Sat\", \"Sat\", \"Sat\", \"Sat\", \"Sat\", \"Sat\", \"Fri\", \"Fri\", \"Fri\", \"Fri\", \"Fri\", \"Fri\", \"Fri\", \"Sat\", \"Sat\", \"Sat\", \"Sat\", \"Sat\", \"Sat\", \"Sat\", \"Sat\", \"Sat\", \"Sat\", \"Sat\", \"Sat\", \"Sat\", \"Sat\", \"Sat\", \"Sat\", \"Thur\"]}, {\"label\": \"time\", \"values\": [\"Dinner\", \"Dinner\", \"Dinner\", \"Dinner\", \"Dinner\", \"Dinner\", \"Dinner\", \"Dinner\", \"Dinner\", \"Dinner\", \"Dinner\", \"Dinner\", \"Dinner\", \"Dinner\", \"Dinner\", \"Dinner\", \"Dinner\", \"Dinner\", \"Dinner\", \"Dinner\", \"Dinner\", \"Dinner\", \"Dinner\", \"Dinner\", \"Dinner\", \"Dinner\", \"Dinner\", \"Dinner\", \"Dinner\", \"Dinner\", \"Dinner\", \"Dinner\", \"Dinner\", \"Dinner\", \"Dinner\", \"Dinner\", \"Dinner\", \"Dinner\", \"Dinner\", \"Dinner\", \"Dinner\", \"Dinner\", \"Dinner\", \"Dinner\", \"Dinner\", \"Dinner\", \"Dinner\", \"Dinner\", \"Dinner\", \"Dinner\", \"Dinner\", \"Dinner\", \"Dinner\", \"Dinner\", \"Dinner\", \"Dinner\", \"Dinner\", \"Dinner\", \"Dinner\", \"Dinner\", \"Dinner\", \"Dinner\", \"Dinner\", \"Dinner\", \"Dinner\", \"Dinner\", \"Dinner\", \"Dinner\", \"Dinner\", \"Dinner\", \"Dinner\", \"Dinner\", \"Dinner\", \"Dinner\", \"Dinner\", \"Dinner\", \"Dinner\", \"Lunch\", \"Lunch\", \"Lunch\", \"Lunch\", \"Lunch\", \"Lunch\", \"Lunch\", \"Lunch\", \"Lunch\", \"Lunch\", \"Lunch\", \"Lunch\", \"Lunch\", \"Dinner\", \"Dinner\", \"Dinner\", \"Dinner\", \"Dinner\", \"Dinner\", \"Dinner\", \"Dinner\", \"Dinner\", \"Dinner\", \"Dinner\", \"Dinner\", \"Dinner\", \"Dinner\", \"Dinner\", \"Dinner\", \"Dinner\", \"Dinner\", \"Dinner\", \"Dinner\", \"Dinner\", \"Dinner\", \"Dinner\", \"Dinner\", \"Dinner\", \"Dinner\", \"Dinner\", \"Lunch\", \"Lunch\", \"Lunch\", \"Lunch\", \"Lunch\", \"Lunch\", \"Lunch\", \"Lunch\", \"Lunch\", \"Lunch\", \"Lunch\", \"Lunch\", \"Lunch\", \"Lunch\", \"Lunch\", \"Lunch\", \"Lunch\", \"Lunch\", \"Lunch\", \"Lunch\", \"Lunch\", \"Lunch\", \"Lunch\", \"Lunch\", \"Lunch\", \"Lunch\", \"Lunch\", \"Lunch\", \"Lunch\", \"Lunch\", \"Lunch\", \"Lunch\", \"Lunch\", \"Dinner\", \"Dinner\", \"Dinner\", \"Dinner\", \"Dinner\", \"Dinner\", \"Dinner\", \"Dinner\", \"Dinner\", \"Dinner\", \"Dinner\", \"Dinner\", \"Dinner\", \"Dinner\", \"Dinner\", \"Dinner\", \"Dinner\", \"Dinner\", \"Dinner\", \"Dinner\", \"Dinner\", \"Dinner\", \"Dinner\", \"Dinner\", \"Dinner\", \"Dinner\", \"Dinner\", \"Dinner\", \"Dinner\", \"Dinner\", \"Dinner\", \"Dinner\", \"Dinner\", \"Dinner\", \"Dinner\", \"Dinner\", \"Dinner\", \"Dinner\", \"Dinner\", \"Dinner\", \"Dinner\", \"Lunch\", \"Lunch\", \"Lunch\", \"Lunch\", \"Lunch\", \"Lunch\", \"Lunch\", \"Lunch\", \"Lunch\", \"Lunch\", \"Lunch\", \"Lunch\", \"Lunch\", \"Lunch\", \"Lunch\", \"Dinner\", \"Dinner\", \"Dinner\", \"Dinner\", \"Dinner\", \"Dinner\", \"Dinner\", \"Dinner\", \"Dinner\", \"Dinner\", \"Dinner\", \"Dinner\", \"Dinner\", \"Dinner\", \"Lunch\", \"Lunch\", \"Lunch\", \"Lunch\", \"Lunch\", \"Lunch\", \"Lunch\", \"Dinner\", \"Dinner\", \"Dinner\", \"Dinner\", \"Dinner\", \"Dinner\", \"Dinner\", \"Dinner\", \"Dinner\", \"Dinner\", \"Dinner\", \"Dinner\", \"Dinner\", \"Dinner\", \"Dinner\", \"Dinner\", \"Dinner\"]}, {\"label\": \"size\", \"values\": [2, 3, 3, 2, 4, 4, 2, 4, 2, 2, 2, 4, 2, 4, 2, 2, 3, 3, 3, 3, 2, 2, 2, 4, 2, 4, 2, 2, 2, 2, 2, 4, 2, 4, 2, 3, 3, 3, 3, 3, 3, 2, 2, 2, 4, 2, 2, 4, 3, 2, 2, 2, 4, 2, 4, 2, 4, 2, 2, 4, 2, 2, 2, 4, 3, 3, 2, 1, 2, 2, 2, 3, 2, 2, 2, 2, 2, 4, 2, 2, 2, 2, 1, 2, 2, 4, 2, 2, 2, 2, 2, 2, 2, 2, 2, 4, 2, 2, 2, 2, 2, 2, 3, 2, 2, 2, 2, 2, 2, 2, 2, 1, 3, 2, 3, 2, 4, 2, 2, 4, 2, 2, 2, 2, 2, 6, 2, 2, 2, 3, 2, 2, 2, 2, 2, 2, 2, 2, 2, 2, 2, 6, 5, 6, 2, 2, 3, 2, 2, 2, 2, 2, 3, 4, 4, 5, 6, 4, 2, 4, 4, 2, 3, 2, 2, 3, 2, 4, 2, 2, 3, 2, 2, 2, 2, 2, 2, 2, 2, 2, 4, 2, 3, 4, 2, 5, 3, 5, 3, 3, 2, 2, 2, 2, 2, 2, 2, 4, 2, 2, 3, 2, 2, 2, 4, 3, 3, 4, 2, 2, 3, 4, 4, 2, 3, 2, 5, 2, 2, 4, 2, 2, 1, 3, 2, 2, 2, 4, 2, 2, 4, 3, 2, 2, 2, 2, 2, 2, 3, 3, 2, 2, 2, 2]}], \"domain\": {\"x\": [0.0, 1.0], \"y\": [0.0, 1.0]}, \"line\": {\"color\": [2, 3, 3, 2, 4, 4, 2, 4, 2, 2, 2, 4, 2, 4, 2, 2, 3, 3, 3, 3, 2, 2, 2, 4, 2, 4, 2, 2, 2, 2, 2, 4, 2, 4, 2, 3, 3, 3, 3, 3, 3, 2, 2, 2, 4, 2, 2, 4, 3, 2, 2, 2, 4, 2, 4, 2, 4, 2, 2, 4, 2, 2, 2, 4, 3, 3, 2, 1, 2, 2, 2, 3, 2, 2, 2, 2, 2, 4, 2, 2, 2, 2, 1, 2, 2, 4, 2, 2, 2, 2, 2, 2, 2, 2, 2, 4, 2, 2, 2, 2, 2, 2, 3, 2, 2, 2, 2, 2, 2, 2, 2, 1, 3, 2, 3, 2, 4, 2, 2, 4, 2, 2, 2, 2, 2, 6, 2, 2, 2, 3, 2, 2, 2, 2, 2, 2, 2, 2, 2, 2, 2, 6, 5, 6, 2, 2, 3, 2, 2, 2, 2, 2, 3, 4, 4, 5, 6, 4, 2, 4, 4, 2, 3, 2, 2, 3, 2, 4, 2, 2, 3, 2, 2, 2, 2, 2, 2, 2, 2, 2, 4, 2, 3, 4, 2, 5, 3, 5, 3, 3, 2, 2, 2, 2, 2, 2, 2, 4, 2, 2, 3, 2, 2, 2, 4, 3, 3, 4, 2, 2, 3, 4, 4, 2, 3, 2, 5, 2, 2, 4, 2, 2, 1, 3, 2, 2, 2, 4, 2, 2, 4, 3, 2, 2, 2, 2, 2, 2, 3, 3, 2, 2, 2, 2], \"coloraxis\": \"coloraxis\"}, \"name\": \"\", \"type\": \"parcats\"}],\n",
       "                        {\"coloraxis\": {\"colorbar\": {\"title\": {\"text\": \"size\"}}, \"colorscale\": [[0.0, \"#000004\"], [0.1111111111111111, \"#1b0c41\"], [0.2222222222222222, \"#4a0c6b\"], [0.3333333333333333, \"#781c6d\"], [0.4444444444444444, \"#a52c60\"], [0.5555555555555556, \"#cf4446\"], [0.6666666666666666, \"#ed6925\"], [0.7777777777777778, \"#fb9b06\"], [0.8888888888888888, \"#f7d13d\"], [1.0, \"#fcffa4\"]]}, \"legend\": {\"tracegroupgap\": 0}, \"margin\": {\"t\": 60}, \"template\": {\"data\": {\"bar\": [{\"error_x\": {\"color\": \"#2a3f5f\"}, \"error_y\": {\"color\": \"#2a3f5f\"}, \"marker\": {\"line\": {\"color\": \"#E5ECF6\", \"width\": 0.5}}, \"type\": \"bar\"}], \"barpolar\": [{\"marker\": {\"line\": {\"color\": \"#E5ECF6\", \"width\": 0.5}}, \"type\": \"barpolar\"}], \"carpet\": [{\"aaxis\": {\"endlinecolor\": \"#2a3f5f\", \"gridcolor\": \"white\", \"linecolor\": \"white\", \"minorgridcolor\": \"white\", \"startlinecolor\": \"#2a3f5f\"}, \"baxis\": {\"endlinecolor\": \"#2a3f5f\", \"gridcolor\": \"white\", \"linecolor\": \"white\", \"minorgridcolor\": \"white\", \"startlinecolor\": \"#2a3f5f\"}, \"type\": \"carpet\"}], \"choropleth\": [{\"colorbar\": {\"outlinewidth\": 0, \"ticks\": \"\"}, \"type\": \"choropleth\"}], \"contour\": [{\"colorbar\": {\"outlinewidth\": 0, \"ticks\": \"\"}, \"colorscale\": [[0.0, \"#0d0887\"], [0.1111111111111111, \"#46039f\"], [0.2222222222222222, \"#7201a8\"], [0.3333333333333333, \"#9c179e\"], [0.4444444444444444, \"#bd3786\"], [0.5555555555555556, \"#d8576b\"], [0.6666666666666666, \"#ed7953\"], [0.7777777777777778, \"#fb9f3a\"], [0.8888888888888888, \"#fdca26\"], [1.0, \"#f0f921\"]], \"type\": \"contour\"}], \"contourcarpet\": [{\"colorbar\": {\"outlinewidth\": 0, \"ticks\": \"\"}, \"type\": \"contourcarpet\"}], \"heatmap\": [{\"colorbar\": {\"outlinewidth\": 0, \"ticks\": \"\"}, \"colorscale\": [[0.0, \"#0d0887\"], [0.1111111111111111, \"#46039f\"], [0.2222222222222222, \"#7201a8\"], [0.3333333333333333, \"#9c179e\"], [0.4444444444444444, \"#bd3786\"], [0.5555555555555556, \"#d8576b\"], [0.6666666666666666, \"#ed7953\"], [0.7777777777777778, \"#fb9f3a\"], [0.8888888888888888, \"#fdca26\"], [1.0, \"#f0f921\"]], \"type\": \"heatmap\"}], \"heatmapgl\": [{\"colorbar\": {\"outlinewidth\": 0, \"ticks\": \"\"}, \"colorscale\": [[0.0, \"#0d0887\"], [0.1111111111111111, \"#46039f\"], [0.2222222222222222, \"#7201a8\"], [0.3333333333333333, \"#9c179e\"], [0.4444444444444444, \"#bd3786\"], [0.5555555555555556, \"#d8576b\"], [0.6666666666666666, \"#ed7953\"], [0.7777777777777778, \"#fb9f3a\"], [0.8888888888888888, \"#fdca26\"], [1.0, \"#f0f921\"]], \"type\": \"heatmapgl\"}], \"histogram\": [{\"marker\": {\"colorbar\": {\"outlinewidth\": 0, \"ticks\": \"\"}}, \"type\": \"histogram\"}], \"histogram2d\": [{\"colorbar\": {\"outlinewidth\": 0, \"ticks\": \"\"}, \"colorscale\": [[0.0, \"#0d0887\"], [0.1111111111111111, \"#46039f\"], [0.2222222222222222, \"#7201a8\"], [0.3333333333333333, \"#9c179e\"], [0.4444444444444444, \"#bd3786\"], [0.5555555555555556, \"#d8576b\"], [0.6666666666666666, \"#ed7953\"], [0.7777777777777778, \"#fb9f3a\"], [0.8888888888888888, \"#fdca26\"], [1.0, \"#f0f921\"]], \"type\": \"histogram2d\"}], \"histogram2dcontour\": [{\"colorbar\": {\"outlinewidth\": 0, \"ticks\": \"\"}, \"colorscale\": [[0.0, \"#0d0887\"], [0.1111111111111111, \"#46039f\"], [0.2222222222222222, \"#7201a8\"], [0.3333333333333333, \"#9c179e\"], [0.4444444444444444, \"#bd3786\"], [0.5555555555555556, \"#d8576b\"], [0.6666666666666666, \"#ed7953\"], [0.7777777777777778, \"#fb9f3a\"], [0.8888888888888888, \"#fdca26\"], [1.0, \"#f0f921\"]], \"type\": \"histogram2dcontour\"}], \"mesh3d\": [{\"colorbar\": {\"outlinewidth\": 0, \"ticks\": \"\"}, \"type\": \"mesh3d\"}], \"parcoords\": [{\"line\": {\"colorbar\": {\"outlinewidth\": 0, \"ticks\": \"\"}}, \"type\": \"parcoords\"}], \"pie\": [{\"automargin\": true, \"type\": \"pie\"}], \"scatter\": [{\"marker\": {\"colorbar\": {\"outlinewidth\": 0, \"ticks\": \"\"}}, \"type\": \"scatter\"}], \"scatter3d\": [{\"line\": {\"colorbar\": {\"outlinewidth\": 0, \"ticks\": \"\"}}, \"marker\": {\"colorbar\": {\"outlinewidth\": 0, \"ticks\": \"\"}}, \"type\": \"scatter3d\"}], \"scattercarpet\": [{\"marker\": {\"colorbar\": {\"outlinewidth\": 0, \"ticks\": \"\"}}, \"type\": \"scattercarpet\"}], \"scattergeo\": [{\"marker\": {\"colorbar\": {\"outlinewidth\": 0, \"ticks\": \"\"}}, \"type\": \"scattergeo\"}], \"scattergl\": [{\"marker\": {\"colorbar\": {\"outlinewidth\": 0, \"ticks\": \"\"}}, \"type\": \"scattergl\"}], \"scattermapbox\": [{\"marker\": {\"colorbar\": {\"outlinewidth\": 0, \"ticks\": \"\"}}, \"type\": \"scattermapbox\"}], \"scatterpolar\": [{\"marker\": {\"colorbar\": {\"outlinewidth\": 0, \"ticks\": \"\"}}, \"type\": \"scatterpolar\"}], \"scatterpolargl\": [{\"marker\": {\"colorbar\": {\"outlinewidth\": 0, \"ticks\": \"\"}}, \"type\": \"scatterpolargl\"}], \"scatterternary\": [{\"marker\": {\"colorbar\": {\"outlinewidth\": 0, \"ticks\": \"\"}}, \"type\": \"scatterternary\"}], \"surface\": [{\"colorbar\": {\"outlinewidth\": 0, \"ticks\": \"\"}, \"colorscale\": [[0.0, \"#0d0887\"], [0.1111111111111111, \"#46039f\"], [0.2222222222222222, \"#7201a8\"], [0.3333333333333333, \"#9c179e\"], [0.4444444444444444, \"#bd3786\"], [0.5555555555555556, \"#d8576b\"], [0.6666666666666666, \"#ed7953\"], [0.7777777777777778, \"#fb9f3a\"], [0.8888888888888888, \"#fdca26\"], [1.0, \"#f0f921\"]], \"type\": \"surface\"}], \"table\": [{\"cells\": {\"fill\": {\"color\": \"#EBF0F8\"}, \"line\": {\"color\": \"white\"}}, \"header\": {\"fill\": {\"color\": \"#C8D4E3\"}, \"line\": {\"color\": \"white\"}}, \"type\": \"table\"}]}, \"layout\": {\"annotationdefaults\": {\"arrowcolor\": \"#2a3f5f\", \"arrowhead\": 0, \"arrowwidth\": 1}, \"coloraxis\": {\"colorbar\": {\"outlinewidth\": 0, \"ticks\": \"\"}}, \"colorscale\": {\"diverging\": [[0, \"#8e0152\"], [0.1, \"#c51b7d\"], [0.2, \"#de77ae\"], [0.3, \"#f1b6da\"], [0.4, \"#fde0ef\"], [0.5, \"#f7f7f7\"], [0.6, \"#e6f5d0\"], [0.7, \"#b8e186\"], [0.8, \"#7fbc41\"], [0.9, \"#4d9221\"], [1, \"#276419\"]], \"sequential\": [[0.0, \"#0d0887\"], [0.1111111111111111, \"#46039f\"], [0.2222222222222222, \"#7201a8\"], [0.3333333333333333, \"#9c179e\"], [0.4444444444444444, \"#bd3786\"], [0.5555555555555556, \"#d8576b\"], [0.6666666666666666, \"#ed7953\"], [0.7777777777777778, \"#fb9f3a\"], [0.8888888888888888, \"#fdca26\"], [1.0, \"#f0f921\"]], \"sequentialminus\": [[0.0, \"#0d0887\"], [0.1111111111111111, \"#46039f\"], [0.2222222222222222, \"#7201a8\"], [0.3333333333333333, \"#9c179e\"], [0.4444444444444444, \"#bd3786\"], [0.5555555555555556, \"#d8576b\"], [0.6666666666666666, \"#ed7953\"], [0.7777777777777778, \"#fb9f3a\"], [0.8888888888888888, \"#fdca26\"], [1.0, \"#f0f921\"]]}, \"colorway\": [\"#636efa\", \"#EF553B\", \"#00cc96\", \"#ab63fa\", \"#FFA15A\", \"#19d3f3\", \"#FF6692\", \"#B6E880\", \"#FF97FF\", \"#FECB52\"], \"font\": {\"color\": \"#2a3f5f\"}, \"geo\": {\"bgcolor\": \"white\", \"lakecolor\": \"white\", \"landcolor\": \"#E5ECF6\", \"showlakes\": true, \"showland\": true, \"subunitcolor\": \"white\"}, \"hoverlabel\": {\"align\": \"left\"}, \"hovermode\": \"closest\", \"mapbox\": {\"style\": \"light\"}, \"paper_bgcolor\": \"white\", \"plot_bgcolor\": \"#E5ECF6\", \"polar\": {\"angularaxis\": {\"gridcolor\": \"white\", \"linecolor\": \"white\", \"ticks\": \"\"}, \"bgcolor\": \"#E5ECF6\", \"radialaxis\": {\"gridcolor\": \"white\", \"linecolor\": \"white\", \"ticks\": \"\"}}, \"scene\": {\"xaxis\": {\"backgroundcolor\": \"#E5ECF6\", \"gridcolor\": \"white\", \"gridwidth\": 2, \"linecolor\": \"white\", \"showbackground\": true, \"ticks\": \"\", \"zerolinecolor\": \"white\"}, \"yaxis\": {\"backgroundcolor\": \"#E5ECF6\", \"gridcolor\": \"white\", \"gridwidth\": 2, \"linecolor\": \"white\", \"showbackground\": true, \"ticks\": \"\", \"zerolinecolor\": \"white\"}, \"zaxis\": {\"backgroundcolor\": \"#E5ECF6\", \"gridcolor\": \"white\", \"gridwidth\": 2, \"linecolor\": \"white\", \"showbackground\": true, \"ticks\": \"\", \"zerolinecolor\": \"white\"}}, \"shapedefaults\": {\"line\": {\"color\": \"#2a3f5f\"}}, \"ternary\": {\"aaxis\": {\"gridcolor\": \"white\", \"linecolor\": \"white\", \"ticks\": \"\"}, \"baxis\": {\"gridcolor\": \"white\", \"linecolor\": \"white\", \"ticks\": \"\"}, \"bgcolor\": \"#E5ECF6\", \"caxis\": {\"gridcolor\": \"white\", \"linecolor\": \"white\", \"ticks\": \"\"}}, \"title\": {\"x\": 0.05}, \"xaxis\": {\"automargin\": true, \"gridcolor\": \"white\", \"linecolor\": \"white\", \"ticks\": \"\", \"title\": {\"standoff\": 15}, \"zerolinecolor\": \"white\", \"zerolinewidth\": 2}, \"yaxis\": {\"automargin\": true, \"gridcolor\": \"white\", \"linecolor\": \"white\", \"ticks\": \"\", \"title\": {\"standoff\": 15}, \"zerolinecolor\": \"white\", \"zerolinewidth\": 2}}}},\n",
       "                        {\"responsive\": true}\n",
       "                    ).then(function(){\n",
       "                            \n",
       "var gd = document.getElementById('3e643871-4f97-4a0a-a012-013c8c6308fe');\n",
       "var x = new MutationObserver(function (mutations, observer) {{\n",
       "        var display = window.getComputedStyle(gd).display;\n",
       "        if (!display || display === 'none') {{\n",
       "            console.log([gd, 'removed!']);\n",
       "            Plotly.purge(gd);\n",
       "            observer.disconnect();\n",
       "        }}\n",
       "}});\n",
       "\n",
       "// Listen for the removal of the full notebook cells\n",
       "var notebookContainer = gd.closest('#notebook-container');\n",
       "if (notebookContainer) {{\n",
       "    x.observe(notebookContainer, {childList: true});\n",
       "}}\n",
       "\n",
       "// Listen for the clearing of the current output cell\n",
       "var outputEl = gd.closest('.output');\n",
       "if (outputEl) {{\n",
       "    x.observe(outputEl, {childList: true});\n",
       "}}\n",
       "\n",
       "                        })\n",
       "                };\n",
       "                });\n",
       "            </script>\n",
       "        </div>"
      ]
     },
     "metadata": {},
     "output_type": "display_data"
    }
   ],
   "source": [
    "px.parallel_categories(tips, color=\"size\", color_continuous_scale=px.\n",
    "            colors.sequential.Inferno)"
   ]
  },
  {
   "cell_type": "code",
   "execution_count": 24,
   "metadata": {},
   "outputs": [
    {
     "data": {
      "text/html": [
       "<div>\n",
       "<style scoped>\n",
       "    .dataframe tbody tr th:only-of-type {\n",
       "        vertical-align: middle;\n",
       "    }\n",
       "\n",
       "    .dataframe tbody tr th {\n",
       "        vertical-align: top;\n",
       "    }\n",
       "\n",
       "    .dataframe thead th {\n",
       "        text-align: right;\n",
       "    }\n",
       "</style>\n",
       "<table border=\"1\" class=\"dataframe\">\n",
       "  <thead>\n",
       "    <tr style=\"text-align: right;\">\n",
       "      <th></th>\n",
       "      <th>t-1</th>\n",
       "      <th>t+1</th>\n",
       "    </tr>\n",
       "  </thead>\n",
       "  <tbody>\n",
       "    <tr>\n",
       "      <td>t-1</td>\n",
       "      <td>1.000000</td>\n",
       "      <td>0.972904</td>\n",
       "    </tr>\n",
       "    <tr>\n",
       "      <td>t+1</td>\n",
       "      <td>0.972904</td>\n",
       "      <td>1.000000</td>\n",
       "    </tr>\n",
       "  </tbody>\n",
       "</table>\n",
       "</div>"
      ],
      "text/plain": [
       "          t-1       t+1\n",
       "t-1  1.000000  0.972904\n",
       "t+1  0.972904  1.000000"
      ]
     },
     "execution_count": 24,
     "metadata": {},
     "output_type": "execute_result"
    }
   ],
   "source": [
    "result"
   ]
  },
  {
   "cell_type": "code",
   "execution_count": 25,
   "metadata": {},
   "outputs": [
    {
     "data": {
      "text/html": [
       "<div>\n",
       "<style scoped>\n",
       "    .dataframe tbody tr th:only-of-type {\n",
       "        vertical-align: middle;\n",
       "    }\n",
       "\n",
       "    .dataframe tbody tr th {\n",
       "        vertical-align: top;\n",
       "    }\n",
       "\n",
       "    .dataframe thead th {\n",
       "        text-align: right;\n",
       "    }\n",
       "</style>\n",
       "<table border=\"1\" class=\"dataframe\">\n",
       "  <thead>\n",
       "    <tr style=\"text-align: right;\">\n",
       "      <th></th>\n",
       "      <th>t-1</th>\n",
       "      <th>t+1</th>\n",
       "    </tr>\n",
       "  </thead>\n",
       "  <tbody>\n",
       "    <tr>\n",
       "      <td>0</td>\n",
       "      <td>NaN</td>\n",
       "      <td>1729425</td>\n",
       "    </tr>\n",
       "    <tr>\n",
       "      <td>1</td>\n",
       "      <td>1729425.0</td>\n",
       "      <td>817840</td>\n",
       "    </tr>\n",
       "    <tr>\n",
       "      <td>2</td>\n",
       "      <td>817840.0</td>\n",
       "      <td>359828</td>\n",
       "    </tr>\n",
       "    <tr>\n",
       "      <td>3</td>\n",
       "      <td>359828.0</td>\n",
       "      <td>129912</td>\n",
       "    </tr>\n",
       "    <tr>\n",
       "      <td>4</td>\n",
       "      <td>129912.0</td>\n",
       "      <td>103044</td>\n",
       "    </tr>\n",
       "    <tr>\n",
       "      <td>...</td>\n",
       "      <td>...</td>\n",
       "      <td>...</td>\n",
       "    </tr>\n",
       "    <tr>\n",
       "      <td>115</td>\n",
       "      <td>1806.0</td>\n",
       "      <td>8012</td>\n",
       "    </tr>\n",
       "    <tr>\n",
       "      <td>116</td>\n",
       "      <td>8012.0</td>\n",
       "      <td>3028</td>\n",
       "    </tr>\n",
       "    <tr>\n",
       "      <td>117</td>\n",
       "      <td>3028.0</td>\n",
       "      <td>4372</td>\n",
       "    </tr>\n",
       "    <tr>\n",
       "      <td>118</td>\n",
       "      <td>4372.0</td>\n",
       "      <td>2526</td>\n",
       "    </tr>\n",
       "    <tr>\n",
       "      <td>119</td>\n",
       "      <td>2526.0</td>\n",
       "      <td>1326</td>\n",
       "    </tr>\n",
       "  </tbody>\n",
       "</table>\n",
       "<p>120 rows × 2 columns</p>\n",
       "</div>"
      ],
      "text/plain": [
       "           t-1      t+1\n",
       "0          NaN  1729425\n",
       "1    1729425.0   817840\n",
       "2     817840.0   359828\n",
       "3     359828.0   129912\n",
       "4     129912.0   103044\n",
       "..         ...      ...\n",
       "115     1806.0     8012\n",
       "116     8012.0     3028\n",
       "117     3028.0     4372\n",
       "118     4372.0     2526\n",
       "119     2526.0     1326\n",
       "\n",
       "[120 rows x 2 columns]"
      ]
     },
     "execution_count": 25,
     "metadata": {},
     "output_type": "execute_result"
    }
   ],
   "source": [
    "dataframe"
   ]
  },
  {
   "cell_type": "code",
   "execution_count": 26,
   "metadata": {},
   "outputs": [
    {
     "data": {
      "text/plain": [
       "<matplotlib.axes._subplots.AxesSubplot at 0xbb3f7c8>"
      ]
     },
     "execution_count": 26,
     "metadata": {},
     "output_type": "execute_result"
    },
    {
     "data": {
      "image/png": "[encoded data removed]",
      "text/plain": [
       "<Figure size 432x288 with 1 Axes>"
      ]
     },
     "metadata": {
      "needs_background": "light"
     },
     "output_type": "display_data"
    }
   ],
   "source": [
    "autocorrelation_plot(a)"
   ]
  },
  {
   "cell_type": "code",
   "execution_count": 31,
   "metadata": {},
   "outputs": [
    {
     "data": {
      "image/png": "[encoded data removed]",
      "text/plain": [
       "<Figure size 432x288 with 1 Axes>"
      ]
     },
     "execution_count": 31,
     "metadata": {},
     "output_type": "execute_result"
    },
    {
     "data": {
      "image/png": "[encoded data removed]",
      "text/plain": [
       "<Figure size 432x288 with 1 Axes>"
      ]
     },
     "metadata": {
      "needs_background": "light"
     },
     "output_type": "display_data"
    }
   ],
   "source": [
    "plot_acf(a, lags=119)"
   ]
  },
  {
   "cell_type": "code",
   "execution_count": 28,
   "metadata": {},
   "outputs": [
    {
     "name": "stdout",
     "output_type": "stream",
     "text": [
      "predicted=4582.169140, expected=3332.000000\n",
      "predicted=4305.069409, expected=9408.000000\n",
      "predicted=6287.004568, expected=5240.000000\n",
      "predicted=6226.484196, expected=4644.000000\n",
      "predicted=4344.277393, expected=3392.000000\n",
      "predicted=4318.695016, expected=7392.000000\n",
      "predicted=5046.790310, expected=1806.000000\n",
      "predicted=5349.051801, expected=8012.000000\n",
      "predicted=5764.761492, expected=3028.000000\n",
      "predicted=4870.137601, expected=4372.000000\n",
      "predicted=5952.695049, expected=2526.000000\n",
      "predicted=3846.968338, expected=1326.000000\n",
      "Test MSE: 7082072.821\n"
     ]
    },
    {
     "data": {
      "image/png": "[encoded data removed]",
      "text/plain": [
       "<Figure size 432x288 with 1 Axes>"
      ]
     },
     "metadata": {
      "needs_background": "light"
     },
     "output_type": "display_data"
    }
   ],
   "source": [
    "X = a.values\n",
    "train, test = X[1:len(X)-12], X[len(X)-12:]\n",
    "# train autoregression\n",
    "model = AR(train)\n",
    "model_fit = model.fit()\n",
    "window = model_fit.k_ar\n",
    "coef = model_fit.params\n",
    "# walk forward over time steps in test\n",
    "history = train[len(train)-window:]\n",
    "history = [history[i] for i in range(len(history))]\n",
    "predictions = list()\n",
    "for t in range(len(test)):\n",
    "    length = len(history)\n",
    "    lag = [history[i] for i in range(length-window,length)]\n",
    "    yhat = coef[0]\n",
    "    for d in range(window):\n",
    "        yhat += coef[d+1] * lag[window-d-1]\n",
    "        obs = test[t]\n",
    "    predictions.append(yhat)\n",
    "    history.append(obs)\n",
    "    print('predicted=%f, expected=%f' % (yhat, obs))\n",
    "error = mean_squared_error(test, predictions)\n",
    "print('Test MSE: %.3f' % error)\n",
    "# plot\n",
    "pyplot.plot(test)\n",
    "pyplot.plot(predictions, color='red')\n",
    "pyplot.show()"
   ]
  },
  {
   "cell_type": "code",
   "execution_count": 29,
   "metadata": {},
   "outputs": [
    {
     "data": {
      "text/plain": [
       "array([3332, 9408, 5240, 4644, 3392, 7392, 1806, 8012, 3028, 4372, 2526,\n",
       "       1326], dtype=int64)"
      ]
     },
     "execution_count": 29,
     "metadata": {},
     "output_type": "execute_result"
    }
   ],
   "source": [
    "test"
   ]
  },
  {
   "cell_type": "code",
   "execution_count": null,
   "metadata": {},
   "outputs": [],
   "source": []
  }
 ],
 "metadata": {
  "kernelspec": {
   "display_name": "Python 3",
   "language": "python",
   "name": "python3"
  },
  "language_info": {
   "codemirror_mode": {
    "name": "ipython",
    "version": 3
   },
   "file_extension": ".py",
   "mimetype": "text/x-python",
   "name": "python",
   "nbconvert_exporter": "python",
   "pygments_lexer": "ipython3",
   "version": "3.7.4"
  }
 },
 "nbformat": 4,
 "nbformat_minor": 2
}
